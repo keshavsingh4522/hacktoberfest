{
 "cells": [
  {
   "cell_type": "markdown",
   "source": [
    "# IMPORT STATEMENTS"
   ],
   "metadata": {}
  },
  {
   "cell_type": "code",
   "execution_count": 72,
   "source": [
    "import numpy as np\n",
    "import pandas as pd\n",
    "from io import StringIO\n",
    "import matplotlib.pyplot as plt\n",
    "from sklearn.metrics import mean_squared_error,mean_absolute_error\n"
   ],
   "outputs": [],
   "metadata": {}
  },
  {
   "cell_type": "markdown",
   "source": [
    "# IMPORTING AND NORMALIZING DATASET"
   ],
   "metadata": {}
  },
  {
   "cell_type": "code",
   "execution_count": 73,
   "source": [
    "df = pd.read_csv('housing.data', header=None)\n",
    "rows = df.shape[0]"
   ],
   "outputs": [],
   "metadata": {}
  },
  {
   "cell_type": "code",
   "execution_count": 74,
   "source": [
    "X = df.loc[:,[0,1,2,4,5,6,7,8,9,10,11,12]]\n",
    "\n",
    "X=(X-X.min())/(X.max()-X.min())\n",
    "X[\"3\"] = df.loc[:,3]\n",
    "X[\"13\"] = rows*[1]\n",
    "\n",
    "Y = df.iloc[:,13]\n",
    "np.random.seed(9)\n",
    "arr_rand = np.random.rand(X.shape[0])\n",
    "split = arr_rand < np.percentile(arr_rand, 70)\n",
    "X_train = X[split]\n",
    "Y_train = Y[split]\n",
    "X_test =  X[~split]\n",
    "Y_test = Y[~split]\n"
   ],
   "outputs": [],
   "metadata": {}
  },
  {
   "cell_type": "code",
   "execution_count": 75,
   "source": [
    "epsilon = 0.01\n",
    "def mean_absolute_relative_error(y, yhat):\n",
    "  return (100/y.size)*np.sum((np.abs(y-yhat)/(np.abs(y) + epsilon)))"
   ],
   "outputs": [],
   "metadata": {}
  },
  {
   "cell_type": "markdown",
   "source": [
    "# MULTVARIATE LINEAR REGRESSION (CLOSED FORM)"
   ],
   "metadata": {}
  },
  {
   "cell_type": "code",
   "execution_count": 76,
   "source": [
    "\n",
    "W = np.linalg.inv(X_train.T@X_train)@(X_train.T@Y_train)\n",
    "\n",
    "\n",
    "X_line = np.linspace(0,50,100)\n",
    "\n",
    "y_predicted = X_test @ W\n",
    "Y_line = X_line\n",
    "plt.scatter(y_predicted,Y_test)\n",
    "plt.xlabel('y_predicted')\n",
    "plt.ylabel('y')\n",
    "plt.plot(X_line,Y_line , '-r') \n",
    "\n",
    "\n",
    "\n",
    "MSE = mean_squared_error(Y_test, y_predicted)\n",
    "print(\"Mean Square Error : \", MSE)\n",
    "MAE = mean_absolute_error(Y_test, y_predicted)\n",
    "print(\"Mean Absolute Error : \", MAE)\n",
    "MARE = mean_absolute_relative_error(Y_test, y_predicted)\n",
    "print(\"Mean Absolute Relative Error : \", MARE)\n"
   ],
   "outputs": [
    {
     "output_type": "stream",
     "name": "stdout",
     "text": [
      "Mean Square Error :  21.309314289856715\n",
      "Mean Absolute Error :  3.313763534970859\n",
      "Mean Absolute Relative Error :  16.92419353858135\n"
     ]
    },
    {
     "output_type": "display_data",
     "data": {
      "image/png": "[encoded data removed]",
      "text/plain": [
       "<Figure size 432x288 with 1 Axes>"
      ]
     },
     "metadata": {
      "needs_background": "light"
     }
    }
   ],
   "metadata": {}
  },
  {
   "cell_type": "markdown",
   "source": [
    "# UNIVARIATE LINEAR REGRESSION (CLOSED FORM)  "
   ],
   "metadata": {}
  },
  {
   "cell_type": "code",
   "execution_count": 77,
   "source": [
    "X_uni = X_train.iloc[:,11]\n",
    "X_dummied = np.zeros((X_train.shape[0], 2))\n",
    "X_dummied[:,1] = 1\n",
    "X_dummied[:,0] = X_uni \n",
    "m_disc, b_disc = np.linalg.inv(X_dummied.T@X_dummied)@(X_dummied.T@Y_train)\n",
    "\n",
    "Yhat = m_disc*X_test.iloc[:,11] + b_disc\n",
    "\n",
    "MSE = mean_squared_error(Y_test, Yhat)\n",
    "print(\"Mean Square Error : \", MSE)\n",
    "MAE = mean_absolute_error(Y_test, Yhat)\n",
    "print(\"Mean Absolute Error : \", MAE)\n",
    "MARE = mean_absolute_relative_error(Y_test, Yhat)\n",
    "print(\"Mean Absolute Relative Error : \", MARE)\n",
    "plt.scatter(X_test.iloc[:,11], Y_test)\n",
    "plt.plot(X_test.iloc[:,11], Yhat, color=\"red\")\n",
    "plt.show()"
   ],
   "outputs": [
    {
     "output_type": "stream",
     "name": "stdout",
     "text": [
      "Mean Square Error :  38.670834432648064\n",
      "Mean Absolute Error :  4.63109735870525\n",
      "Mean Absolute Relative Error :  21.97307578962116\n"
     ]
    },
    {
     "output_type": "display_data",
     "data": {
      "image/png": "[encoded data removed]",
      "text/plain": [
       "<Figure size 432x288 with 1 Axes>"
      ]
     },
     "metadata": {
      "needs_background": "light"
     }
    }
   ],
   "metadata": {}
  },
  {
   "cell_type": "markdown",
   "source": [
    "# UNIVARIATE GRADIENT DESCENT "
   ],
   "metadata": {}
  },
  {
   "cell_type": "code",
   "execution_count": 78,
   "source": [
    "learning_rate = 0.1\n",
    "n_iters = 5000"
   ],
   "outputs": [],
   "metadata": {}
  },
  {
   "cell_type": "code",
   "execution_count": 79,
   "source": [
    "m_disc, b_disc = np.random.uniform(low=-32, high=32, size=2)\n",
    "length = X_train.shape[0]\n",
    "costs = []\n",
    "for _ in range(n_iters):\n",
    "    yhat = m_disc*X_uni + b_disc\n",
    "    cost = np.mean((Y_train - yhat)**2)\n",
    "    costs.append(cost)\n",
    "    dm = (1/length)*(-2*Y_train.T@X_uni +2*m_disc*X_uni.T@X_uni +2*b_disc*np.sum(X_uni))\n",
    "    db = (1/length)*(-2*np.sum(Y_train)+2*m_disc*np.sum(X_uni) +2*length*b_disc )\n",
    "    m_disc = m_disc - learning_rate*dm \n",
    "    b_disc = b_disc - learning_rate*db\n",
    "\n",
    "plt.plot(costs)\n",
    "Yhat = m_disc*X_test.iloc[:,11] + b_disc\n",
    "MSE = mean_squared_error(Y_test, Yhat)\n",
    "print(\"Mean Square Error : \", MSE)\n",
    "MAE = mean_absolute_error(Y_test, Yhat)\n",
    "print(\"Mean Absolute Error : \", MAE)\n",
    "MARE = mean_absolute_relative_error(Y_test, Yhat)\n",
    "print(\"Mean Absolute Relative Error : \", MARE)"
   ],
   "outputs": [
    {
     "output_type": "stream",
     "name": "stdout",
     "text": [
      "Mean Square Error :  38.67083443264801\n",
      "Mean Absolute Error :  4.6310973587052295\n",
      "Mean Absolute Relative Error :  21.97307578962102\n"
     ]
    },
    {
     "output_type": "display_data",
     "data": {
      "image/png": "[encoded data removed]",
      "text/plain": [
       "<Figure size 432x288 with 1 Axes>"
      ]
     },
     "metadata": {
      "needs_background": "light"
     }
    }
   ],
   "metadata": {}
  },
  {
   "cell_type": "markdown",
   "source": [
    "# MULTIVARIATE GRADIENT DECENT"
   ],
   "metadata": {}
  },
  {
   "cell_type": "code",
   "execution_count": 80,
   "source": [
    "learning_rate = 0.1\n",
    "n_iters = 5000"
   ],
   "outputs": [],
   "metadata": {}
  },
  {
   "cell_type": "code",
   "execution_count": 81,
   "source": [
    "B = np.random.uniform(low=-10, high=10, size=14)\n",
    "costs = []\n",
    "length = X_train.shape[0]\n",
    "X_input = X_train.iloc[:,0:13]\n",
    "X_input[\"13\"] = length*[1]\n",
    "\n",
    "for _ in range(n_iters):\n",
    "    h = X_input@B\n",
    "    loss = h - Y_train\n",
    "    gradient = X_input.T@loss/length\n",
    "    B = B - learning_rate*gradient\n",
    "    cost = np.sum((X_input@B - Y_train)**2) / (2*length)\n",
    "    costs.append(cost)\n",
    "# B\n",
    "\n",
    "Yhat = X_test@B\n",
    "MSE = mean_squared_error(Y_test, Yhat)\n",
    "print(\"Mean Square Error : \", MSE)\n",
    "MAE = mean_absolute_error(Y_test, Yhat)\n",
    "print(\"Mean Absolute Error : \", MAE)\n",
    "MARE = mean_absolute_relative_error(Y_test, Yhat)\n",
    "print(\"Mean Absolute Relative Error : \", MARE)\n",
    "plt.plot(costs)"
   ],
   "outputs": [
    {
     "output_type": "stream",
     "name": "stdout",
     "text": [
      "Mean Square Error :  21.117471007916066\n",
      "Mean Absolute Error :  3.2754778491173986\n",
      "Mean Absolute Relative Error :  16.773965979548535\n"
     ]
    },
    {
     "output_type": "execute_result",
     "data": {
      "text/plain": [
       "[<matplotlib.lines.Line2D at 0x15ecf8c70>]"
      ]
     },
     "metadata": {},
     "execution_count": 81
    },
    {
     "output_type": "display_data",
     "data": {
      "image/png": "[encoded data removed]",
      "text/plain": [
       "<Figure size 432x288 with 1 Axes>"
      ]
     },
     "metadata": {
      "needs_background": "light"
     }
    }
   ],
   "metadata": {}
  },
  {
   "cell_type": "markdown",
   "source": [
    "# MULTIVARAITE NEWTON'S METHOD"
   ],
   "metadata": {}
  },
  {
   "cell_type": "code",
   "execution_count": 82,
   "source": [
    "n_iters = 2800"
   ],
   "outputs": [],
   "metadata": {}
  },
  {
   "cell_type": "code",
   "execution_count": 83,
   "source": [
    "B = np.random.uniform(low=-10, high=10, size=14)\n",
    "length = X_train.shape[0]\n",
    "X_input = X_train.iloc[:,0:13]\n",
    "X_input[\"13\"] = length*[1]\n",
    "costs = []\n",
    "for _ in range(n_iters):\n",
    "    h = X_input@B\n",
    "    loss = h - Y_train\n",
    "    gradient = X_input.T@loss/length\n",
    "    B = B - np.linalg.inv(X_input.T@X_input)@gradient\n",
    "    cost = np.sum((X_input@B - Y_train)**2) / (2*length)\n",
    "    costs.append(cost)\n",
    "\n",
    "Yhat = X_test@B\n",
    "MSE = mean_squared_error(Y_test, Yhat)\n",
    "print(\"Mean Square Error : \", MSE)\n",
    "MAE = mean_absolute_error(Y_test, Yhat)\n",
    "print(\"Mean Absolute Error : \", MAE)\n",
    "MARE = mean_absolute_relative_error(Y_test, Yhat)\n",
    "print(\"Mean Absolute Relative Error : \", MARE)\n",
    "plt.plot(costs)"
   ],
   "outputs": [
    {
     "output_type": "stream",
     "name": "stdout",
     "text": [
      "Mean Square Error :  21.31723475480908\n",
      "Mean Absolute Error :  3.312402822818209\n",
      "Mean Absolute Relative Error :  16.913841846554988\n"
     ]
    },
    {
     "output_type": "execute_result",
     "data": {
      "text/plain": [
       "[<matplotlib.lines.Line2D at 0x15ed58820>]"
      ]
     },
     "metadata": {},
     "execution_count": 83
    },
    {
     "output_type": "display_data",
     "data": {
      "image/png": "[encoded data removed]",
      "text/plain": [
       "<Figure size 432x288 with 1 Axes>"
      ]
     },
     "metadata": {
      "needs_background": "light"
     }
    }
   ],
   "metadata": {}
  },
  {
   "cell_type": "markdown",
   "source": [
    "# UNIVARIATE NEWTON METHOD"
   ],
   "metadata": {}
  },
  {
   "cell_type": "code",
   "execution_count": 84,
   "source": [
    "n_iters = 2800"
   ],
   "outputs": [],
   "metadata": {}
  },
  {
   "cell_type": "code",
   "execution_count": 85,
   "source": [
    "m_disc, b_disc = np.random.uniform(low = -32, high = 32, size = 2)\n",
    "X_uni = X_train.iloc[:,11]\n",
    "costs = []\n",
    "length = X_train.shape[0]\n",
    "for _ in range(n_iters):\n",
    "    yhat = m_disc*X_uni + b_disc\n",
    "    cost = np.mean((Y_train - yhat)**2)\n",
    "    costs.append(cost)\n",
    "    dm1 = (1/length)*(-2*Y_train.T@X_uni +2*m_disc*X_uni.T@X_uni +2*b_disc*np.sum(X_uni))\n",
    "    dm2 = (1/length)*(2*X_uni.T@X_uni)\n",
    "    db1 = (1/length)*(-2*np.sum(Y_train)+2*m_disc*np.sum(X_uni) +2*length*b_disc )\n",
    "    db2 = (1/length)*(2*length)\n",
    "    m_disc = m_disc - (dm1/dm2) \n",
    "    b_disc = b_disc - (db1/db2)\n",
    "\n",
    "\n",
    "Yhat = m_disc*X_test.iloc[:,11] + b_disc\n",
    "MSE = mean_squared_error(Y_test, Yhat)\n",
    "print(\"Mean Square Error : \", MSE)\n",
    "MAE = mean_absolute_error(Y_test, Yhat)\n",
    "print(\"Mean Absolute Error : \", MAE)\n",
    "MARE = mean_absolute_relative_error(Y_test, Yhat)\n",
    "print(\"Mean Absolute Relative Error : \", MARE)\n",
    "plt.plot(costs)\n"
   ],
   "outputs": [
    {
     "output_type": "stream",
     "name": "stdout",
     "text": [
      "Mean Square Error :  38.67083443264806\n",
      "Mean Absolute Error :  4.631097358705244\n",
      "Mean Absolute Relative Error :  21.973075789621124\n"
     ]
    },
    {
     "output_type": "execute_result",
     "data": {
      "text/plain": [
       "[<matplotlib.lines.Line2D at 0x15edb8820>]"
      ]
     },
     "metadata": {},
     "execution_count": 85
    },
    {
     "output_type": "display_data",
     "data": {
      "image/png": "[encoded data removed]",
      "text/plain": [
       "<Figure size 432x288 with 1 Axes>"
      ]
     },
     "metadata": {
      "needs_background": "light"
     }
    }
   ],
   "metadata": {}
  }
 ],
 "metadata": {
  "orig_nbformat": 4,
  "language_info": {
   "name": "python",
   "version": "3.8.12",
   "mimetype": "text/x-python",
   "codemirror_mode": {
    "name": "ipython",
    "version": 3
   },
   "pygments_lexer": "ipython3",
   "nbconvert_exporter": "python",
   "file_extension": ".py"
  },
  "kernelspec": {
   "name": "python3",
   "display_name": "Python 3.8.12 64-bit"
  },
  "interpreter": {
   "hash": "ff94885aa2d97705a9dae03869c2058fa855d1acd9df351499300343e2e591a2"
  }
 },
 "nbformat": 4,
 "nbformat_minor": 2
}