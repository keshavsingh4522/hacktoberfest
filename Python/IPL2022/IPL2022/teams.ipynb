{
 "cells": [
  {
   "cell_type": "code",
   "execution_count": 2,
   "id": "987b5bf2",
   "metadata": {},
   "outputs": [],
   "source": [
    "import pandas as pd\n",
    "df = pd.read_html(\"https://www.sportskeeda.com/cricket/ipl-teams-and-squads\")\n",
    "\n",
    "teams = [\"RCB\",\n",
    "\"MI\",\n",
    "\"CSK\",\n",
    "\"DC\",\n",
    "\"PBKS\",\n",
    "\"KKR\",\n",
    "\"RR\",\n",
    "\"SRH\",\n",
    "\"LSG\",\n",
    "\"GT\"]\n",
    "\n",
    "for i in range(1,11):\n",
    "    df[i].to_csv(teams[i-1]+\".csv\",index=False,header=None)"
   ]
  },
  {
   "cell_type": "code",
   "execution_count": null,
   "id": "e67341e0",
   "metadata": {},
   "outputs": [],
   "source": []
  }
 ],
 "metadata": {
  "kernelspec": {
   "display_name": "Python 3 (ipykernel)",
   "language": "python",
   "name": "python3"
  },
  "language_info": {
   "codemirror_mode": {
    "name": "ipython",
    "version": 3
   },
   "file_extension": ".py",
   "mimetype": "text/x-python",
   "name": "python",
   "nbconvert_exporter": "python",
   "pygments_lexer": "ipython3",
   "version": "3.9.7"
  }
 },
 "nbformat": 4,
 "nbformat_minor": 5
}
