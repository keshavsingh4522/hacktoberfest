{
 "cells": [
  {
   "cell_type": "code",
   "execution_count": 26,
   "id": "8d8c6abf",
   "metadata": {},
   "outputs": [],
   "source": [
    "import pandas as pd\n",
    "import numpy as np\n",
    "import random"
   ]
  },
  {
   "cell_type": "code",
   "execution_count": 27,
   "id": "bc6618b7",
   "metadata": {},
   "outputs": [],
   "source": [
    "team1 = pd.read_csv(\"RR.csv\")\n",
    "team2 = pd.read_csv(\"SRH.csv\")"
   ]
  },
  {
   "cell_type": "code",
   "execution_count": 28,
   "id": "8173f5f1",
   "metadata": {},
   "outputs": [],
   "source": [
    "all = pd.concat([team1[team1[\"Playing\"] == 1],team2[team2[\"Playing\"] == 1]])\n",
    "all.index = [i for i in range(1,len(all)+1)]"
   ]
  },
  {
   "cell_type": "code",
   "execution_count": 29,
   "id": "7fac403a",
   "metadata": {},
   "outputs": [],
   "source": [
    "player_id = dict()\n",
    "for i in range(1,len(all)+1):\n",
    "    player_id[i] = all[\"Player\"][i]"
   ]
  },
  {
   "cell_type": "code",
   "execution_count": 30,
   "id": "9c72fa4c",
   "metadata": {},
   "outputs": [
    {
     "name": "stdout",
     "output_type": "stream",
     "text": [
      "{1: 'Yashasvi Jaiswal (R)', 2: 'Devdutt Padikkal', 3: 'Shimron Hetmyer', 4: 'Sanju Samson (R)', 5: 'Jos Buttler (R)', 6: 'Riyan Parag', 7: 'Nathan Coulter Nile', 8: 'Yuzvendra Chahal', 9: 'Prasidh Krishna', 10: 'Trent Boult', 11: 'Ravichandran Ashwin', 12: 'Kane Williamson (R)', 13: 'Aiden Markram', 14: 'Rahul Tripathi', 15: 'Nicholas Pooran', 16: 'Abdul Samad (R)', 17: 'Abhishek Sharma', 18: 'Washington Sundar', 19: 'Umran Malik (R)', 20: 'Romario Shepherd', 21: 'Bhuvneshwar Kumar', 22: 'T Natarajan'}\n"
     ]
    }
   ],
   "source": [
    "print(player_id)"
   ]
  },
  {
   "cell_type": "code",
   "execution_count": 31,
   "id": "a4275b4b",
   "metadata": {},
   "outputs": [],
   "source": [
    "captains = [1,2,3,4,5,10,12,13,14,21,22,19]\n",
    "vice_captains = [1,2,3,4,5,10,12,13,14,21,22,19]"
   ]
  },
  {
   "cell_type": "code",
   "execution_count": null,
   "id": "e7872f8f",
   "metadata": {},
   "outputs": [],
   "source": []
  },
  {
   "cell_type": "code",
   "execution_count": 32,
   "id": "edfbc801",
   "metadata": {},
   "outputs": [],
   "source": [
    "def check(teams,team):\n",
    "    if len(set(team)) == 11:\n",
    "        return check_existing(teams,team)\n",
    "\n",
    "    return False\n",
    "        \n",
    "def check_existing(teams,team):\n",
    "    try:\n",
    "        for i in teams:\n",
    "            if sum(i[2:]) == sum(team[2:]):\n",
    "                return False\n",
    "        if sum(all.loc[team][\"Points\"]) <= 100:\n",
    "            if all.loc[team][\"Role\"].value_counts()[\"Batter\"] > 2:\n",
    "                if all.loc[team][\"Role\"].value_counts()[\"Bowler\"] > 2:\n",
    "                    if all.loc[team][\"Role\"].value_counts()[\"All-rounder\"] > 0:\n",
    "                        if all.loc[team][\"Role\"].value_counts()[\"Wicket-keeper\"] > 0:\n",
    "                            return True\n",
    "    except:\n",
    "        return False\n",
    "    return False"
   ]
  },
  {
   "cell_type": "code",
   "execution_count": null,
   "id": "47234543",
   "metadata": {},
   "outputs": [],
   "source": []
  },
  {
   "cell_type": "code",
   "execution_count": 33,
   "id": "04c93872",
   "metadata": {},
   "outputs": [
    {
     "data": {
      "text/plain": [
       "[[14, 21, 22, 11, 3, 1, 18, 5, 16, 7, 15],\n",
       " [2, 3, 5, 9, 19, 15, 6, 11, 21, 7, 14],\n",
       " [21, 2, 20, 22, 13, 4, 3, 16, 8, 15, 10],\n",
       " [21, 3, 8, 7, 9, 16, 2, 15, 18, 10, 6],\n",
       " [1, 12, 2, 20, 22, 17, 7, 10, 16, 5, 3],\n",
       " [21, 4, 11, 8, 13, 15, 12, 1, 16, 18, 2],\n",
       " [5, 12, 6, 19, 20, 15, 2, 17, 3, 21, 7],\n",
       " [22, 4, 21, 15, 14, 3, 10, 18, 16, 13, 8],\n",
       " [14, 4, 21, 20, 15, 16, 9, 13, 11, 10, 2],\n",
       " [21, 14, 19, 11, 18, 22, 16, 9, 12, 13, 5],\n",
       " [13, 4, 21, 12, 16, 15, 7, 1, 22, 3, 11],\n",
       " [14, 4, 9, 8, 1, 21, 3, 2, 20, 18, 6],\n",
       " [14, 3, 9, 1, 12, 8, 18, 19, 5, 10, 15],\n",
       " [1, 12, 7, 8, 17, 11, 15, 5, 10, 3, 13],\n",
       " [2, 10, 8, 14, 12, 5, 4, 7, 13, 9, 22],\n",
       " [14, 19, 4, 21, 13, 2, 20, 15, 12, 8, 18],\n",
       " [3, 1, 4, 18, 8, 22, 16, 10, 21, 14, 15],\n",
       " [1, 22, 9, 5, 18, 6, 16, 8, 10, 2, 7],\n",
       " [3, 14, 19, 5, 13, 17, 7, 22, 16, 8, 20],\n",
       " [5, 4, 14, 2, 22, 21, 11, 3, 20, 1, 9],\n",
       " [4, 14, 22, 18, 10, 13, 1, 11, 17, 20, 12],\n",
       " [5, 14, 21, 22, 12, 16, 1, 18, 15, 10, 6],\n",
       " [14, 12, 10, 6, 16, 2, 19, 15, 3, 11, 17],\n",
       " [3, 4, 7, 22, 13, 9, 16, 6, 19, 20, 14],\n",
       " [14, 1, 6, 11, 10, 2, 22, 4, 3, 13, 16],\n",
       " [14, 13, 3, 2, 10, 4, 16, 1, 8, 7, 5],\n",
       " [12, 1, 4, 9, 16, 15, 14, 20, 5, 8, 21],\n",
       " [4, 21, 2, 14, 16, 9, 18, 1, 8, 22, 3],\n",
       " [5, 2, 3, 12, 18, 6, 19, 10, 22, 1, 13],\n",
       " [13, 3, 4, 5, 11, 1, 21, 14, 12, 22, 2],\n",
       " [5, 22, 17, 2, 6, 4, 16, 1, 3, 8, 21],\n",
       " [2, 13, 10, 9, 16, 21, 6, 11, 15, 1, 12],\n",
       " [19, 10, 21, 16, 11, 5, 8, 20, 22, 14, 12],\n",
       " [1, 13, 14, 10, 17, 19, 6, 11, 15, 12, 2],\n",
       " [10, 22, 17, 14, 15, 3, 1, 19, 18, 21, 12],\n",
       " [22, 14, 15, 5, 9, 10, 7, 13, 2, 3, 16],\n",
       " [2, 3, 16, 7, 18, 5, 20, 9, 6, 21, 13],\n",
       " [10, 1, 5, 6, 3, 22, 20, 19, 14, 12, 13],\n",
       " [12, 21, 2, 6, 18, 7, 10, 4, 3, 15, 1],\n",
       " [14, 1, 17, 19, 16, 4, 15, 21, 6, 11, 7],\n",
       " [19, 4, 11, 15, 1, 22, 18, 9, 12, 14, 3],\n",
       " [19, 4, 22, 1, 10, 9, 7, 16, 3, 12, 20],\n",
       " [19, 2, 7, 12, 1, 3, 22, 8, 10, 15, 6],\n",
       " [1, 5, 11, 15, 2, 16, 18, 4, 10, 21, 22],\n",
       " [10, 19, 7, 8, 4, 14, 9, 1, 13, 3, 18],\n",
       " [21, 19, 15, 11, 13, 2, 4, 10, 12, 1, 14],\n",
       " [10, 22, 6, 12, 5, 11, 14, 3, 7, 16, 2],\n",
       " [1, 4, 2, 8, 5, 12, 19, 15, 20, 17, 11],\n",
       " [14, 19, 17, 5, 9, 7, 8, 2, 3, 1, 10],\n",
       " [3, 5, 12, 8, 16, 19, 2, 21, 10, 18, 17],\n",
       " [19, 21, 2, 7, 17, 13, 5, 1, 8, 12, 3],\n",
       " [2, 19, 22, 10, 20, 18, 16, 14, 7, 15, 8],\n",
       " [1, 12, 18, 20, 16, 7, 4, 19, 22, 13, 3],\n",
       " [19, 5, 1, 7, 12, 4, 3, 15, 6, 10, 14],\n",
       " [2, 3, 20, 12, 11, 4, 6, 17, 7, 10, 8],\n",
       " [21, 13, 15, 22, 12, 20, 8, 1, 2, 6, 4],\n",
       " [13, 22, 16, 3, 12, 2, 11, 9, 8, 21, 4],\n",
       " [5, 10, 12, 2, 6, 8, 16, 14, 3, 1, 9],\n",
       " [21, 10, 9, 6, 4, 11, 2, 14, 5, 16, 7],\n",
       " [12, 2, 14, 20, 5, 9, 21, 16, 22, 15, 13]]"
      ]
     },
     "execution_count": 33,
     "metadata": {},
     "output_type": "execute_result"
    }
   ],
   "source": [
    "teams = []\n",
    "for i in range(60):\n",
    "    team = []\n",
    "    while(not check(teams,team)):\n",
    "        team = []\n",
    "        team.append(random.choice(captains))\n",
    "        team.append(random.choice(vice_captains))\n",
    "        [team.append(i) for i in random.choices(range(1,23),k=9)]\n",
    "    teams.append(team)\n",
    "teams"
   ]
  },
  {
   "cell_type": "code",
   "execution_count": 34,
   "id": "321bec92",
   "metadata": {},
   "outputs": [
    {
     "name": "stdout",
     "output_type": "stream",
     "text": [
      "1 :['Washington Sundar', 'Rahul Tripathi C ', 'Shimron Hetmyer', 'Yashasvi Jaiswal (R)', 'Abdul Samad (R)', 'Bhuvneshwar Kumar VC ', 'T Natarajan', 'Ravichandran Ashwin', 'Nathan Coulter Nile', 'Jos Buttler (R)', 'Nicholas Pooran']\n",
      "2 :['Riyan Parag', 'Devdutt Padikkal C ', 'Shimron Hetmyer VC ', 'Rahul Tripathi', 'Prasidh Krishna', 'Umran Malik (R)', 'Ravichandran Ashwin', 'Bhuvneshwar Kumar', 'Nathan Coulter Nile', 'Jos Buttler (R)', 'Nicholas Pooran']\n",
      "3 :['Romario Shepherd', 'Aiden Markram', 'Devdutt Padikkal VC ', 'Shimron Hetmyer', 'Abdul Samad (R)', 'Bhuvneshwar Kumar C ', 'T Natarajan', 'Yuzvendra Chahal', 'Trent Boult', 'Sanju Samson (R)', 'Nicholas Pooran']\n",
      "4 :['Washington Sundar', 'Riyan Parag', 'Shimron Hetmyer VC ', 'Abdul Samad (R)', 'Devdutt Padikkal', 'Bhuvneshwar Kumar C ', 'Yuzvendra Chahal', 'Nathan Coulter Nile', 'Prasidh Krishna', 'Trent Boult', 'Nicholas Pooran']\n",
      "5 :['Romario Shepherd', 'Abhishek Sharma', 'Yashasvi Jaiswal (R) C ', 'Kane Williamson (R) VC ', 'Devdutt Padikkal', 'Abdul Samad (R)', 'Shimron Hetmyer', 'T Natarajan', 'Nathan Coulter Nile', 'Trent Boult', 'Jos Buttler (R)']\n",
      "6 :['Aiden Markram', 'Washington Sundar', 'Kane Williamson (R)', 'Yashasvi Jaiswal (R)', 'Abdul Samad (R)', 'Devdutt Padikkal', 'Bhuvneshwar Kumar C ', 'Ravichandran Ashwin', 'Yuzvendra Chahal', 'Sanju Samson (R) VC ', 'Nicholas Pooran']\n",
      "7 :['Riyan Parag', 'Romario Shepherd', 'Abhishek Sharma', 'Kane Williamson (R) VC ', 'Devdutt Padikkal', 'Shimron Hetmyer', 'Umran Malik (R)', 'Bhuvneshwar Kumar', 'Nathan Coulter Nile', 'Jos Buttler (R) C ', 'Nicholas Pooran']\n",
      "8 :['Washington Sundar', 'Aiden Markram', 'Rahul Tripathi', 'Shimron Hetmyer', 'Abdul Samad (R)', 'T Natarajan C ', 'Bhuvneshwar Kumar', 'Trent Boult', 'Yuzvendra Chahal', 'Sanju Samson (R) VC ', 'Nicholas Pooran']\n",
      "9 :['Romario Shepherd', 'Aiden Markram', 'Rahul Tripathi C ', 'Abdul Samad (R)', 'Devdutt Padikkal', 'Bhuvneshwar Kumar', 'Prasidh Krishna', 'Ravichandran Ashwin', 'Trent Boult', 'Sanju Samson (R) VC ', 'Nicholas Pooran']\n",
      "10 :['Washington Sundar', 'Aiden Markram', 'Rahul Tripathi VC ', 'Abdul Samad (R)', 'Kane Williamson (R)', 'Bhuvneshwar Kumar C ', 'Umran Malik (R)', 'Ravichandran Ashwin', 'T Natarajan', 'Prasidh Krishna', 'Jos Buttler (R)']\n",
      "11 :['Aiden Markram C ', 'Kane Williamson (R)', 'Abdul Samad (R)', 'Yashasvi Jaiswal (R)', 'Shimron Hetmyer', 'Bhuvneshwar Kumar', 'Nathan Coulter Nile', 'T Natarajan', 'Ravichandran Ashwin', 'Sanju Samson (R) VC ', 'Nicholas Pooran']\n",
      "12 :['Romario Shepherd', 'Washington Sundar', 'Riyan Parag', 'Rahul Tripathi C ', 'Yashasvi Jaiswal (R)', 'Shimron Hetmyer', 'Devdutt Padikkal', 'Prasidh Krishna', 'Yuzvendra Chahal', 'Bhuvneshwar Kumar', 'Sanju Samson (R) VC ']\n",
      "13 :['Washington Sundar', 'Rahul Tripathi C ', 'Shimron Hetmyer VC ', 'Yashasvi Jaiswal (R)', 'Kane Williamson (R)', 'Prasidh Krishna', 'Yuzvendra Chahal', 'Umran Malik (R)', 'Trent Boult', 'Jos Buttler (R)', 'Nicholas Pooran']\n",
      "14 :['Abhishek Sharma', 'Aiden Markram', 'Yashasvi Jaiswal (R) C ', 'Kane Williamson (R) VC ', 'Shimron Hetmyer', 'Nathan Coulter Nile', 'Yuzvendra Chahal', 'Ravichandran Ashwin', 'Trent Boult', 'Nicholas Pooran', 'Jos Buttler (R)']\n",
      "15 :['Aiden Markram', 'Devdutt Padikkal C ', 'Rahul Tripathi', 'Kane Williamson (R)', 'Trent Boult VC ', 'Yuzvendra Chahal', 'Nathan Coulter Nile', 'Prasidh Krishna', 'T Natarajan', 'Jos Buttler (R)', 'Sanju Samson (R)']\n",
      "16 :['Aiden Markram', 'Romario Shepherd', 'Washington Sundar', 'Rahul Tripathi C ', 'Devdutt Padikkal', 'Kane Williamson (R)', 'Umran Malik (R) VC ', 'Bhuvneshwar Kumar', 'Yuzvendra Chahal', 'Sanju Samson (R)', 'Nicholas Pooran']\n",
      "17 :['Washington Sundar', 'Shimron Hetmyer C ', 'Yashasvi Jaiswal (R) VC ', 'Abdul Samad (R)', 'Rahul Tripathi', 'Yuzvendra Chahal', 'T Natarajan', 'Trent Boult', 'Bhuvneshwar Kumar', 'Sanju Samson (R)', 'Nicholas Pooran']\n",
      "18 :['Washington Sundar', 'Riyan Parag', 'Yashasvi Jaiswal (R) C ', 'Abdul Samad (R)', 'Devdutt Padikkal', 'T Natarajan VC ', 'Prasidh Krishna', 'Yuzvendra Chahal', 'Trent Boult', 'Nathan Coulter Nile', 'Jos Buttler (R)']\n",
      "19 :['Aiden Markram', 'Abhishek Sharma', 'Romario Shepherd', 'Shimron Hetmyer C ', 'Rahul Tripathi VC ', 'Abdul Samad (R)', 'Umran Malik (R)', 'Nathan Coulter Nile', 'T Natarajan', 'Yuzvendra Chahal', 'Jos Buttler (R)']\n",
      "20 :['Romario Shepherd', 'Rahul Tripathi', 'Devdutt Padikkal', 'Shimron Hetmyer', 'Yashasvi Jaiswal (R)', 'T Natarajan', 'Bhuvneshwar Kumar', 'Ravichandran Ashwin', 'Prasidh Krishna', 'Jos Buttler (R) C ', 'Sanju Samson (R) VC ']\n",
      "21 :['Washington Sundar', 'Aiden Markram', 'Abhishek Sharma', 'Romario Shepherd', 'Rahul Tripathi VC ', 'Yashasvi Jaiswal (R)', 'Kane Williamson (R)', 'T Natarajan', 'Trent Boult', 'Ravichandran Ashwin', 'Sanju Samson (R) C ']\n",
      "22 :['Washington Sundar', 'Riyan Parag', 'Rahul Tripathi VC ', 'Kane Williamson (R)', 'Abdul Samad (R)', 'Yashasvi Jaiswal (R)', 'Bhuvneshwar Kumar', 'T Natarajan', 'Trent Boult', 'Jos Buttler (R) C ', 'Nicholas Pooran']\n",
      "23 :['Riyan Parag', 'Abhishek Sharma', 'Rahul Tripathi C ', 'Kane Williamson (R) VC ', 'Abdul Samad (R)', 'Devdutt Padikkal', 'Shimron Hetmyer', 'Trent Boult', 'Umran Malik (R)', 'Ravichandran Ashwin', 'Nicholas Pooran']\n",
      "24 :['Aiden Markram', 'Riyan Parag', 'Romario Shepherd', 'Shimron Hetmyer C ', 'Abdul Samad (R)', 'Rahul Tripathi', 'Nathan Coulter Nile', 'T Natarajan', 'Prasidh Krishna', 'Umran Malik (R)', 'Sanju Samson (R) VC ']\n",
      "25 :['Riyan Parag', 'Aiden Markram', 'Rahul Tripathi C ', 'Yashasvi Jaiswal (R) VC ', 'Devdutt Padikkal', 'Shimron Hetmyer', 'Abdul Samad (R)', 'Ravichandran Ashwin', 'Trent Boult', 'T Natarajan', 'Sanju Samson (R)']\n",
      "26 :['Aiden Markram VC ', 'Rahul Tripathi C ', 'Shimron Hetmyer', 'Devdutt Padikkal', 'Abdul Samad (R)', 'Yashasvi Jaiswal (R)', 'Trent Boult', 'Yuzvendra Chahal', 'Nathan Coulter Nile', 'Sanju Samson (R)', 'Jos Buttler (R)']\n",
      "27 :['Romario Shepherd', 'Kane Williamson (R) C ', 'Yashasvi Jaiswal (R) VC ', 'Abdul Samad (R)', 'Rahul Tripathi', 'Prasidh Krishna', 'Yuzvendra Chahal', 'Bhuvneshwar Kumar', 'Sanju Samson (R)', 'Nicholas Pooran', 'Jos Buttler (R)']\n",
      "28 :['Washington Sundar', 'Devdutt Padikkal', 'Rahul Tripathi', 'Abdul Samad (R)', 'Yashasvi Jaiswal (R)', 'Shimron Hetmyer', 'Bhuvneshwar Kumar VC ', 'Prasidh Krishna', 'Yuzvendra Chahal', 'T Natarajan', 'Sanju Samson (R) C ']\n",
      "29 :['Washington Sundar', 'Riyan Parag', 'Aiden Markram', 'Devdutt Padikkal VC ', 'Shimron Hetmyer', 'Kane Williamson (R)', 'Yashasvi Jaiswal (R)', 'Umran Malik (R)', 'Trent Boult', 'T Natarajan', 'Jos Buttler (R) C ']\n",
      "30 :['Aiden Markram C ', 'Shimron Hetmyer VC ', 'Yashasvi Jaiswal (R)', 'Rahul Tripathi', 'Kane Williamson (R)', 'Devdutt Padikkal', 'Ravichandran Ashwin', 'Bhuvneshwar Kumar', 'T Natarajan', 'Sanju Samson (R)', 'Jos Buttler (R)']\n",
      "31 :['Abhishek Sharma', 'Riyan Parag', 'Devdutt Padikkal', 'Abdul Samad (R)', 'Yashasvi Jaiswal (R)', 'Shimron Hetmyer', 'T Natarajan VC ', 'Yuzvendra Chahal', 'Bhuvneshwar Kumar', 'Jos Buttler (R) C ', 'Sanju Samson (R)']\n",
      "32 :['Aiden Markram VC ', 'Riyan Parag', 'Devdutt Padikkal C ', 'Abdul Samad (R)', 'Yashasvi Jaiswal (R)', 'Kane Williamson (R)', 'Trent Boult', 'Prasidh Krishna', 'Bhuvneshwar Kumar', 'Ravichandran Ashwin', 'Nicholas Pooran']\n",
      "33 :['Romario Shepherd', 'Abdul Samad (R)', 'Rahul Tripathi', 'Kane Williamson (R)', 'Umran Malik (R) C ', 'Trent Boult VC ', 'Bhuvneshwar Kumar', 'Ravichandran Ashwin', 'Yuzvendra Chahal', 'T Natarajan', 'Jos Buttler (R)']\n",
      "34 :['Aiden Markram VC ', 'Abhishek Sharma', 'Riyan Parag', 'Yashasvi Jaiswal (R) C ', 'Rahul Tripathi', 'Kane Williamson (R)', 'Devdutt Padikkal', 'Trent Boult', 'Umran Malik (R)', 'Ravichandran Ashwin', 'Nicholas Pooran']\n",
      "35 :['Abhishek Sharma', 'Washington Sundar', 'Rahul Tripathi', 'Shimron Hetmyer', 'Yashasvi Jaiswal (R)', 'Kane Williamson (R)', 'Trent Boult C ', 'T Natarajan VC ', 'Umran Malik (R)', 'Bhuvneshwar Kumar', 'Nicholas Pooran']\n",
      "36 :['Aiden Markram', 'Rahul Tripathi VC ', 'Devdutt Padikkal', 'Shimron Hetmyer', 'Abdul Samad (R)', 'T Natarajan C ', 'Prasidh Krishna', 'Trent Boult', 'Nathan Coulter Nile', 'Nicholas Pooran', 'Jos Buttler (R)']\n",
      "37 :['Washington Sundar', 'Romario Shepherd', 'Riyan Parag', 'Aiden Markram', 'Devdutt Padikkal C ', 'Shimron Hetmyer VC ', 'Abdul Samad (R)', 'Nathan Coulter Nile', 'Prasidh Krishna', 'Bhuvneshwar Kumar', 'Jos Buttler (R)']\n",
      "38 :['Riyan Parag', 'Romario Shepherd', 'Aiden Markram', 'Yashasvi Jaiswal (R) VC ', 'Shimron Hetmyer', 'Rahul Tripathi', 'Kane Williamson (R)', 'Trent Boult C ', 'T Natarajan', 'Umran Malik (R)', 'Jos Buttler (R)']\n",
      "39 :['Riyan Parag', 'Washington Sundar', 'Kane Williamson (R) C ', 'Devdutt Padikkal', 'Shimron Hetmyer', 'Yashasvi Jaiswal (R)', 'Bhuvneshwar Kumar VC ', 'Nathan Coulter Nile', 'Trent Boult', 'Sanju Samson (R)', 'Nicholas Pooran']\n",
      "40 :['Abhishek Sharma', 'Riyan Parag', 'Rahul Tripathi C ', 'Yashasvi Jaiswal (R) VC ', 'Abdul Samad (R)', 'Umran Malik (R)', 'Bhuvneshwar Kumar', 'Ravichandran Ashwin', 'Nathan Coulter Nile', 'Sanju Samson (R)', 'Nicholas Pooran']\n",
      "41 :['Washington Sundar', 'Yashasvi Jaiswal (R)', 'Kane Williamson (R)', 'Rahul Tripathi', 'Shimron Hetmyer', 'Umran Malik (R) C ', 'Ravichandran Ashwin', 'T Natarajan', 'Prasidh Krishna', 'Sanju Samson (R) VC ', 'Nicholas Pooran']\n",
      "42 :['Romario Shepherd', 'Yashasvi Jaiswal (R)', 'Abdul Samad (R)', 'Shimron Hetmyer', 'Kane Williamson (R)', 'Umran Malik (R) C ', 'T Natarajan', 'Trent Boult', 'Prasidh Krishna', 'Nathan Coulter Nile', 'Sanju Samson (R) VC ']\n",
      "43 :['Riyan Parag', 'Devdutt Padikkal VC ', 'Kane Williamson (R)', 'Yashasvi Jaiswal (R)', 'Shimron Hetmyer', 'Umran Malik (R) C ', 'Nathan Coulter Nile', 'T Natarajan', 'Yuzvendra Chahal', 'Trent Boult', 'Nicholas Pooran']\n",
      "44 :['Washington Sundar', 'Yashasvi Jaiswal (R) C ', 'Devdutt Padikkal', 'Abdul Samad (R)', 'Ravichandran Ashwin', 'Trent Boult', 'Bhuvneshwar Kumar', 'T Natarajan', 'Jos Buttler (R) VC ', 'Nicholas Pooran', 'Sanju Samson (R)']\n",
      "45 :['Aiden Markram', 'Washington Sundar', 'Rahul Tripathi', 'Yashasvi Jaiswal (R)', 'Shimron Hetmyer', 'Trent Boult C ', 'Umran Malik (R) VC ', 'Nathan Coulter Nile', 'Yuzvendra Chahal', 'Prasidh Krishna', 'Sanju Samson (R)']\n",
      "46 :['Aiden Markram', 'Devdutt Padikkal', 'Kane Williamson (R)', 'Yashasvi Jaiswal (R)', 'Rahul Tripathi', 'Bhuvneshwar Kumar C ', 'Umran Malik (R) VC ', 'Ravichandran Ashwin', 'Trent Boult', 'Nicholas Pooran', 'Sanju Samson (R)']\n",
      "47 :['Riyan Parag', 'Kane Williamson (R)', 'Rahul Tripathi', 'Shimron Hetmyer', 'Abdul Samad (R)', 'Devdutt Padikkal', 'Trent Boult C ', 'T Natarajan VC ', 'Ravichandran Ashwin', 'Nathan Coulter Nile', 'Jos Buttler (R)']\n",
      "48 :['Romario Shepherd', 'Abhishek Sharma', 'Yashasvi Jaiswal (R) C ', 'Devdutt Padikkal', 'Kane Williamson (R)', 'Yuzvendra Chahal', 'Umran Malik (R)', 'Ravichandran Ashwin', 'Sanju Samson (R) VC ', 'Jos Buttler (R)', 'Nicholas Pooran']\n",
      "49 :['Abhishek Sharma', 'Rahul Tripathi C ', 'Devdutt Padikkal', 'Shimron Hetmyer', 'Yashasvi Jaiswal (R)', 'Umran Malik (R) VC ', 'Prasidh Krishna', 'Nathan Coulter Nile', 'Yuzvendra Chahal', 'Trent Boult', 'Jos Buttler (R)']\n",
      "50 :['Washington Sundar', 'Abhishek Sharma', 'Shimron Hetmyer C ', 'Kane Williamson (R)', 'Abdul Samad (R)', 'Devdutt Padikkal', 'Yuzvendra Chahal', 'Umran Malik (R)', 'Bhuvneshwar Kumar', 'Trent Boult', 'Jos Buttler (R) VC ']\n",
      "51 :['Abhishek Sharma', 'Aiden Markram', 'Devdutt Padikkal', 'Yashasvi Jaiswal (R)', 'Kane Williamson (R)', 'Shimron Hetmyer', 'Umran Malik (R) C ', 'Bhuvneshwar Kumar VC ', 'Nathan Coulter Nile', 'Yuzvendra Chahal', 'Jos Buttler (R)']\n",
      "52 :['Romario Shepherd', 'Washington Sundar', 'Devdutt Padikkal C ', 'Abdul Samad (R)', 'Rahul Tripathi', 'Umran Malik (R) VC ', 'T Natarajan', 'Trent Boult', 'Nathan Coulter Nile', 'Yuzvendra Chahal', 'Nicholas Pooran']\n",
      "53 :['Washington Sundar', 'Romario Shepherd', 'Aiden Markram', 'Yashasvi Jaiswal (R) C ', 'Kane Williamson (R) VC ', 'Abdul Samad (R)', 'Shimron Hetmyer', 'Nathan Coulter Nile', 'Umran Malik (R)', 'T Natarajan', 'Sanju Samson (R)']\n",
      "54 :['Riyan Parag', 'Yashasvi Jaiswal (R)', 'Kane Williamson (R)', 'Shimron Hetmyer', 'Rahul Tripathi', 'Umran Malik (R) C ', 'Nathan Coulter Nile', 'Trent Boult', 'Jos Buttler (R) VC ', 'Sanju Samson (R)', 'Nicholas Pooran']\n",
      "55 :['Romario Shepherd', 'Riyan Parag', 'Abhishek Sharma', 'Devdutt Padikkal C ', 'Shimron Hetmyer VC ', 'Kane Williamson (R)', 'Ravichandran Ashwin', 'Nathan Coulter Nile', 'Trent Boult', 'Yuzvendra Chahal', 'Sanju Samson (R)']\n",
      "56 :['Aiden Markram VC ', 'Romario Shepherd', 'Riyan Parag', 'Kane Williamson (R)', 'Yashasvi Jaiswal (R)', 'Devdutt Padikkal', 'Bhuvneshwar Kumar C ', 'T Natarajan', 'Yuzvendra Chahal', 'Nicholas Pooran', 'Sanju Samson (R)']\n",
      "57 :['Aiden Markram C ', 'Abdul Samad (R)', 'Shimron Hetmyer', 'Kane Williamson (R)', 'Devdutt Padikkal', 'T Natarajan VC ', 'Ravichandran Ashwin', 'Prasidh Krishna', 'Yuzvendra Chahal', 'Bhuvneshwar Kumar', 'Sanju Samson (R)']\n",
      "58 :['Riyan Parag', 'Kane Williamson (R)', 'Devdutt Padikkal', 'Abdul Samad (R)', 'Rahul Tripathi', 'Shimron Hetmyer', 'Yashasvi Jaiswal (R)', 'Trent Boult VC ', 'Yuzvendra Chahal', 'Prasidh Krishna', 'Jos Buttler (R) C ']\n",
      "59 :['Riyan Parag', 'Devdutt Padikkal', 'Rahul Tripathi', 'Abdul Samad (R)', 'Bhuvneshwar Kumar C ', 'Trent Boult VC ', 'Prasidh Krishna', 'Ravichandran Ashwin', 'Nathan Coulter Nile', 'Sanju Samson (R)', 'Jos Buttler (R)']\n",
      "60 :['Romario Shepherd', 'Aiden Markram', 'Kane Williamson (R) C ', 'Devdutt Padikkal VC ', 'Rahul Tripathi', 'Abdul Samad (R)', 'Prasidh Krishna', 'Bhuvneshwar Kumar', 'T Natarajan', 'Jos Buttler (R)', 'Nicholas Pooran']\n"
     ]
    },
    {
     "name": "stderr",
     "output_type": "stream",
     "text": [
      "/tmp/ipykernel_234296/3220172013.py:4: SettingWithCopyWarning: \n",
      "A value is trying to be set on a copy of a slice from a DataFrame\n",
      "\n",
      "See the caveats in the documentation: https://pandas.pydata.org/pandas-docs/stable/user_guide/indexing.html#returning-a-view-versus-a-copy\n",
      "  temp[\"Player\"][0] = all.loc[teams[team]].iloc[0][\"Player\"]+\" C \"\n",
      "/tmp/ipykernel_234296/3220172013.py:5: SettingWithCopyWarning: \n",
      "A value is trying to be set on a copy of a slice from a DataFrame\n",
      "\n",
      "See the caveats in the documentation: https://pandas.pydata.org/pandas-docs/stable/user_guide/indexing.html#returning-a-view-versus-a-copy\n",
      "  temp[\"Player\"][1] = all.loc[teams[team]].iloc[1][\"Player\"]+\" VC \"\n"
     ]
    }
   ],
   "source": [
    "for team in range(len(teams)):\n",
    "    temp = all.loc[teams[team]]\n",
    "    temp.reset_index(drop=True,inplace=True)\n",
    "    temp[\"Player\"][0] = all.loc[teams[team]].iloc[0][\"Player\"]+\" C \"\n",
    "    temp[\"Player\"][1] = all.loc[teams[team]].iloc[1][\"Player\"]+\" VC \"\n",
    "    temp.sort_values(by=\"Role\",inplace=True)\n",
    "    \n",
    "    print(str(team+1)+\" :\" + str(list(temp[\"Player\"])))"
   ]
  },
  {
   "cell_type": "code",
   "execution_count": 35,
   "id": "7cfd66e1",
   "metadata": {},
   "outputs": [
    {
     "name": "stderr",
     "output_type": "stream",
     "text": [
      "/tmp/ipykernel_234296/256648756.py:5: SettingWithCopyWarning: \n",
      "A value is trying to be set on a copy of a slice from a DataFrame\n",
      "\n",
      "See the caveats in the documentation: https://pandas.pydata.org/pandas-docs/stable/user_guide/indexing.html#returning-a-view-versus-a-copy\n",
      "  temp[\"Player\"][0] = all.loc[teams[team]].iloc[0][\"Player\"]+\" C \"\n",
      "/tmp/ipykernel_234296/256648756.py:6: SettingWithCopyWarning: \n",
      "A value is trying to be set on a copy of a slice from a DataFrame\n",
      "\n",
      "See the caveats in the documentation: https://pandas.pydata.org/pandas-docs/stable/user_guide/indexing.html#returning-a-view-versus-a-copy\n",
      "  temp[\"Player\"][1] = all.loc[teams[team]].iloc[1][\"Player\"]+\" VC \"\n"
     ]
    }
   ],
   "source": [
    "final_teams = []\n",
    "for team in range(len(teams)):\n",
    "    temp = all.loc[teams[team]]\n",
    "    temp.reset_index(drop=True,inplace=True)\n",
    "    temp[\"Player\"][0] = all.loc[teams[team]].iloc[0][\"Player\"]+\" C \"\n",
    "    temp[\"Player\"][1] = all.loc[teams[team]].iloc[1][\"Player\"]+\" VC \"\n",
    "    temp.sort_values(by=\"Role\",inplace=True)\n",
    "    \n",
    "    final_teams.append(list(temp[\"Player\"]))"
   ]
  },
  {
   "cell_type": "code",
   "execution_count": 36,
   "id": "04f27820",
   "metadata": {},
   "outputs": [],
   "source": [
    "pd.DataFrame(final_teams).transpose().to_csv(\"final_team.csv\",index=None,columns=None)"
   ]
  },
  {
   "cell_type": "code",
   "execution_count": 37,
   "id": "c3f352d2",
   "metadata": {},
   "outputs": [],
   "source": [
    "counts = pd.DataFrame()\n",
    "for team in range(len(teams)):\n",
    "    temp = all.loc[teams[team]]\n",
    "    counts [team] = temp[\"Role\"].value_counts()"
   ]
  },
  {
   "cell_type": "code",
   "execution_count": 38,
   "id": "4b140b4f",
   "metadata": {},
   "outputs": [
    {
     "data": {
      "text/html": [
       "<div>\n",
       "<style scoped>\n",
       "    .dataframe tbody tr th:only-of-type {\n",
       "        vertical-align: middle;\n",
       "    }\n",
       "\n",
       "    .dataframe tbody tr th {\n",
       "        vertical-align: top;\n",
       "    }\n",
       "\n",
       "    .dataframe thead th {\n",
       "        text-align: right;\n",
       "    }\n",
       "</style>\n",
       "<table border=\"1\" class=\"dataframe\">\n",
       "  <thead>\n",
       "    <tr style=\"text-align: right;\">\n",
       "      <th></th>\n",
       "      <th>0</th>\n",
       "      <th>1</th>\n",
       "      <th>2</th>\n",
       "      <th>3</th>\n",
       "      <th>4</th>\n",
       "      <th>5</th>\n",
       "      <th>6</th>\n",
       "      <th>7</th>\n",
       "      <th>8</th>\n",
       "      <th>9</th>\n",
       "      <th>...</th>\n",
       "      <th>50</th>\n",
       "      <th>51</th>\n",
       "      <th>52</th>\n",
       "      <th>53</th>\n",
       "      <th>54</th>\n",
       "      <th>55</th>\n",
       "      <th>56</th>\n",
       "      <th>57</th>\n",
       "      <th>58</th>\n",
       "      <th>59</th>\n",
       "    </tr>\n",
       "  </thead>\n",
       "  <tbody>\n",
       "    <tr>\n",
       "      <th>Batter</th>\n",
       "      <td>4</td>\n",
       "      <td>3</td>\n",
       "      <td>3</td>\n",
       "      <td>3</td>\n",
       "      <td>5</td>\n",
       "      <td>4</td>\n",
       "      <td>3</td>\n",
       "      <td>3</td>\n",
       "      <td>3</td>\n",
       "      <td>3</td>\n",
       "      <td>...</td>\n",
       "      <td>4</td>\n",
       "      <td>3</td>\n",
       "      <td>4</td>\n",
       "      <td>4</td>\n",
       "      <td>3</td>\n",
       "      <td>3</td>\n",
       "      <td>4</td>\n",
       "      <td>6</td>\n",
       "      <td>3</td>\n",
       "      <td>4</td>\n",
       "    </tr>\n",
       "    <tr>\n",
       "      <th>Bowler</th>\n",
       "      <td>4</td>\n",
       "      <td>5</td>\n",
       "      <td>4</td>\n",
       "      <td>5</td>\n",
       "      <td>3</td>\n",
       "      <td>3</td>\n",
       "      <td>3</td>\n",
       "      <td>4</td>\n",
       "      <td>4</td>\n",
       "      <td>5</td>\n",
       "      <td>...</td>\n",
       "      <td>4</td>\n",
       "      <td>5</td>\n",
       "      <td>3</td>\n",
       "      <td>3</td>\n",
       "      <td>4</td>\n",
       "      <td>3</td>\n",
       "      <td>5</td>\n",
       "      <td>3</td>\n",
       "      <td>5</td>\n",
       "      <td>3</td>\n",
       "    </tr>\n",
       "    <tr>\n",
       "      <th>Wicket-keeper</th>\n",
       "      <td>2</td>\n",
       "      <td>2</td>\n",
       "      <td>2</td>\n",
       "      <td>1</td>\n",
       "      <td>1</td>\n",
       "      <td>2</td>\n",
       "      <td>2</td>\n",
       "      <td>2</td>\n",
       "      <td>2</td>\n",
       "      <td>1</td>\n",
       "      <td>...</td>\n",
       "      <td>1</td>\n",
       "      <td>1</td>\n",
       "      <td>1</td>\n",
       "      <td>3</td>\n",
       "      <td>1</td>\n",
       "      <td>2</td>\n",
       "      <td>1</td>\n",
       "      <td>1</td>\n",
       "      <td>2</td>\n",
       "      <td>2</td>\n",
       "    </tr>\n",
       "    <tr>\n",
       "      <th>All-rounder</th>\n",
       "      <td>1</td>\n",
       "      <td>1</td>\n",
       "      <td>2</td>\n",
       "      <td>2</td>\n",
       "      <td>2</td>\n",
       "      <td>2</td>\n",
       "      <td>3</td>\n",
       "      <td>2</td>\n",
       "      <td>2</td>\n",
       "      <td>2</td>\n",
       "      <td>...</td>\n",
       "      <td>2</td>\n",
       "      <td>2</td>\n",
       "      <td>3</td>\n",
       "      <td>1</td>\n",
       "      <td>3</td>\n",
       "      <td>3</td>\n",
       "      <td>1</td>\n",
       "      <td>1</td>\n",
       "      <td>1</td>\n",
       "      <td>2</td>\n",
       "    </tr>\n",
       "  </tbody>\n",
       "</table>\n",
       "<p>4 rows × 60 columns</p>\n",
       "</div>"
      ],
      "text/plain": [
       "               0   1   2   3   4   5   6   7   8   9   ...  50  51  52  53  \\\n",
       "Batter          4   3   3   3   5   4   3   3   3   3  ...   4   3   4   4   \n",
       "Bowler          4   5   4   5   3   3   3   4   4   5  ...   4   5   3   3   \n",
       "Wicket-keeper   2   2   2   1   1   2   2   2   2   1  ...   1   1   1   3   \n",
       "All-rounder     1   1   2   2   2   2   3   2   2   2  ...   2   2   3   1   \n",
       "\n",
       "               54  55  56  57  58  59  \n",
       "Batter          3   3   4   6   3   4  \n",
       "Bowler          4   3   5   3   5   3  \n",
       "Wicket-keeper   1   2   1   1   2   2  \n",
       "All-rounder     3   3   1   1   1   2  \n",
       "\n",
       "[4 rows x 60 columns]"
      ]
     },
     "execution_count": 38,
     "metadata": {},
     "output_type": "execute_result"
    }
   ],
   "source": [
    "counts"
   ]
  },
  {
   "cell_type": "code",
   "execution_count": 14,
   "id": "26429956",
   "metadata": {},
   "outputs": [],
   "source": [
    "counts = []\n",
    "for team in range(len(teams)):\n",
    "    temp = all.loc[teams[team]]\n",
    "    counts.append(sum(temp.index[2:]))"
   ]
  },
  {
   "cell_type": "code",
   "execution_count": 15,
   "id": "cae3cf78",
   "metadata": {},
   "outputs": [
    {
     "data": {
      "text/plain": [
       "(60, 60)"
      ]
     },
     "execution_count": 15,
     "metadata": {},
     "output_type": "execute_result"
    }
   ],
   "source": [
    "len(counts),len(set(counts))"
   ]
  },
  {
   "cell_type": "code",
   "execution_count": null,
   "id": "b9817c43",
   "metadata": {},
   "outputs": [],
   "source": []
  }
 ],
 "metadata": {
  "kernelspec": {
   "display_name": "Python 3 (ipykernel)",
   "language": "python",
   "name": "python3"
  },
  "language_info": {
   "codemirror_mode": {
    "name": "ipython",
    "version": 3
   },
   "file_extension": ".py",
   "mimetype": "text/x-python",
   "name": "python",
   "nbconvert_exporter": "python",
   "pygments_lexer": "ipython3",
   "version": "3.9.7"
  }
 },
 "nbformat": 4,
 "nbformat_minor": 5
}
