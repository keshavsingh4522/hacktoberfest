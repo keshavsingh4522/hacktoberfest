{
 "cells": [
  {
   "cell_type": "raw",
   "id": "8f3c0d8f",
   "metadata": {},
   "source": [
    "Happy Numbers - A happy number is defined by the following process. Starting with any positive integer, replace the number by the sum of the squares of its digits, and repeat the process until the number equals 1 (where it will stay), or it loops endlessly in a cycle which does not include 1. Those numbers for which this process ends in 1 are happy numbers, while those that do not end in 1 are unhappy numbers. Display an example of your output here. Print next 8 happy numbers."
   ]
  },
  {
   "cell_type": "code",
   "execution_count": 1,
   "id": "ebfc903e",
   "metadata": {},
   "outputs": [
    {
     "name": "stdout",
     "output_type": "stream",
     "text": [
      "Enter number : 500\n",
      "[536, 556, 563, 565, 566, 608, 617, 622]\n"
     ]
    }
   ],
   "source": [
    "\n",
    "def get_digits(number):\n",
    "    \n",
    "    digits = []\n",
    "    \n",
    "    while number:\n",
    "        \n",
    "        digits.append(number % 10)\n",
    "        number //= 10\n",
    "        \n",
    "    return digits\n",
    "\n",
    "\n",
    "def is_happy_number(number):\n",
    "    \n",
    "    previous_numbers = []\n",
    "    \n",
    "    while True:\n",
    "        \n",
    "        digits = get_digits(number)\n",
    "        sum_of_squared_digits = sum(list(map(lambda x: x **2, digits)))\n",
    "        \n",
    "        if sum_of_squared_digits == 1:\n",
    "            return True\n",
    "        elif sum_of_squared_digits in previous_numbers:\n",
    "            return False\n",
    "        else:\n",
    "            number = sum_of_squared_digits\n",
    "            previous_numbers.append(number)\n",
    "\n",
    "            \n",
    "def print_happy_number(number):\n",
    "    \n",
    "    happy_numbers = []\n",
    "    count = 0\n",
    "    \n",
    "    while count < 8:\n",
    "        \n",
    "        if is_happy_number(number):\n",
    "            happy_numbers.append(number)\n",
    "            count += 1\n",
    "            \n",
    "        number += 1\n",
    "        \n",
    "    return happy_numbers\n",
    "\n",
    "\n",
    "def main():\n",
    "    \n",
    "    number = int(input(\"Enter number : \"))\n",
    "    print(print_happy_number(number))\n",
    "    \n",
    "\n",
    "if __name__ == '__main__':\n",
    "    main()\n"
   ]
  }
 ],
 "metadata": {
  "kernelspec": {
   "display_name": "Python 3",
   "language": "python",
   "name": "python3"
  },
  "language_info": {
   "codemirror_mode": {
    "name": "ipython",
    "version": 3
   },
   "file_extension": ".py",
   "mimetype": "text/x-python",
   "name": "python",
   "nbconvert_exporter": "python",
   "pygments_lexer": "ipython3",
   "version": "3.8.8"
  }
 },
 "nbformat": 4,
 "nbformat_minor": 5
}
