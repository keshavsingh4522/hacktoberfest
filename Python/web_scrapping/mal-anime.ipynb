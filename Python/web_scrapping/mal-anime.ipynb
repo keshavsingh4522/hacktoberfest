{
 "cells": [
  {
   "cell_type": "code",
   "execution_count": 7,
   "metadata": {},
   "outputs": [],
   "source": [
    "from bs4 import BeautifulSoup\n",
    "import requests\n",
    "import pandas as pd"
   ]
  },
  {
   "cell_type": "code",
   "execution_count": 8,
   "metadata": {},
   "outputs": [
    {
     "name": "stdout",
     "output_type": "stream",
     "text": [
      "(1050, 5)\n"
     ]
    },
    {
     "data": {
      "text/html": [
       "<div>\n",
       "<style scoped>\n",
       "    .dataframe tbody tr th:only-of-type {\n",
       "        vertical-align: middle;\n",
       "    }\n",
       "\n",
       "    .dataframe tbody tr th {\n",
       "        vertical-align: top;\n",
       "    }\n",
       "\n",
       "    .dataframe thead th {\n",
       "        text-align: right;\n",
       "    }\n",
       "</style>\n",
       "<table border=\"1\" class=\"dataframe\">\n",
       "  <thead>\n",
       "    <tr style=\"text-align: right;\">\n",
       "      <th></th>\n",
       "      <th>title</th>\n",
       "      <th>rating</th>\n",
       "      <th>eps</th>\n",
       "      <th>aired</th>\n",
       "      <th>total_rating_user</th>\n",
       "    </tr>\n",
       "  </thead>\n",
       "  <tbody>\n",
       "    <tr>\n",
       "      <th>0</th>\n",
       "      <td>Fullmetal Alchemist: Brotherhood</td>\n",
       "      <td>9.18</td>\n",
       "      <td>TV (64 eps)</td>\n",
       "      <td>Apr 2009 - Jul 2010</td>\n",
       "      <td>2,306,835</td>\n",
       "    </tr>\n",
       "    <tr>\n",
       "      <th>1</th>\n",
       "      <td>Shingeki no Kyojin: The Final Season</td>\n",
       "      <td>9.15</td>\n",
       "      <td>TV (16 eps)</td>\n",
       "      <td>Dec 2020 - Mar 2021</td>\n",
       "      <td>872,335</td>\n",
       "    </tr>\n",
       "    <tr>\n",
       "      <th>2</th>\n",
       "      <td>Shingeki no Kyojin Season 3 Part 2</td>\n",
       "      <td>9.11</td>\n",
       "      <td>TV (10 eps)</td>\n",
       "      <td>Apr 2019 - Jul 2019</td>\n",
       "      <td>1,156,001</td>\n",
       "    </tr>\n",
       "    <tr>\n",
       "      <th>3</th>\n",
       "      <td>Steins;Gate</td>\n",
       "      <td>9.11</td>\n",
       "      <td>TV (24 eps)</td>\n",
       "      <td>Apr 2011 - Sep 2011</td>\n",
       "      <td>1,824,659</td>\n",
       "    </tr>\n",
       "    <tr>\n",
       "      <th>4</th>\n",
       "      <td>Gintama°</td>\n",
       "      <td>9.10</td>\n",
       "      <td>TV (51 eps)</td>\n",
       "      <td>Apr 2015 - Mar 2016</td>\n",
       "      <td>414,527</td>\n",
       "    </tr>\n",
       "  </tbody>\n",
       "</table>\n",
       "</div>"
      ],
      "text/plain": [
       "                                  title  rating          eps  \\\n",
       "0      Fullmetal Alchemist: Brotherhood    9.18  TV (64 eps)   \n",
       "1  Shingeki no Kyojin: The Final Season    9.15  TV (16 eps)   \n",
       "2    Shingeki no Kyojin Season 3 Part 2    9.11  TV (10 eps)   \n",
       "3                           Steins;Gate    9.11  TV (24 eps)   \n",
       "4                              Gintama°    9.10  TV (51 eps)   \n",
       "\n",
       "                 aired total_rating_user  \n",
       "0  Apr 2009 - Jul 2010         2,306,835  \n",
       "1  Dec 2020 - Mar 2021           872,335  \n",
       "2  Apr 2019 - Jul 2019         1,156,001  \n",
       "3  Apr 2011 - Sep 2011         1,824,659  \n",
       "4  Apr 2015 - Mar 2016           414,527  "
      ]
     },
     "execution_count": 8,
     "metadata": {},
     "output_type": "execute_result"
    }
   ],
   "source": [
    "scrapped_data = []\n",
    "for i in range(0,1001,50):\n",
    "    url = \"https://myanimelist.net/topanime.php?limit={}\".format(i)\n",
    "    response = requests.request(\"GET\",url).text\n",
    "\n",
    "    data = BeautifulSoup(response,\"html.parser\")\n",
    "    listkonten = data.find(\"table\",attrs={'class':'top-ranking-table'})\n",
    "    \n",
    "    for kms in listkonten.find_all('tr', attrs={'class':'ranking-list'}):\n",
    "        name_film = kms.find('div', {'class':'di-ib clearfix'}).a.text\n",
    "        rating_film = kms.find('td',attrs={'class':'score ac fs14'}).div.span.text\n",
    "        data_list = kms.find('div', {'class':'information di-ib mt4'}).text\n",
    "        data_list = [x.strip() for x in data_list.split('\\n') if x.strip() != '' ]\n",
    "\n",
    "        dct = {}\n",
    "        dct['title'] = name_film\n",
    "        dct['rating'] = float(rating_film)\n",
    "        dct['eps'] = data_list[0]\n",
    "        dct['aired'] = data_list[1]\n",
    "        dct['total_rating_user'] = data_list[2][:-8]\n",
    "\n",
    "        scrapped_data.append(dct)\n",
    "\n",
    "df = pd.DataFrame.from_dict(scrapped_data)\n",
    "print(df.shape)\n",
    "df.head()"
   ]
  }
 ],
 "metadata": {
  "kernelspec": {
   "display_name": "Python 3",
   "language": "python",
   "name": "python3"
  },
  "language_info": {
   "codemirror_mode": {
    "name": "ipython",
    "version": 3
   },
   "file_extension": ".py",
   "mimetype": "text/x-python",
   "name": "python",
   "nbconvert_exporter": "python",
   "pygments_lexer": "ipython3",
   "version": "3.8.5"
  }
 },
 "nbformat": 4,
 "nbformat_minor": 4
}
