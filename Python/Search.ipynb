{
 "cells": [
  {
   "cell_type": "code",
   "execution_count": 8,
   "metadata": {},
   "outputs": [
    {
     "name": "stdout",
     "output_type": "stream",
     "text": [
      "Target found at index: 5\n"
     ]
    }
   ],
   "source": [
    "def linear_search(list, target):\n",
    "    for i in range(0, len(list)):\n",
    "        if list[i] == target:\n",
    "            return i\n",
    "    return None\n",
    "def verify(index):\n",
    "    if index is not None:\n",
    "        print(\"Target found at index:\", index)\n",
    "    else:\n",
    "        print(\"Target not found in list\")\n",
    "\n",
    "numbers = [1,2,3,4,5,6,7,8,9,10]\n",
    "result = linear_search(numbers,6)\n",
    "verify(result)"
   ]
  },
  {
   "cell_type": "code",
   "execution_count": 12,
   "metadata": {},
   "outputs": [
    {
     "name": "stdout",
     "output_type": "stream",
     "text": [
      "Target found at index: 0\n"
     ]
    }
   ],
   "source": [
    "def binary_search(list, target):\n",
    "    first = 0\n",
    "    last = len(list)-1\n",
    "    while first<=last:\n",
    "        midpoint = (first+last)//2\n",
    "        if list[midpoint] == target:\n",
    "            return midpoint\n",
    "        elif list[midpoint] < target:\n",
    "            first = midpoint + 1\n",
    "        else:\n",
    "            last = midpoint - 1\n",
    "    return None\n",
    "def verify(index):\n",
    "    if index is not None:\n",
    "        print(\"Target found at index:\", index)\n",
    "    else:\n",
    "        print(\"Target not found in list\")\n",
    "\n",
    "numbers = [1,2,3,4,5,6,7,8,9,10]\n",
    "result = binary_search(numbers,1)\n",
    "verify(result)\n",
    "#space complexity = O(1)\n",
    "#time = O(log n)"
   ]
  },
  {
   "cell_type": "code",
   "execution_count": 13,
   "metadata": {},
   "outputs": [
    {
     "data": {
      "text/plain": [
       "True"
      ]
     },
     "execution_count": 13,
     "metadata": {},
     "output_type": "execute_result"
    }
   ],
   "source": [
    "def recursive_binary_search(list,target):\n",
    "    if len(list) == 0:\n",
    "        return False\n",
    "    else:\n",
    "        midpoint = len(list)//2\n",
    "    if list[midpoint] == target:\n",
    "        return True\n",
    "    elif list[midpoint] > target:\n",
    "        return(recursive_binary_search(list[:midpoint], target))\n",
    "    else:\n",
    "        return(recursive_binary_search(list[midpoint+1:], target))\n",
    "numbers = [1,2,3,4,5,6,7,8,9,10]\n",
    "recursive_binary_search(numbers,5)\n",
    "#space complexity = O(log n)\n",
    "#time = O(log n)"
   ]
  },
  {
   "cell_type": "code",
   "execution_count": null,
   "metadata": {},
   "outputs": [],
   "source": []
  }
 ],
 "metadata": {
  "kernelspec": {
   "display_name": "Python 3",
   "language": "python",
   "name": "python3"
  },
  "language_info": {
   "codemirror_mode": {
    "name": "ipython",
    "version": 3
   },
   "file_extension": ".py",
   "mimetype": "text/x-python",
   "name": "python",
   "nbconvert_exporter": "python",
   "pygments_lexer": "ipython3",
   "version": "3.8.5"
  }
 },
 "nbformat": 4,
 "nbformat_minor": 4
}
