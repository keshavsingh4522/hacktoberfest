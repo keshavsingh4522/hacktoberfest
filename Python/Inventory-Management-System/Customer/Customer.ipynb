{
  "nbformat": 4,
  "nbformat_minor": 0,
  "metadata": {
    "colab": {
      "name": "Customer.ipynb",
      "provenance": []
    },
    "kernelspec": {
      "name": "python3",
      "display_name": "Python 3"
    },
    "language_info": {
      "name": "python"
    }
  },
  "cells": [
    {
      "cell_type": "markdown",
      "metadata": {
        "id": "ALtfxJBDCH_L"
      },
      "source": [
        "#INVENTORY Management System"
      ]
    },
    {
      "cell_type": "markdown",
      "metadata": {
        "id": "mrVYi0X-CKp0"
      },
      "source": [
        "## Customer part \n",
        "  Customer can buy the items in the inventory, if the product they can prebook order and buy the order.\n",
        "\n",
        "\n",
        "### Customer Options\n",
        "- View items\n",
        "- Buy items \n",
        "- See bill \n",
        "- Pre Order\n",
        "- exit"
      ]
    },
    {
      "cell_type": "code",
      "metadata": {
        "id": "6d3JYvjACJ7X"
      },
      "source": [
        "import json\n",
        "import pprint\n"
      ],
      "execution_count": 37,
      "outputs": []
    },
    {
      "cell_type": "code",
      "metadata": {
        "id": "7s5dWpQEC4d7"
      },
      "source": [
        "def show(obj):\n",
        "  for i in obj.keys():\n",
        "    if obj[i][\"availability\"] == \"YES\":\n",
        "      print(i + \":\", end =\" \" )\n",
        "      print(obj[i][\"name\"])\n",
        "  return"
      ],
      "execution_count": 6,
      "outputs": []
    },
    {
      "cell_type": "code",
      "metadata": {
        "id": "H94GqyIcC4l1"
      },
      "source": [
        "def Buy(obj,obj2):\n",
        "  id = input(\"Enter the Product ID:\")\n",
        "  qt = int(input(\"Enter the Quantity Required:\"))\n",
        "  tcost = 0\n",
        "\n",
        "  if obj[id][\"qt\"] >= qt:\n",
        "    obj[id][\"qt\"] = obj[id][\"qt\"] - qt\n",
        "    if obj[id][\"qt\"] == 0:\n",
        "      obj[id][\"availability\"] = NO\n",
        "    tcost = qt * obj[id][\"Cost\"]\n",
        "    name = input(\"Enter your name:\")\n",
        "    obj2[str(int(max(obj2.keys()))+1)] = {\"P_TD\":id,\"Cost\": obj[id][\"Cost\"] ,\"qt\":qt,\"T_cost\":tcost,\"Cust_name\": name }\n",
        "    object1 = json.dumps(obj2)\n",
        "    with open(\"sales.json\", \"w\") as outfile3:\n",
        "      outfile3.write(object1)\n",
        "    json_object1 = json.dumps(obj)\n",
        "    # Writing to .json\n",
        "    with open(\"repository.json\", \"w\") as outfile:\n",
        "        outfile.write(json_object1)\n",
        "    print(\"Order Successful\")\n",
        "    #print(obj2)\n",
        "  else:\n",
        "    Print(\"The Product is not available or may be less than requested:-Preorder \")\n",
        "  \n",
        "\n",
        "\n",
        "  return"
      ],
      "execution_count": 46,
      "outputs": []
    },
    {
      "cell_type": "code",
      "metadata": {
        "id": "LoHAczUGEJDv"
      },
      "source": [
        "def see(obj):\n",
        "  name = input(\"Enter Your name:\")\n",
        "  for i in obj.keys():\n",
        "    if obj[i][\"Cust_name\"] == name:\n",
        "      print(\"The Oder bill is:\" )\n",
        "      \n",
        "      pp = pprint.PrettyPrinter(indent=4)\n",
        "      pp.pprint(obj[i])\n",
        "  return"
      ],
      "execution_count": 40,
      "outputs": []
    },
    {
      "cell_type": "code",
      "metadata": {
        "id": "rchoSXrGC4xM"
      },
      "source": [
        "def Preo(obj):\n",
        "  id = input(\"Enter the Product ID:\")\n",
        "  pt = int(input(\"Enter the Quantity Required:\"))\n",
        "  obj[id][\"PreBooking\"] = obj[id][\"PreBooking\"] + pt\n",
        "\n",
        "  json_object1 = json.dumps(obj)\n",
        "  # Writing to .json\n",
        "  with open(\"repository.json\", \"w\") as outfile:\n",
        "      outfile.write(json_object1)\n",
        "  print(\"Pre-Order Successful\")\n",
        "  return"
      ],
      "execution_count": 44,
      "outputs": []
    },
    {
      "cell_type": "code",
      "metadata": {
        "colab": {
          "base_uri": "https://localhost:8080/"
        },
        "id": "BOs5CCBxC46I",
        "outputId": "23c55e2b-4e06-4209-af2b-f27ce4121404"
      },
      "source": [
        "#driver code\n",
        "print(\"Welcome Customer\")\n",
        "with open('repository.json', 'r') as openfile:\n",
        "  json_object = json.load(openfile)\n",
        "flag = 1\n",
        "with open('sales.json', 'r') as openfile1:\n",
        "  json_object2 = json.load(openfile1)\n",
        "while(flag):\n",
        "  print(\"Enter the option to preform operation\\n1: View Item \\n2:Buy Item  \\n3:See Bill  \\n4:Pre Order \\n5:Exit\")\n",
        "  print()\n",
        "  opt = int(input(\"Enter option: \"))\n",
        "  if opt ==1:\n",
        "    show(json_object)\n",
        "  elif opt == 2:\n",
        "    Buy(json_object,json_object2)\n",
        "  elif opt == 3:\n",
        "    see(json_object2)\n",
        "  elif opt == 4:\n",
        "    Preo(json_object)\n",
        "  else:\n",
        "    print(\"Thank You\")\n",
        "    flag = 0\n",
        "  print(\"____________________________________________________________________________________________________\")\n",
        "  print()"
      ],
      "execution_count": 45,
      "outputs": [
        {
          "output_type": "stream",
          "name": "stdout",
          "text": [
            "Welcome Customer\n",
            "Enter the option to preform operation\n",
            "1: View Item \n",
            "2:Buy Item  \n",
            "3:See Bill  \n",
            "4:Pre Order \n",
            "5:Exit\n",
            "\n",
            "Enter option: 1\n",
            "1000: Note Book\n",
            "1001: Drawing book\n",
            "1002: Record\n",
            "1003: Graph book\n",
            "1004: Plane book \n",
            "1005: Slam book\n",
            "1006: Grid sheets\n",
            "1007: Grid Sheet\n",
            "1008: A4 sheets\n",
            "1009: Graph Sheet\n",
            "1010: Exam Sheet\n",
            "1011: Color Paper\n",
            "1012: Pen-Blue\n",
            "1013: Ink-Pen\n",
            "1014: Ink-Blue\n",
            "1015: Ink-Red\n",
            "1016: Ink-Green\n",
            "1017: Pen-Black\n",
            "1018: Pencil\n",
            "1019: Lead-Box\n",
            "1020: Eraser \n",
            "1021: Ink-Eraser\n",
            "1022: Color-Pencil\n",
            "1023: Pouch\n",
            "1024: Gometry Kit\n",
            "1025: Compass\n",
            "1026: Scale\n",
            "1027: Marker-Blue\n",
            "1028: Marker-Yellow\n",
            "1029: Marker-Orange\n",
            "1030: Long-Scale\n",
            "1031: Sharpener\n",
            "1032: Glue \n",
            "1033: Scissor\n",
            "____________________________________________________________________________________________________\n",
            "\n",
            "Enter the option to preform operation\n",
            "1: View Item \n",
            "2:Buy Item  \n",
            "3:See Bill  \n",
            "4:Pre Order \n",
            "5:Exit\n",
            "\n",
            "Enter option: 2\n",
            "Enter the Product ID:1001\n",
            "Enter the Quantity Required:20\n",
            "Enter your name:Sundar\n",
            "Order Successful\n",
            "{'1': {'P_TD': '1000', 'Cost': 100, 'qt': 20, 'T_cost': 2000, 'Cust_name': 'Sanjay'}, '2': {'P_TD': '1000', 'Cost': 100, 'qt': 10, 'T_cost': 1000, 'Cust_name': 'Sandy'}, '3': {'P_TD': '1001', 'Cost': 200, 'qt': 20, 'T_cost': 4000, 'Cust_name': 'Sundar'}}\n",
            "____________________________________________________________________________________________________\n",
            "\n",
            "Enter the option to preform operation\n",
            "1: View Item \n",
            "2:Buy Item  \n",
            "3:See Bill  \n",
            "4:Pre Order \n",
            "5:Exit\n",
            "\n",
            "Enter option: 3\n",
            "Enter Your name:Sundar\n",
            "The Oder bill is:\n",
            "{'Cost': 200, 'Cust_name': 'Sundar', 'P_TD': '1001', 'T_cost': 4000, 'qt': 20}\n",
            "____________________________________________________________________________________________________\n",
            "\n",
            "Enter the option to preform operation\n",
            "1: View Item \n",
            "2:Buy Item  \n",
            "3:See Bill  \n",
            "4:Pre Order \n",
            "5:Exit\n",
            "\n",
            "Enter option: 4\n",
            "Enter the Product ID:1000\n",
            "Enter the Quantity Required:20\n",
            "Pre-Order Successful\n",
            "____________________________________________________________________________________________________\n",
            "\n",
            "Enter the option to preform operation\n",
            "1: View Item \n",
            "2:Buy Item  \n",
            "3:See Bill  \n",
            "4:Pre Order \n",
            "5:Exit\n",
            "\n",
            "Enter option: 5\n",
            "Thank You\n",
            "____________________________________________________________________________________________________\n",
            "\n"
          ]
        }
      ]
    },
    {
      "cell_type": "code",
      "metadata": {
        "id": "sWhzvyS6D-WJ"
      },
      "source": [
        ""
      ],
      "execution_count": null,
      "outputs": []
    }
  ]
}