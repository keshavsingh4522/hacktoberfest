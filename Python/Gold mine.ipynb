{
 "cells": [
  {
   "cell_type": "code",
   "execution_count": 1,
   "metadata": {},
   "outputs": [
    {
     "name": "stdout",
     "output_type": "stream",
     "text": [
      "33\n"
     ]
    }
   ],
   "source": [
    "MAX = 100\n",
    "def getMaxGold(gold, m, n):\n",
    "    goldTable = [[0 for i in range(n)]\n",
    "                        for j in range(m)]\n",
    "    for col in range(n-1, -1, -1):\n",
    "        for row in range(m):\n",
    "            if (col == n-1):\n",
    "                right = 0\n",
    "            else:\n",
    "                right = goldTable[row][col+1]\n",
    "            if (row == 0 or col == n-1):\n",
    "                right_up = 0\n",
    "            else:\n",
    "                right_up = goldTable[row-1][col+1]\n",
    "            if (row == m-1 or col == n-1):\n",
    "                right_down = 0\n",
    "            else:\n",
    "                right_down = goldTable[row+1][col+1]\n",
    "            goldTable[row][col] = gold[row][col] + max(right, right_up, right_down)\n",
    "    res = goldTable[0][0]\n",
    "    for i in range(1, m):\n",
    "        res = max(res, goldTable[i][0])\n",
    "\n",
    "    return res\n",
    "gold = [[0,1,4,2,8,2]\n",
    ",[4,3,6,5,0,4]\n",
    ",[1,2,4,1,4,6]\n",
    ",[2,0,7,3,2,2]\n",
    ",[3,1,5,9,2,4]\n",
    ",[2,7,0,8,5,1\n",
    "]]\n",
    "m = len(gold[0])\n",
    "n = len(gold[0])\n",
    "print(getMaxGold(gold, m, n))"
   ]
  },
  {
   "cell_type": "code",
   "execution_count": 2,
   "metadata": {},
   "outputs": [
    {
     "name": "stdout",
     "output_type": "stream",
     "text": [
      "28\n"
     ]
    }
   ],
   "source": [
    "MAX = 100\n",
    "def getMaxGold(gold, m, n):\n",
    "    goldTable = [[0 for i in range(n)]\n",
    "                        for j in range(m)]\n",
    "    for col in range(n-1, -1, -1):\n",
    "        for row in range(m):\n",
    "            if (col == n-1):\n",
    "                right = 0\n",
    "            else:\n",
    "                right = goldTable[row][col+1]\n",
    "            if (row == 0 or col == n-1):\n",
    "                right_up = 0\n",
    "            else:\n",
    "                right_up = goldTable[row-1][col+1]\n",
    "            if (row == m-1 or col == n-1):\n",
    "                right_down = 0\n",
    "            else:\n",
    "                right_down = goldTable[row+1][col+1]\n",
    "            goldTable[row][col] = gold[row][col] + max(right, right_up, right_down)\n",
    "    res = goldTable[0][0]\n",
    "    for i in range(1, m):\n",
    "        res = max(res, goldTable[i][0])\n",
    "\n",
    "    return res\n",
    "# gold = [[1, 3, 1, 5],\n",
    "# [2, 2, 4, 1],\n",
    "# [5, 0, 2, 3],\n",
    "# [0, 6, 1, 2]]\n",
    "gold = [[1,7,1,5]\n",
    ",[2,6,4,1]\n",
    ",[5,3,8,3],[0,6,1,9\n",
    "]]\n",
    "m = len(gold[0])\n",
    "n = len(gold[0])\n",
    "print(getMaxGold(gold, m, n))"
   ]
  },
  {
   "cell_type": "code",
   "execution_count": 3,
   "metadata": {},
   "outputs": [
    {
     "name": "stdout",
     "output_type": "stream",
     "text": [
      "16\n"
     ]
    }
   ],
   "source": [
    "MAX = 100\n",
    "def getMaxGold(gold, m, n):\n",
    "    goldTable = [[0 for i in range(n)]\n",
    "                        for j in range(m)]\n",
    "    for col in range(n-1, -1, -1):\n",
    "        for row in range(m):\n",
    "            if (col == n-1):\n",
    "                right = 0\n",
    "            else:\n",
    "                right = goldTable[row][col+1]\n",
    "            if (row == 0 or col == n-1):\n",
    "                right_up = 0\n",
    "            else:\n",
    "                right_up = goldTable[row-1][col+1]\n",
    "            if (row == m-1 or col == n-1):\n",
    "                right_down = 0\n",
    "            else:\n",
    "                right_down = goldTable[row+1][col+1]\n",
    "            goldTable[row][col] = gold[row][col] + max(right, right_up, right_down)\n",
    "    res = goldTable[0][0]\n",
    "    for i in range(1, m):\n",
    "        res = max(res, goldTable[i][0])\n",
    "\n",
    "    return res\n",
    "gold = [[1, 3, 1, 5],\n",
    "[2, 2, 4, 1],\n",
    "[5, 0, 2, 3],\n",
    "[0, 6, 1, 2]]\n",
    "# gold = [[1,7,1,5]\n",
    "# ,[2,6,4,1]\n",
    "# ,[5,3,8,3],[0,6,1,9\n",
    "# ]]\n",
    "m = len(gold[0])\n",
    "n = len(gold[0])\n",
    "print(getMaxGold(gold, m, n))"
   ]
  },
  {
   "cell_type": "code",
   "execution_count": null,
   "metadata": {},
   "outputs": [],
   "source": []
  }
 ],
 "metadata": {
  "kernelspec": {
   "display_name": "Python 3",
   "language": "python",
   "name": "python3"
  },
  "language_info": {
   "codemirror_mode": {
    "name": "ipython",
    "version": 3
   },
   "file_extension": ".py",
   "mimetype": "text/x-python",
   "name": "python",
   "nbconvert_exporter": "python",
   "pygments_lexer": "ipython3",
   "version": "3.7.6"
  }
 },
 "nbformat": 4,
 "nbformat_minor": 4
}
