{
  "nbformat": 4,
  "nbformat_minor": 0,
  "metadata": {
    "kernelspec": {
      "display_name": "Python 3",
      "language": "python",
      "name": "python3"
    },
    "language_info": {
      "codemirror_mode": {
        "name": "ipython",
        "version": 3
      },
      "file_extension": ".py",
      "mimetype": "text/x-python",
      "name": "python",
      "nbconvert_exporter": "python",
      "pygments_lexer": "ipython3",
      "version": "3.6.3"
    },
    "colab": {
      "name": "Genetic_Algorithm.ipynb",
      "provenance": [],
      "collapsed_sections": []
    }
  },
  "cells": [
    {
      "cell_type": "markdown",
      "metadata": {
        "id": "0g_H9vjcBRkH"
      },
      "source": [
        "# Genetic Algorithm Example\n"
      ]
    },
    {
      "cell_type": "markdown",
      "metadata": {
        "id": "cDOLZx24AydH"
      },
      "source": [
        "We start with a generic set of letters like our gene set and a target \"target\", in this case a sentence:\n",
        "\n",
        "They could also be characters among other data types. \n",
        "\n",
        "Example:"
      ]
    },
    {
      "cell_type": "code",
      "metadata": {
        "id": "5CXLyy82AydI"
      },
      "source": [
        "geneSet = \" abcdefghijklmnopqrstuvwxyzABCDEFGHIJKLMNOPQRSTUVWXYZ!.\"\n",
        "target = \"hello world!\""
      ],
      "execution_count": 1,
      "outputs": []
    },
    {
      "cell_type": "markdown",
      "metadata": {
        "id": "8LLSm_6dAydL"
      },
      "source": [
        "## Generating a \"guess\"\n",
        "\n",
        "Next, we need a way to generate a random string of letters from the gene pool."
      ]
    },
    {
      "cell_type": "code",
      "metadata": {
        "id": "r3fxv_hRAydL"
      },
      "source": [
        "import random\n",
        "\n",
        "def generate_parent(length):\n",
        "    genes = []\n",
        "    while len(genes) < length:\n",
        "        sampleSize = min(length - len(genes), len(geneSet))\n",
        "        genes.extend(random.sample(geneSet, sampleSize))\n",
        "    return ''.join(genes)"
      ],
      "execution_count": 2,
      "outputs": []
    },
    {
      "cell_type": "markdown",
      "metadata": {
        "id": "ToPiT63aAydN"
      },
      "source": [
        "random.sample takes sampleSize values ​​from input without replacement. This means that there will be no duplicates in the generated parent unless the geneSet contains duplicates or the size is greater than len (geneSet). The above implementation allows us to generate a long string with a small set of genes, using as many unique genes as possible."
      ]
    },
    {
      "cell_type": "markdown",
      "metadata": {
        "id": "LUiApuHBAydO"
      },
      "source": [
        "## Fitness\n",
        "\n",
        "The fit or fit value that the genetic algorithm provides is the only feedback the engine gets to guide it toward\n",
        "to a solution. In this problem, our fit value is the total number of letters in the guess that match the letter.\n",
        "in the same position as the password."
      ]
    },
    {
      "cell_type": "code",
      "metadata": {
        "id": "kUkICUSIAydP"
      },
      "source": [
        "def get_fitness(guess):\n",
        "    return sum(1 for expected, actual in zip(target, guess)\n",
        "               if expected == actual)"
      ],
      "execution_count": 3,
      "outputs": []
    },
    {
      "cell_type": "markdown",
      "metadata": {
        "id": "JL5-rEyZAydR"
      },
      "source": [
        "## Mutação\n",
        "\n",
        "We also need a way to produce a new guess by changing the current one. The following implementation converts the parent string into an array with list (parent), then replaces 1 letter in the randomly selected array of geneSet, then recombines the result into a string with '' .join (genes)."
      ]
    },
    {
      "cell_type": "code",
      "metadata": {
        "id": "bivU8kmPAydR"
      },
      "source": [
        "def mutate(parent):\n",
        "    index = random.randrange(0, len(parent))\n",
        "    childGenes = list(parent)\n",
        "    newGene, alternate = random.sample(geneSet, 2)\n",
        "    childGenes[index] = alternate \\\n",
        "        if newGene == childGenes[index] \\\n",
        "        else newGene\n",
        "    return ''.join(childGenes)"
      ],
      "execution_count": 4,
      "outputs": []
    },
    {
      "cell_type": "markdown",
      "metadata": {
        "id": "vKvEYmI9AydT"
      },
      "source": [
        "This implementation uses an alternate substitution if the randomly selected newGene is the same as the one it is supposed to replace, which can save a significant amount of overhead."
      ]
    },
    {
      "cell_type": "markdown",
      "metadata": {
        "id": "Xsca0WRpAydU"
      },
      "source": [
        "## Display\n",
        "\n",
        "Next, it's important to monitor what's happening so that we can stop the mechanism if it gets stuck. It also allows us to learn what works and what doesn't so we can improve the algorithm.\n",
        "\n",
        "We will display a visual representation of the gene sequence, which may not be the literal gene sequence, its fit value and how much time has passed."
      ]
    },
    {
      "cell_type": "code",
      "metadata": {
        "id": "LvJOjaToAydV"
      },
      "source": [
        "import datetime\n",
        "\n",
        "def display(guess):\n",
        "    timeDiff = datetime.datetime.now() - startTime\n",
        "    fitness = get_fitness(guess)\n",
        "    print(\"{0}\\t{1}\\t{2}\".format(guess, fitness, str(timeDiff)))"
      ],
      "execution_count": 5,
      "outputs": []
    },
    {
      "cell_type": "markdown",
      "metadata": {
        "id": "HqHkMjKYAydX"
      },
      "source": [
        "## Main\n",
        "\n",
        "We are now ready to write the main program. We start by initializing bestParent with a random string of letters."
      ]
    },
    {
      "cell_type": "code",
      "metadata": {
        "id": "X_Cz81sWAydX",
        "colab": {
          "base_uri": "https://localhost:8080/"
        },
        "outputId": "37236b92-2694-466f-fd47-4da02479e853"
      },
      "source": [
        "random.seed()\n",
        "startTime = datetime.datetime.now()\n",
        "bestParent = generate_parent(len(target))\n",
        "bestFitness = get_fitness(bestParent)\n",
        "display(bestParent)"
      ],
      "execution_count": 6,
      "outputs": [
        {
          "output_type": "stream",
          "name": "stdout",
          "text": [
            "tmqOLZaKIxDX\t0\t0:00:00.000371\n"
          ]
        }
      ]
    },
    {
      "cell_type": "markdown",
      "metadata": {
        "id": "rtsgq953Aydb"
      },
      "source": [
        "So we add the heart of the genetic engine. It's a loop that generates a guess, requests the fit for that guess, compares it to the previous guess, and keeps the best of the two. This cycle repeats until all letters match those on the target."
      ]
    },
    {
      "cell_type": "code",
      "metadata": {
        "id": "dF-zE_8lAydc",
        "colab": {
          "base_uri": "https://localhost:8080/"
        },
        "outputId": "2cb8eea1-1c67-484c-a088-da6828c1e613"
      },
      "source": [
        "i = 0\n",
        "while True:\n",
        "    i=i+1\n",
        "    child = mutate(bestParent)\n",
        "    childFitness = get_fitness(child)\n",
        "\n",
        "    if bestFitness >= childFitness:\n",
        "        continue\n",
        "    display(child)\n",
        "    if childFitness >= len(bestParent):\n",
        "        break\n",
        "    bestFitness = childFitness\n",
        "    bestParent = child\n",
        "print(i)"
      ],
      "execution_count": 7,
      "outputs": [
        {
          "output_type": "stream",
          "name": "stdout",
          "text": [
            "tmlOLZaKIxDX\t1\t0:00:00.048376\n",
            "telOLZaKIxDX\t2\t0:00:00.050302\n",
            "telOoZaKIxDX\t3\t0:00:00.052209\n",
            "telOoZaoIxDX\t4\t0:00:00.053953\n",
            "telOoZaoIxdX\t5\t0:00:00.054824\n",
            "telOo aoIxdX\t6\t0:00:00.055439\n",
            "telOo aorxdX\t7\t0:00:00.056962\n",
            "helOo aorxdX\t8\t0:00:00.060577\n",
            "helOo aorldX\t9\t0:00:00.061980\n",
            "hello aorldX\t10\t0:00:00.063702\n",
            "hello aorld!\t11\t0:00:00.081150\n",
            "hello world!\t12\t0:00:00.113938\n",
            "2714\n"
          ]
        }
      ]
    },
    {
      "cell_type": "markdown",
      "metadata": {
        "collapsed": true,
        "id": "tDLLQkzUAyde"
      },
      "source": [
        "Success! Congratulations, you've just built your first Genetic Algorithm (GA) in Python!"
      ]
    }
  ]
}