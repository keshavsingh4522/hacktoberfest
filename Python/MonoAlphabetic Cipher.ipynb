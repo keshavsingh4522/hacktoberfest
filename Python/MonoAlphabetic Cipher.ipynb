{
 "cells": [
  {
   "cell_type": "code",
   "execution_count": 1,
   "id": "dcf37d40",
   "metadata": {},
   "outputs": [],
   "source": [
    "monoalpha_cipher = {'a': 'X','b': 'D','c': 'G','d': 'S','e': 'Z','f': 'A','g': 'N','h': 'Y', \n",
    "\n",
    "    'i': 'O','j': 'B','k': 'T','l': 'M','m': 'J','n': 'C','o': 'E','p': 'V','q': 'F','r': 'H', \n",
    "\n",
    "    's': 'K','t': 'W','u': 'P','v': 'L','w': 'Q','x': 'U','y': 'R','z': 'I',' ': ' '} \n",
    "\n",
    "inverse_monoalpha_cipher = {} \n",
    "\n",
    "for key, value in monoalpha_cipher.items(): \n",
    "\n",
    "    inverse_monoalpha_cipher[value] = key    \n",
    "\n",
    "def encrypt(message):\n",
    "\n",
    "    encrypted_message = [] \n",
    "\n",
    "    for letter in message.lower(): \n",
    "\n",
    "        encrypted_message.append(monoalpha_cipher.get(letter,letter)) \n",
    "\n",
    "    print(''.join(encrypted_message)) \n",
    "\n",
    "def decrypt(message): \n",
    "\n",
    "    decrypted_message = [] \n",
    "\n",
    "    for letter in message: \n",
    "\n",
    "        decrypted_message.append( inverse_monoalpha_cipher.get(letter,letter)) \n",
    "\n",
    "    print(''.join( decrypted_message ))   \n",
    "    \n",
    "def MonoAlphabeticCipher():\n",
    "    mode = input(\"Do you want to Encrypt or Decrypt ?\") \n",
    "    message = input(\"Please enter the message : \") \n",
    "    if(mode.lower() == \"encrypt\"): \n",
    "        encrypt(message) \n",
    "    else: \n",
    "        decrypt(message) "
   ]
  },
  {
   "cell_type": "code",
   "execution_count": 2,
   "id": "439276fb",
   "metadata": {},
   "outputs": [
    {
     "name": "stdout",
     "output_type": "stream",
     "text": [
      "Do you want to Encrypt or Decrypt ?Encrypt\n",
      "Please enter the message : MonoAlphabetic Cipher\n",
      "JECEXMVYXDZWOG GOVYZH\n"
     ]
    }
   ],
   "source": [
    "#Testing Encryption\n",
    "MonoAlphabeticCipher()"
   ]
  },
  {
   "cell_type": "code",
   "execution_count": 3,
   "id": "d7ee63c9",
   "metadata": {},
   "outputs": [
    {
     "name": "stdout",
     "output_type": "stream",
     "text": [
      "Do you want to Encrypt or Decrypt ?Decrypt\n",
      "Please enter the message : JECEXMVYXDZWOG GOVYZH\n",
      "monoalphabetic cipher\n"
     ]
    }
   ],
   "source": [
    "#Testing Decryption\n",
    "MonoAlphabeticCipher()"
   ]
  }
 ],
 "metadata": {
  "kernelspec": {
   "display_name": "Python 3",
   "language": "python",
   "name": "python3"
  },
  "language_info": {
   "codemirror_mode": {
    "name": "ipython",
    "version": 3
   },
   "file_extension": ".py",
   "mimetype": "text/x-python",
   "name": "python",
   "nbconvert_exporter": "python",
   "pygments_lexer": "ipython3",
   "version": "3.6.13"
  }
 },
 "nbformat": 4,
 "nbformat_minor": 5
}
