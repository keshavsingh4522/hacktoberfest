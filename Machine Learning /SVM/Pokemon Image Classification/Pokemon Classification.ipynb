{
 "cells": [
  {
   "cell_type": "code",
   "execution_count": 1,
   "id": "835a02b0",
   "metadata": {},
   "outputs": [
    {
     "name": "stdout",
     "output_type": "stream",
     "text": [
      "Init Plugin\n",
      "Init Graph Optimizer\n",
      "Init Kernel\n",
      "/device:GPU:0Metal device set to: Apple M1\n",
      "\n",
      "[PhysicalDevice(name='/physical_device:GPU:0', device_type='GPU')]\n",
      "Tensor Flow Version: 2.5.0\n",
      "Keras Version: 2.5.0\n",
      "\n",
      "Python 3.9.7 | packaged by conda-forge | (default, Sep  2 2021, 17:55:16) \n",
      "[Clang 11.1.0 ]\n",
      "Pandas 1.3.2\n",
      "Scikit-Learn 0.24.2\n",
      "GPU is available\n"
     ]
    },
    {
     "name": "stderr",
     "output_type": "stream",
     "text": [
      "2021-09-17 22:48:01.807564: I tensorflow/core/common_runtime/pluggable_device/pluggable_device_factory.cc:305] Could not identify NUMA node of platform GPU ID 0, defaulting to 0. Your kernel may not have been built with NUMA support.\n",
      "2021-09-17 22:48:01.807934: I tensorflow/core/common_runtime/pluggable_device/pluggable_device_factory.cc:271] Created TensorFlow device (/device:GPU:0 with 0 MB memory) -> physical PluggableDevice (device: 0, name: METAL, pci bus id: <undefined>)\n"
     ]
    }
   ],
   "source": [
    "import numpy as np\n",
    "from keras.preprocessing import image\n",
    "import matplotlib.pyplot as plt\n",
    "from pathlib import Path\n",
    "import tensorflow as tf\n",
    "import sys\n",
    "import tensorflow.keras\n",
    "import pandas as pd\n",
    "import sklearn as sk\n",
    "\n",
    "\n",
    "\n",
    "\n",
    "print(tf.test.gpu_device_name())\n",
    "print(tf.config.list_physical_devices('GPU'))\n",
    "print(f\"Tensor Flow Version: {tf.__version__}\")\n",
    "print(f\"Keras Version: {tensorflow.keras.__version__}\")\n",
    "print()\n",
    "print(f\"Python {sys.version}\")\n",
    "print(f\"Pandas {pd.__version__}\")\n",
    "print(f\"Scikit-Learn {sk.__version__}\")\n",
    "gpu = len(tf.config.list_physical_devices('GPU'))>0\n",
    "print(\"GPU is\", \"available\" if gpu else \"NOT AVAILABLE\")"
   ]
  },
  {
   "cell_type": "code",
   "execution_count": 2,
   "id": "81ce08c1",
   "metadata": {},
   "outputs": [
    {
     "name": "stdout",
     "output_type": "stream",
     "text": [
      "['604.jpg']\n",
      "['610.jpg']\n",
      "['348.jpg']\n",
      "['360.jpg']\n",
      "['406.jpg']\n",
      "['412.jpg']\n",
      "['374.jpg']\n",
      "['599.jpg']\n",
      "['572.jpg']\n",
      "['566.jpg']\n",
      "['567.jpg']\n",
      "['573.jpg']\n",
      "['598.jpg']\n",
      "['413.jpg']\n",
      "['375.jpg']\n",
      "['361.jpg']\n",
      "['407.jpg']\n",
      "['349.jpg']\n",
      "['611.jpg']\n",
      "['605.jpg']\n",
      "['613.jpg']\n",
      "['607.jpg']\n",
      "['388.jpg']\n",
      "['439.jpg']\n",
      "['377.jpg']\n",
      "['411.jpg']\n",
      "['405.jpg']\n",
      "['363.jpg']\n",
      "['559.jpg']\n",
      "['565.jpg']\n",
      "['571.jpg']\n",
      "['570.jpg']\n",
      "['564.jpg']\n",
      "['558.jpg']\n",
      "['404.jpg']\n",
      "['362.jpg']\n",
      "['376.jpg']\n",
      "['410.jpg']\n",
      "['438.jpg']\n",
      "['389.jpg']\n",
      "['606.jpg']\n",
      "['612.jpg']\n",
      "['616.jpg']\n",
      "['602.jpg']\n",
      "['399.jpg']\n",
      "['414.jpg']\n",
      "['372.jpg']\n",
      "['366.jpg']\n",
      "['400.jpg']\n",
      "['428.jpg']\n",
      "['560.jpg']\n",
      "['574.jpg']\n",
      "['548.jpg']\n",
      "['549.jpg']\n",
      "['575.jpg']\n",
      "['561.jpg']\n",
      "['429.jpg']\n",
      "['367.jpg']\n",
      "['401.jpg']\n",
      "['415.jpg']\n",
      "['373.jpg']\n",
      "['398.jpg']\n",
      "['603.jpg']\n",
      "['617.jpg']\n",
      "['601.jpg']\n",
      "['615.jpg']\n",
      "['403.jpg']\n",
      "['365.jpg']\n",
      "['371.jpg']\n",
      "['417.jpg']\n",
      "['359.jpg']\n",
      "['588.jpg']\n",
      "['577.jpg']\n",
      "['563.jpg']\n",
      "['562.jpg']\n",
      "['576.jpg']\n",
      "['589.jpg']\n",
      "['358.jpg']\n",
      "['370.jpg']\n",
      "['416.jpg']\n",
      "['402.jpg']\n",
      "['364.jpg']\n",
      "['614.jpg']\n",
      "['600.jpg']\n",
      "['459.jpg']\n",
      "['465.jpg']\n",
      "['303.jpg']\n",
      "['317.jpg']\n",
      "['471.jpg']\n",
      "['539.jpg']\n",
      "['538.jpg']\n",
      "['316.jpg']\n",
      "['470.jpg']\n",
      "['464.jpg']\n",
      "['302.jpg']\n",
      "['458.jpg']\n",
      "['328.jpg']\n",
      "['472.jpg']\n",
      "['314.jpg']\n",
      "['300.jpg']\n",
      "['466.jpg']\n",
      "['301.jpg']\n",
      "['467.jpg']\n",
      "['473.jpg']\n",
      "['315.jpg']\n",
      "['329.jpg']\n",
      "['498.jpg']\n",
      "['488.jpg']\n",
      "['311.jpg']\n",
      "['477.jpg']\n",
      "['463.jpg']\n",
      "['305.jpg']\n",
      "['339.jpg']\n",
      "['338.jpg']\n",
      "['462.jpg']\n",
      "['304.jpg']\n",
      "['310.jpg']\n",
      "['476.jpg']\n",
      "['489.jpg']\n",
      "['306.jpg']\n",
      "['460.jpg']\n",
      "['474.jpg']\n",
      "['312.jpg']\n",
      "['448.jpg']\n",
      "['299.jpg']\n",
      "['528.jpg']\n",
      "['529.jpg']\n",
      "['298.jpg']\n",
      "['449.jpg']\n",
      "['475.jpg']\n",
      "['313.jpg']\n",
      "['307.jpg']\n",
      "['461.jpg']\n",
      "['487.jpg']\n",
      "['493.jpg']\n",
      "['478.jpg']\n",
      "['444.jpg']\n",
      "['322.jpg']\n",
      "['336.jpg']\n",
      "['450.jpg']\n",
      "['530.jpg']\n",
      "['524.jpg']\n",
      "['525.jpg']\n",
      "['531.jpg']\n",
      "['337.jpg']\n",
      "['451.jpg']\n",
      "['445.jpg']\n",
      "['323.jpg']\n",
      "['479.jpg']\n",
      "['492.jpg']\n",
      "['486.jpg']\n",
      "['490.jpg']\n",
      "['484.jpg']\n",
      "['309.jpg']\n",
      "['453.jpg']\n",
      "['335.jpg']\n",
      "['321.jpg']\n",
      "['447.jpg']\n",
      "['296.jpg']\n",
      "['527.jpg']\n",
      "['533.jpg']\n",
      "['532.jpg']\n",
      "['526.jpg']\n",
      "['297.jpg']\n",
      "['320.jpg']\n",
      "['446.jpg']\n",
      "['452.jpg']\n",
      "['334.jpg']\n",
      "['308.jpg']\n",
      "['485.jpg']\n",
      "['491.jpg']\n",
      "['495.jpg']\n",
      "['481.jpg']\n",
      "['330.jpg']\n",
      "['456.jpg']\n",
      "['442.jpg']\n"
     ]
    },
    {
     "name": "stderr",
     "output_type": "stream",
     "text": [
      "/opt/homebrew/Caskroom/miniforge/base/envs/tensorflow/lib/python3.9/site-packages/PIL/Image.py:973: UserWarning: Palette images with Transparency expressed in bytes should be converted to RGBA images\n",
      "  warnings.warn(\n"
     ]
    },
    {
     "name": "stdout",
     "output_type": "stream",
     "text": [
      "['324.jpg']\n",
      "['318.jpg']\n",
      "['522.jpg']\n",
      "['536.jpg']\n",
      "['537.jpg']\n",
      "['523.jpg']\n",
      "['319.jpg']\n",
      "['443.jpg']\n",
      "['325.jpg']\n",
      "['331.jpg']\n",
      "['457.jpg']\n",
      "['480.jpg']\n",
      "['494.jpg']\n",
      "['482.jpg']\n",
      "['496.jpg']\n",
      "['327.jpg']\n",
      "['441.jpg']\n",
      "['455.jpg']\n",
      "['333.jpg']\n",
      "['469.jpg']\n",
      "['535.jpg']\n",
      "['521.jpg']\n",
      "['520.jpg']\n",
      "['534.jpg']\n",
      "['468.jpg']\n",
      "['454.jpg']\n",
      "['332.jpg']\n",
      "['326.jpg']\n",
      "['440.jpg']\n",
      "['497.jpg']\n",
      "['483.jpg']\n",
      "['619.jpg']\n",
      "['382.jpg']\n",
      "['396.jpg']\n",
      "['369.jpg']\n",
      "['341.jpg']\n",
      "['427.jpg']\n",
      "['433.jpg']\n",
      "['355.jpg']\n",
      "['590.jpg']\n",
      "['584.jpg']\n",
      "['553.jpg']\n",
      "['547.jpg']\n",
      "['546.jpg']\n",
      "['552.jpg']\n",
      "['585.jpg']\n",
      "['591.jpg']\n",
      "['432.jpg']\n",
      "['354.jpg']\n",
      "['340.jpg']\n",
      "['426.jpg']\n",
      "['368.jpg']\n",
      "['397.jpg']\n",
      "['383.jpg']\n",
      "['618.jpg']\n",
      "['395.jpg']\n",
      "['381.jpg']\n",
      "['418.jpg']\n",
      "['356.jpg']\n",
      "['430.jpg']\n",
      "['424.jpg']\n",
      "['342.jpg']\n",
      "['587.jpg']\n",
      "['593.jpg']\n",
      "['578.jpg']\n",
      "['544.jpg']\n",
      "['550.jpg']\n",
      "['551.jpg']\n",
      "['545.jpg']\n",
      "['579.jpg']\n",
      "['592.jpg']\n",
      "['586.jpg']\n",
      "['425.jpg']\n",
      "['343.jpg']\n",
      "['357.jpg']\n",
      "['431.jpg']\n",
      "['419.jpg']\n",
      "['380.jpg']\n",
      "['394.jpg']\n",
      "['390.jpg']\n",
      "['384.jpg']\n",
      "['435.jpg']\n",
      "['353.jpg']\n",
      "['347.jpg']\n",
      "['421.jpg']\n",
      "['409.jpg']\n",
      "['582.jpg']\n",
      "['596.jpg']\n",
      "['541.jpg']\n",
      "['555.jpg']\n",
      "['569.jpg']\n",
      "['568.jpg']\n",
      "['554.jpg']\n",
      "['540.jpg']\n",
      "['597.jpg']\n",
      "['583.jpg']\n",
      "['408.jpg']\n",
      "['346.jpg']\n",
      "['420.jpg']\n",
      "['434.jpg']\n",
      "['352.jpg']\n",
      "['385.jpg']\n",
      "['391.jpg']\n",
      "['620.jpg']\n",
      "['608.jpg']\n",
      "['387.jpg']\n",
      "['393.jpg']\n",
      "['422.jpg']\n",
      "['344.jpg']\n",
      "['350.jpg']\n",
      "['436.jpg']\n",
      "['378.jpg']\n",
      "['595.jpg']\n",
      "['581.jpg']\n",
      "['556.jpg']\n",
      "['542.jpg']\n",
      "['543.jpg']\n",
      "['557.jpg']\n",
      "['580.jpg']\n",
      "['594.jpg']\n",
      "['379.jpg']\n",
      "['351.jpg']\n",
      "['437.jpg']\n",
      "['423.jpg']\n",
      "['345.jpg']\n",
      "['392.jpg']\n",
      "['386.jpg']\n",
      "['609.jpg']\n"
     ]
    }
   ],
   "source": [
    "p=Path('Train/images')\n",
    "d=p.glob(\"*\")\n",
    "img_data=[]\n",
    "labels=[]\n",
    "for image_path in d:\n",
    "    \n",
    "    a=str(image_path).split(\"/\")[2:]\n",
    "    print(a)\n",
    "    w=[new_a.split(\".\") for new_a in a ]\n",
    "    image_number=int(w[0][0])\n",
    "    img=image.load_img(image_path,target_size=(40,40))\n",
    "    image_arr=image.img_to_array(img)\n",
    "    img_data.append(image_arr)\n",
    "    \n",
    "    if image_number>=296 and image_number<=396:\n",
    "        \n",
    "        labels.append(0) #pikachu\n",
    "    if image_number>=397 and image_number<=497:\n",
    "        \n",
    "        labels.append(1) #bulbasaur\n",
    "    if image_number>=498 and image_number<=620:\n",
    "        \n",
    "        labels.append(2) #charmendae\n",
    "  \n",
    "  \n",
    "       \n"
   ]
  },
  {
   "cell_type": "code",
   "execution_count": 31,
   "id": "226df38f",
   "metadata": {},
   "outputs": [
    {
     "name": "stdout",
     "output_type": "stream",
     "text": [
      "[2, 2, 0, 0, 1, 1, 0, 2, 2, 2, 2, 2, 2, 1, 0, 0, 1, 0, 2, 2, 2, 2, 0, 1, 0, 1, 1, 0, 2, 2, 2, 2, 2, 2, 1, 0, 0, 1, 1, 0, 2, 2, 2, 2, 1, 1, 0, 0, 1, 1, 2, 2, 2, 2, 2, 2, 1, 0, 1, 1, 0, 1, 2, 2, 2, 2, 1, 0, 0, 1, 0, 2, 2, 2, 2, 2, 2, 0, 0, 1, 1, 0, 2, 2, 1, 1, 0, 0, 1, 2, 2, 0, 1, 1, 0, 1, 0, 1, 0, 0, 1, 0, 1, 1, 0, 0, 2, 1, 0, 1, 1, 0, 0, 0, 1, 0, 0, 1, 1, 0, 1, 1, 0, 1, 0, 2, 2, 0, 1, 1, 0, 0, 1, 1, 1, 1, 1, 0, 0, 1, 2, 2, 2, 2, 0, 1, 1, 0, 1, 1, 1, 1, 1, 0, 1, 0, 0, 1, 0, 2, 2, 2, 2, 0, 0, 1, 1, 0, 0, 1, 1, 1, 1, 0, 1, 1, 0, 0, 2, 2, 2, 2, 0, 1, 0, 0, 1, 1, 1, 1, 1, 0, 1, 1, 0, 1, 2, 2, 2, 2, 1, 1, 0, 0, 1, 1, 1, 2, 0, 0, 0, 0, 1, 1, 0, 2, 2, 2, 2, 2, 2, 2, 2, 1, 0, 0, 1, 0, 1, 0, 2, 0, 0, 1, 0, 1, 1, 0, 2, 2, 2, 2, 2, 2, 2, 2, 2, 2, 1, 0, 0, 1, 1, 0, 0, 0, 0, 1, 0, 0, 1, 1, 2, 2, 2, 2, 2, 2, 2, 2, 2, 2, 1, 0, 1, 1, 0, 0, 0, 2, 2, 0, 0, 1, 0, 0, 1, 0, 2, 2, 2, 2, 2, 2, 2, 2, 0, 0, 1, 1, 0, 0, 0, 2]\n"
     ]
    }
   ],
   "source": [
    "print(labels)\n"
   ]
  },
  {
   "cell_type": "code",
   "execution_count": 32,
   "id": "f27a5dd2",
   "metadata": {},
   "outputs": [
    {
     "name": "stdout",
     "output_type": "stream",
     "text": [
      "(304, 40, 40, 3) (304,)\n"
     ]
    }
   ],
   "source": [
    "#convert to numpy\n",
    "img_data=np.array(img_data,dtype='float32')/255.0\n",
    "labels=np.array(labels)\n",
    "\n",
    "print(img_data.shape,labels.shape)"
   ]
  },
  {
   "cell_type": "code",
   "execution_count": 33,
   "id": "e90e5f9b",
   "metadata": {},
   "outputs": [],
   "source": [
    "#randomly shuffle\n",
    "import random\n",
    "\n",
    "combined=list(zip(img_data,labels))\n",
    "random.shuffle(combined)\n",
    "\n",
    "img_data[:],labels[:]=zip(*combined)\n",
    "              "
   ]
  },
  {
   "cell_type": "code",
   "execution_count": 34,
   "id": "791aec25",
   "metadata": {},
   "outputs": [],
   "source": [
    "def drawImg(img):\n",
    "    plt.imshow(img)\n",
    "    plt.show()\n",
    "    return"
   ]
  },
  {
   "cell_type": "code",
   "execution_count": 35,
   "id": "2be69f42",
   "metadata": {},
   "outputs": [
    {
     "data": {
      "image/png": "[encoded data removed]",
      "text/plain": [
       "<Figure size 432x288 with 1 Axes>"
      ]
     },
     "metadata": {
      "needs_background": "light"
     },
     "output_type": "display_data"
    },
    {
     "data": {
      "image/png": "[encoded data removed]",
      "text/plain": [
       "<Figure size 432x288 with 1 Axes>"
      ]
     },
     "metadata": {
      "needs_background": "light"
     },
     "output_type": "display_data"
    },
    {
     "data": {
      "image/png": "[encoded data removed]",
      "text/plain": [
       "<Figure size 432x288 with 1 Axes>"
      ]
     },
     "metadata": {
      "needs_background": "light"
     },
     "output_type": "display_data"
    },
    {
     "data": {
      "image/png": "[encoded data removed]",
      "text/plain": [
       "<Figure size 432x288 with 1 Axes>"
      ]
     },
     "metadata": {
      "needs_background": "light"
     },
     "output_type": "display_data"
    },
    {
     "data": {
      "image/png": "[encoded data removed]",
      "text/plain": [
       "<Figure size 432x288 with 1 Axes>"
      ]
     },
     "metadata": {
      "needs_background": "light"
     },
     "output_type": "display_data"
    },
    {
     "data": {
      "image/png": "[encoded data removed]",
      "text/plain": [
       "<Figure size 432x288 with 1 Axes>"
      ]
     },
     "metadata": {
      "needs_background": "light"
     },
     "output_type": "display_data"
    },
    {
     "data": {
      "image/png": "[encoded data removed]",
      "text/plain": [
       "<Figure size 432x288 with 1 Axes>"
      ]
     },
     "metadata": {
      "needs_background": "light"
     },
     "output_type": "display_data"
    },
    {
     "data": {
      "image/png": "[encoded data removed]",
      "text/plain": [
       "<Figure size 432x288 with 1 Axes>"
      ]
     },
     "metadata": {
      "needs_background": "light"
     },
     "output_type": "display_data"
    },
    {
     "data": {
      "image/png": "[encoded data removed]",
      "text/plain": [
       "<Figure size 432x288 with 1 Axes>"
      ]
     },
     "metadata": {
      "needs_background": "light"
     },
     "output_type": "display_data"
    },
    {
     "data": {
      "image/png": "[encoded data removed]",
      "text/plain": [
       "<Figure size 432x288 with 1 Axes>"
      ]
     },
     "metadata": {
      "needs_background": "light"
     },
     "output_type": "display_data"
    }
   ],
   "source": [
    "for i in range(10):\n",
    "    drawImg(img_data[i])"
   ]
  },
  {
   "cell_type": "markdown",
   "id": "31376624",
   "metadata": {},
   "source": [
    "### Convert data for ONE-VS-ONE Classification"
   ]
  },
  {
   "cell_type": "code",
   "execution_count": 36,
   "id": "6fd8ebeb",
   "metadata": {},
   "outputs": [
    {
     "data": {
      "text/plain": [
       "(304, 40, 40, 3)"
      ]
     },
     "execution_count": 36,
     "metadata": {},
     "output_type": "execute_result"
    }
   ],
   "source": [
    "img_data.shape"
   ]
  },
  {
   "cell_type": "code",
   "execution_count": 37,
   "id": "e679a94e",
   "metadata": {},
   "outputs": [
    {
     "name": "stdout",
     "output_type": "stream",
     "text": [
      "(304, 4800) (304,)\n"
     ]
    }
   ],
   "source": [
    "m=img_data.shape[0]\n",
    "img_data=img_data.reshape(m,-1)\n",
    "print(img_data.shape,labels.shape)"
   ]
  },
  {
   "cell_type": "code",
   "execution_count": 38,
   "id": "d8bb5e2e",
   "metadata": {},
   "outputs": [
    {
     "name": "stdout",
     "output_type": "stream",
     "text": [
      "z,l\n",
      "{1: ['a,b,c,d', 'z,l'], 2: ['o,d'], 3: {2: 'v'}}\n"
     ]
    }
   ],
   "source": [
    "dic={}\n",
    "dic[1]=[]\n",
    "dic[1].append(\"a,b,c,d\")\n",
    "dic[1].append(\"z,l\")\n",
    "dic[2]=[]\n",
    "dic[2].append(\"o,d\")\n",
    "print(dic[1][1])\n",
    "dic[3]={}\n",
    "dic[3][2]='v'\n",
    "print(dic)\n",
    "\n",
    "\n"
   ]
  },
  {
   "cell_type": "code",
   "execution_count": 39,
   "id": "c9f5dd60",
   "metadata": {},
   "outputs": [
    {
     "name": "stdout",
     "output_type": "stream",
     "text": [
      "3\n"
     ]
    }
   ],
   "source": [
    "classes=len(np.unique(labels))\n",
    "print(classes)"
   ]
  },
  {
   "cell_type": "code",
   "execution_count": 40,
   "id": "242597bf",
   "metadata": {},
   "outputs": [],
   "source": [
    "def divide_data(x,y):\n",
    "    \n",
    "    data={}\n",
    "    \n",
    "    for i in range(classes):\n",
    "        data[i]=[]\n",
    "        \n",
    "    for i in range(x.shape[0]):\n",
    "        data[y[i]].append(x[i])\n",
    "        \n",
    "    for k in data.keys():\n",
    "        data[k]=np.array(data[k])\n",
    "        \n",
    "    return data\n",
    "\n",
    "        \n",
    "    \n",
    "    \n"
   ]
  },
  {
   "cell_type": "code",
   "execution_count": 41,
   "id": "e1ae04e1",
   "metadata": {},
   "outputs": [
    {
     "name": "stdout",
     "output_type": "stream",
     "text": [
      "(101, 4800)\n",
      "(101, 4800)\n",
      "(102, 4800)\n"
     ]
    }
   ],
   "source": [
    "data=divide_data(img_data,labels)\n",
    "print(data[0].shape)\n",
    "print(data[1].shape)\n",
    "print(data[2].shape)"
   ]
  },
  {
   "cell_type": "code",
   "execution_count": 42,
   "id": "d2d65aa7",
   "metadata": {},
   "outputs": [],
   "source": [
    "def combine_data(d1,d2):\n",
    "    \n",
    "    samples = d1.shape[0]+d2.shape[0]\n",
    "    features= d1.shape[1]\n",
    "    l1,l2=d1.shape[0],d2.shape[0]\n",
    "    \n",
    "    data_pair=np.zeros((samples,features))\n",
    "    data_labels=np.zeros((samples))\n",
    "    \n",
    "    data_pair[:l1,:]=d1\n",
    "    data_pair[l1:,:]=d2\n",
    "    \n",
    "    data_labels[:l1]=-1\n",
    "    data_labels[l1:]=+1\n",
    "    \n",
    "    return data_pair,data_labels\n",
    "    \n",
    "    "
   ]
  },
  {
   "cell_type": "markdown",
   "id": "a68fd277",
   "metadata": {},
   "source": [
    "### SVM"
   ]
  },
  {
   "cell_type": "code",
   "execution_count": 43,
   "id": "803f5771",
   "metadata": {},
   "outputs": [],
   "source": [
    "class SVM:\n",
    "  \n",
    "    def __init__(self,C=1.0):\n",
    "        self.C = C\n",
    "        self.W = 0\n",
    "        self.b = 0\n",
    "        \n",
    "    def hingeLoss(self,W,b,X,Y):\n",
    "        loss  = 0.0\n",
    "        \n",
    "        loss += .5*np.dot(W,W.T)\n",
    "        \n",
    "        m = X.shape[0]\n",
    "        \n",
    "        for i in range(m):\n",
    "            ti = Y[i]*(np.dot(W,X[i].T)+b)\n",
    "            loss += self.C *max(0,(1-ti))\n",
    "            \n",
    "        return loss[0][0]\n",
    "    \n",
    "    def fit(self,X,Y,batch_size=100,learning_rate=0.001,maxItr=300):\n",
    "        \n",
    "        no_of_features = X.shape[1]\n",
    "        no_of_samples = X.shape[0]\n",
    "        \n",
    "        n = learning_rate\n",
    "        c = self.C\n",
    "        \n",
    "        #Init the model parameters\n",
    "        W = np.zeros((1,no_of_features))\n",
    "        bias = 0\n",
    "        \n",
    "        #Initial Loss\n",
    "        \n",
    "        #Training from here...\n",
    "        # Weight and Bias update rule that we discussed!\n",
    "        losses = []\n",
    "        \n",
    "        for i in range(maxItr):\n",
    "            #Training Loop\n",
    "            \n",
    "            l = self.hingeLoss(W,bias,X,Y)\n",
    "            losses.append(l)\n",
    "            ids = np.arange(no_of_samples)\n",
    "            np.random.shuffle(ids)\n",
    "            \n",
    "            #Batch Gradient Descent(Paper) with random shuffling\n",
    "            for batch_start in range(0,no_of_samples,batch_size):\n",
    "                #Assume 0 gradient for the batch\n",
    "                gradw = 0\n",
    "                gradb = 0\n",
    "                \n",
    "                #Iterate over all examples in the mini batch\n",
    "                for j in range(batch_start,batch_start+batch_size):\n",
    "                    if j<no_of_samples:\n",
    "                        i = ids[j]\n",
    "                        ti =  Y[i]*(np.dot(W,X[i].T)+bias)\n",
    "                        \n",
    "                        if ti>1:\n",
    "                            gradw += 0\n",
    "                            gradb += 0\n",
    "                        else:\n",
    "                            gradw += c*Y[i]*X[i]\n",
    "                            gradb += c*Y[i]\n",
    "                            \n",
    "                #Gradient for the batch is ready! Update W,B\n",
    "                W = W - n*W + n*gradw\n",
    "                bias = bias + n*gradb\n",
    "                \n",
    "        \n",
    "        self.W = W\n",
    "        self.b = bias\n",
    "        return W,bias,losses"
   ]
  },
  {
   "cell_type": "code",
   "execution_count": 60,
   "id": "a10c1acf",
   "metadata": {},
   "outputs": [
    {
     "name": "stdout",
     "output_type": "stream",
     "text": [
      "[202.0, 200.94955179022753, 199.89910746482246, 198.8486667766355, 197.7982305867637, 196.74779888537358, 195.6973712636183, 194.64694773330555, 193.59652835464317, 192.54611300739396, 191.49570241262492, 190.44529570822965, 189.39489326427662, 188.34449456324555, 187.2941003653402, 186.2437098834424, 185.19332465460005, 184.36565312912984, 183.91911331861039, 183.79801541320256, 183.55345263809767, 183.4269672526636, 183.13931224162673, 182.93533880579506, 182.7745642304247, 182.5957106799768, 182.35448277975706, 182.16810661148048, 182.04749564491945, 181.78649331675587, 181.70893865570406, 182.10519718280153, 181.22842113391948, 181.04805970913367, 180.91957367396125, 180.67784445371828, 180.5169278466467, 180.33660525888033, 180.13519580256784, 180.01801755404168, 179.9213010224759, 179.60791787759382, 179.5048538509007, 179.3796754772168, 179.24711004550198, 178.98943466167205, 178.76174300780448, 178.60664040450317, 178.48821687976658, 178.28182240750382, 178.21987552252767, 177.89995208004697, 177.8566338443719, 177.56935199085288, 177.41353736973494, 177.31347227226962, 177.07679066291766, 176.97364518873272, 177.00976013443184, 176.59168018621844, 176.46169533131965, 176.47617262217187, 176.24501899036775, 175.94867605442946, 175.78513697753203, 175.6328229266157, 175.46547841775228, 175.30139994590837, 175.13846167315734, 175.04369944339217, 174.81422816840745, 174.67023681315172, 174.49690112920698, 174.34475196749926, 174.17412938576305, 174.01626584272847, 173.85401309025622, 173.69295134362508, 173.53189028302407, 173.38078541419205, 173.21965164318883, 173.06053336057596, 172.89940086250007, 172.73826903535183, 172.57713785528114, 172.4160072854024, 172.357130530525, 172.09785929413684, 171.93673065041952, 171.77560264175128, 171.61447527369836, 171.4533485655889, 171.33338245290503, 171.14587311986696, 170.98474825604768, 170.82362407910963, 170.65813301783587, 170.49701013344773, 170.34600871385047, 170.22477210853617, 170.02505864911691, 169.8639382845025, 169.7109245568665, 169.62247010778705, 169.39241967431423, 169.23130183207786, 169.06096120105292, 168.93533004183521, 168.74516929118712, 168.6384382043472, 168.43459320326573, 168.27299687327928, 168.111883531023, 167.95479861515332, 167.79368654246767, 167.6396408009199, 167.48663084450968, 167.3184562325145, 167.1650995531049, 167.00399061156028, 166.83810551171388, 166.6769978898574, 166.5666658510722, 166.3919740685489, 166.19807435264661, 166.06600074380918, 165.8842621626402, 165.72315834904197, 165.61448943177183, 165.40323290560096, 165.24695562649282, 165.1027537433531, 164.9375517200846, 164.77786352746512, 164.6275640442758, 164.453458378197, 164.29506224524033, 164.13396475329802, 163.97286789854454, 163.8171756848368, 163.66418611110166, 163.5030911228189, 163.3374159971075, 163.17660720017315, 163.01896775493591, 162.8766406367703, 162.70775669321864, 162.54666558423065, 162.38827710050995, 162.22753850121225, 162.07243274119057, 161.90916036338015, 161.75232003420712, 161.59553463426008, 161.4344479259957, 161.27336186278012, 161.15193186273433, 160.9529629434039, 160.79458080667172, 160.63890129898215, 160.4778184069384, 160.3221401734186, 160.16376055379848, 160.02349308739227, 159.84775531937925, 159.69138768713756, 159.52858301229253, 159.38097047518025, 159.20964697160065, 159.05127178963548, 158.90433446655123, 158.73285778426902, 158.59284190695132, 158.42680260551742, 158.2544088065816, 158.09333545522438, 157.93766671173637, 157.77999638096213, 157.62869979147519, 157.47325874795752, 157.30503726122566, 157.18944492061505, 156.98497822821753, 156.84041891098224, 156.66658069691675, 156.51716232939023, 156.35470326056875, 156.21680711915783, 156.06107120267788, 155.88534923612602, 155.7199218720794, 155.55703530973886, 155.4084545595769, 155.235999496443, 155.0776401764241, 154.9322220635329, 154.7658414991009, 154.62040519718047, 154.44306190492466, 154.28303369175276, 154.1330149378063, 153.96996252707703, 153.83274052625978, 153.65200168168275, 153.50052994164932, 153.3336172873286, 153.17908703401795, 153.02133030076317, 152.8676400093989, 152.6968966554997, 152.53854747852802, 152.38019892261215, 152.2461337663187, 152.06443452310762, 151.9212829782683, 151.77356961872917, 151.6602381289788, 151.47710289002666, 151.34157266971076, 151.22788699443896, 151.07417972067532, 150.93809744672203, 150.79392589071452, 150.66209437451792, 150.5156423868432, 150.3783019066796, 150.27285691194277, 150.11781349971923, 149.96790166209524, 149.82346285455827, 149.69698680415675, 149.558801331439, 149.43395358653763, 149.27135302522555, 149.1540668624988, 149.04023776622202, 148.8575613945482, 148.74253154611674, 148.6038491834499, 148.4678618576363, 148.32793641859334, 148.20302659829147, 148.0738336481013, 147.95116359537798, 147.81762445604681, 147.71912628311387, 147.63518654034232, 147.51841680859783, 147.42311496944845, 147.31241350753118, 147.25142118294175, 147.12549833134094, 147.02880130947207, 146.94921882897134, 146.85051417943012, 146.76921589124825, 146.66760216022303, 146.57541574746057, 146.4832296917288, 146.3910440118637, 146.29885870321223, 146.21407540446256, 146.14560597694205, 146.0363003498476, 145.938185016395, 145.8455420262718, 145.78548353168398, 145.6761793926584, 145.59246436504787, 145.50669605356399, 145.45553632118214, 145.3420402673644, 145.25138794809487, 145.16780502866914, 145.09883702875595, 145.01457078788528, 144.92161104045982, 144.8456389709127, 144.76772011626414, 144.6898770076868, 144.60279824800932, 144.53003566157287, 144.43744233651265, 144.3509428655526, 144.27282086413808, 144.19888771828477, 144.143312205645, 144.0410017122817, 143.95575530886202, 143.8797737923827, 143.80343001768804, 143.7321563298962, 143.65544671174314, 143.58080534813325, 143.50482531343758, 143.44633216749997, 143.36223536969678, 143.30406334170112, 143.2523129244109, 143.13866796427558, 143.06232514367346, 142.98361986596703, 142.91310415618048, 142.84255860143932, 142.76420587175033, 142.77955778300026, 142.61503020872462, 142.53994936890146, 142.4679366686406, 142.3899494228829, 142.34435288646085, 142.2774296087306, 142.17964858104642, 142.10993782977542, 142.02470351614298, 141.94958835347578, 141.8812294790937, 141.8069129692442, 141.738739925596, 141.67781700281816, 141.5853660112535, 141.56092431249374, 141.44472445985343, 141.3859507653941, 141.33915698191223, 141.26604579487997, 141.1688799102553, 141.1461141376407, 141.08238297629828, 140.97951609078993, 140.95277661726337, 140.82746311957072, 140.76238115264397, 140.71040658044518, 140.68389555964427, 140.64269607719248, 140.5018574562789, 140.50543867572915, 140.381595620406, 140.32743036722997, 140.28545623851772, 140.2103878817171, 140.11298666797606, 140.07729073380827, 140.00730966277624, 139.97791472649737, 139.91268669232088, 139.8005390687592, 139.75326879531133, 139.6989896152679, 139.60526131566644, 139.56125328064422, 139.48964209618768, 139.42399357114888, 139.3834422714628, 139.31651173405385, 139.23774648054612, 139.17987683686036, 139.09685009893556, 139.0816955880324, 138.96856873626746, 138.94906553438457, 138.82908722018274, 138.77764055562122, 138.73094410394123, 138.63291170154292, 138.61678608551478, 138.50726724896938, 138.46907997750182, 138.37786543394796, 138.35192349572108, 138.2707930726862, 138.25833767734537, 138.14962812191342, 138.0946012811121, 137.9982976304976, 137.97140377006562, 137.97089098605426, 137.84443201124935, 137.7423148888533, 137.7109493013252, 137.6674975763747, 137.6305382271114, 137.49231070419395, 137.44159619968687, 137.3785813933694, 137.37199687101202, 137.23461498105368, 137.17834138528588, 137.17290629617773, 137.03792643696582, 136.98583329725116, 136.91353804080288, 136.8834083812133, 136.78821637954692, 136.79092786872891, 136.65514976906942, 136.64613250843388, 136.5259128674706, 136.5199350359241, 136.42628285831904, 136.3558708940771, 136.27611543353424, 136.23615433271897, 136.1523179679731, 136.09437772707028, 136.0733104677869, 135.95347367953073, 135.9111382374015, 135.9167906524118, 135.7762055221649, 135.74531643058506, 135.67513774166648, 135.60378212825356, 135.56477927123072, 135.44487566855736, 135.3810726095782, 135.3779981395282, 135.3455799349153, 135.19599492913954, 135.20299215317675, 135.0788368117931, 135.0753971287091, 134.94254995940517, 134.948685270163, 134.84765309117367, 134.74905994254792, 134.73589995872894, 134.6308849390123, 134.59243082136504, 134.53009951265227, 134.5300507593633, 134.3789836689844, 134.4163852895935, 134.2911889842582, 134.17952685909086, 134.21590840794357, 134.1309484250268, 133.9985049927626, 133.95301250139354, 133.91013945466733, 133.79779150047187, 133.77734912335902, 133.74826089205408, 133.6159735272373, 133.60263846515107, 133.55124604338843, 133.42060457494213, 133.37351440247892, 133.38002447224724, 133.28056473650278, 133.1823136404871, 133.17523304583963, 133.07261458906444, 133.07323614233857, 132.929770055495, 132.8633137184926, 132.88009058612377, 132.7571038856709, 132.7467126275291, 132.69920510136592, 132.58133826693438, 132.49767665108817, 132.4798926431286, 132.41876576829526, 132.33241081562124, 132.35284681955417, 132.2750776575909, 132.2781429111551, 132.22560500354183, 132.00556775581316, 132.02339628642315, 131.88695142444158, 131.88095778556038, 131.79440390503026, 131.71442838311086, 131.66280357192926, 131.6984459960372, 131.62427405654284, 131.56987778717664, 131.44296142325177, 131.41311030235906, 131.34734330728733, 131.36376717092804, 131.2031578151197, 131.25071429708441, 131.10115490708222, 131.10603615692614, 131.08511792457566, 130.93215628916965, 130.99770500961037, 130.8200191165272, 130.77702394874413, 130.71369889292632, 130.7461433724335, 130.6546955325267, 130.66044949876243, 130.6524402566473, 130.44721327303475, 130.41813991282248, 130.4337108180029, 130.30575341441613, 130.30295602622414, 130.18217203511878, 130.19748210725032, 130.0749046579364, 130.05570549693937, 130.00051456199265, 129.91305427941677, 129.96146405675884, 129.8103137662829, 129.7851042253695, 129.80973174016268, 129.68626173184316, 129.6985301327052, 129.56494748223784, 129.5164514524796, 129.5707454916045, 129.4023202392658, 129.33411450071904, 129.3626464968452, 129.35762583346605, 129.30144399394152, 129.26383155292297, 129.1652687568271, 129.24994299769148, 129.19317059302617, 129.00264074058114, 129.105644578637, 128.89836381201113, 128.88036629460268, 128.8891358723573, 128.8594042745546, 128.7279635445408, 128.7336686619914, 128.74331267204755, 128.70538509559032, 128.60778124976315, 128.65186549381008, 128.49882230491147, 128.44527994854153, 128.4182309935913, 128.46382089592004, 128.32300284155775, 128.28312251253644, 128.24452014433356, 128.19605741770022, 128.24401975600608, 128.13707284862537, 128.19717794232457, 128.15811756954992, 128.00200654729926, 128.0046228267953, 128.00708745440076, 127.87962794512912, 127.90402550134445, 127.80208589251377, 127.8031810666513, 127.71539364962467, 127.75483159853057, 127.72360568748586, 127.61077524628834, 127.7033689310027, 127.57177716428578, 127.51282567740304, 127.43785283957307, 127.40971697696658, 127.47554234834611, 127.32201361475546, 127.34221533736431, 127.43455023280247, 127.2049965450671, 127.24191970060517, 127.14882893924053, 127.19074489847075, 127.07064228684287, 127.05075532740379, 127.01727863472595, 126.96896708741893, 127.07443994102512, 126.95440698214888, 127.01643242698009, 126.83995671366486, 127.04287395977634, 126.74577846581114, 126.81592906076054, 126.79270784140174, 126.6784737904325, 126.87075553517019, 126.60900210772401, 126.58613168184905, 126.5452334692991, 126.50154875342999, 126.46804714073272, 126.43899726866312, 126.46411419521505, 126.37505173264456, 126.35815508805553, 126.33099320557339, 126.28563711517398, 126.26417686886924, 126.22338982261995, 126.19114304063676, 126.15958737246497, 126.14353911115481, 126.10226371440001, 126.16771279304774, 126.04665562549059, 126.01346773385566, 125.98573399196881, 126.00009731127325, 125.92191827557345, 126.07465853208481, 125.94052469144711, 125.83556597579009, 125.87816098429651, 125.77794404219782, 125.74283171643874, 125.71347532802532, 125.69167028697214, 125.6521847281158, 125.68234903796156, 125.59707616239722, 125.56487587638851, 125.53091983746636, 125.64465414838625, 125.50478598926951, 125.7287031559141, 125.41786862079927, 125.39027335491588, 125.36065434374187, 125.40262317911524, 125.32121944761876, 125.2657406238785, 125.29007629029444, 125.31191522286697, 125.19361429996215, 125.17440549770619, 125.12312581648243, 125.1766939344576, 125.16384595586416, 125.14089886368976, 125.03155275935048, 125.04644738471553, 125.00489909774865, 124.95739940693825, 125.09543613743953, 124.88983211165959, 124.85191022929033, 124.8578104263713, 124.85041119749177, 124.78997576088605, 124.81718446546253, 125.01237900085091, 124.69506741511563, 124.66512752509347, 124.6606823631529, 124.68153369138585, 124.5863562362499, 124.61031431292697, 124.54460767399293, 124.63681063148033, 124.5453782389593, 124.49768375200557, 124.47921519645662, 124.42430233377218, 124.37945507682981, 124.45939772557993, 124.32315626231907, 124.33038609591118, 124.28120333587634, 124.52569395538528, 124.24886561321709, 124.30841872018857, 124.1793882830301, 124.38637740526384, 124.21402763253168, 124.11147084767717, 124.17121755332427, 124.0525297379985, 124.03102539692539, 124.05449763111555, 124.01477596076755, 123.94196936034174, 123.95538160720871, 123.89288269292521, 124.05871711730393, 123.84098136174562, 123.82301759227114, 123.7843860873792, 123.90731468308473, 123.74712494482853, 123.75305005199212, 123.72627405951036, 123.66152256448397, 123.65413806818616, 123.7311880458834, 123.86724198932548, 123.56399625748134, 123.53262613843029, 123.54051404474868, 123.51545127562298, 123.58805729519301, 123.81925585306296, 123.47959549376411, 123.44075696593349, 123.63492411095126, 123.42132055715022, 123.33104999323794, 123.34198589837406, 123.34051633163031, 123.340125744217, 123.23786562326077, 123.22921096770095, 123.34642506322724, 123.31534918125583, 123.22559291577396, 123.11765507034737, 123.19892738896012, 123.07075367127653, 123.10091564063246, 123.01974804035765, 123.00056927050768, 123.00870156164267, 122.94636393214357, 123.0062673081308, 123.05084339952383, 122.88316841493925, 122.87403567649005, 122.8308323477734, 122.81862140838243, 122.83420892081335, 122.80149643470115, 122.7424095695535, 123.07779948060224, 122.68175841707266, 122.7587687681226, 122.67943774617466, 122.83002494073838, 122.63388951610519, 122.59632719913678, 122.56366094717832, 122.78175293972569, 122.61076888282209, 122.56236270106082, 122.51804653824841, 122.6552146085015, 122.53419093488121, 122.39551555041284, 122.37016935467501, 122.46040295021137, 122.40520514569187, 122.37365700998726, 122.29886082533591, 122.26296060256925, 122.4900200618884, 122.55889048670699, 122.45036596899942, 122.20812334535421, 122.15396278234157, 122.2557969639668, 122.14854481084, 122.16788970740225, 122.05696036460249, 122.20729226674275, 122.13180492121523, 122.01399987599174, 122.09393045553846, 122.10753751961742, 121.99640906239516, 121.90133246902911, 122.00842543837649, 121.9408561978532, 121.8756443328526, 121.85795272143291, 121.98118035896984, 121.8867444922671, 121.84908668103542, 121.9564001210423, 121.96555549104647, 121.76148770509486, 121.65437483017087, 121.85871116430295, 121.86909420066716, 121.89018258682351, 121.684738196249, 121.68025904105686, 121.79799577200308, 121.55517920464071, 121.59538337251097, 121.60287062222567, 121.83735241613824, 121.59482760809573, 121.43016229732086, 121.5633054204634, 121.6224192684418, 121.61395069650429, 121.45574087194164, 121.57883917679878, 121.34445142206381, 121.2897087957654, 121.25051139220264, 121.28510151192097, 121.23783168648549, 121.36706059150565, 121.28539565678899, 121.34369733552052, 121.16374569318337, 121.17858029770314, 121.31681954973435, 121.0576368693233, 121.07386658711653, 121.12151232014432, 121.02690264926262, 121.01146320276695, 121.18105330149571, 121.31499172562182, 120.92347746185186, 120.88892681571062, 120.86623905191608, 120.99565320520149, 121.02261808656515, 120.86406524768677, 120.78182113475216, 121.15256697414524, 120.89949760107906, 120.74333556446399, 120.86535978220451, 120.70651232498041, 120.70226559322897, 120.64246248505025, 120.9151186153027, 120.66227833838421, 120.5788522390436, 120.55418935053324, 120.75878524124921, 120.51444744565495, 120.69206925420619, 120.57869737831012, 120.58867858957086, 120.58182183822558, 120.41670732221274, 120.38976144607402, 120.54921368919882, 120.35321228816905, 120.32787992275348, 120.30586267468058, 120.32262492108104, 120.3370553039323, 120.32122243441263, 120.5962412369817, 120.271644938632, 120.18458974993422, 120.20962213224571, 120.14747630635566, 120.19277116870359, 120.33502087956455, 120.16366063177799, 120.09596023320843, 120.4257501167765, 120.02773229020096, 120.0499449943879, 120.0223417266437, 119.96512981025654, 119.93406590991557, 119.91907228016186, 119.8869515778039, 120.13850402402552, 119.97560608507735, 119.84482807475071, 119.81504433278931, 119.99106035838372, 119.78714652545499, 119.86854992074133, 119.72859366896101, 119.71819362887342, 119.70934549371644, 119.69117119782278, 119.64516045743142, 119.89834395741084, 119.60832786392642, 119.88897558714189, 119.57129825225232, 119.85107888161563, 119.67748340051354, 119.56180618344787, 119.49983973349896, 119.64769542165556, 119.48273064693124, 119.58411922696968, 119.72278590239225, 119.56897464282036, 119.39161162524054, 119.51267264118991, 119.53759634211536, 119.55058389340849, 119.31283221561594, 119.28837164352494, 119.50321418544286, 119.3864214443642, 119.21810186520179, 119.1968771431288, 119.23093293779547, 119.27553451816188, 119.17708834414803, 119.12704183267527, 119.09401817977754, 119.169022733694, 119.05721466216188, 119.05512110053708, 119.38994998207944, 119.03876091883345, 118.98911180044145, 118.95801632508446, 119.11639641800035, 118.93791696272933, 118.90910535256856, 118.90269258213088, 119.10669439388224, 118.86811081649371, 118.91189748757775, 118.94487684500854, 118.78468655325224, 118.90157696954066, 118.87510930990966, 118.73047144449448, 118.70532911770313, 118.69737577836881, 118.67505188973266, 118.64997850062808, 118.64298146558474, 118.84373553052603, 118.63258184478555, 118.6466042867826, 118.58446347610473, 118.53922350847438, 118.65503201142221, 118.49673796552962, 118.54103663541275, 118.47682993463144, 118.43249098353515, 118.43796689528914, 118.61522121762022, 118.4250655832858, 118.35601006632676, 118.35219472242484, 118.41943962516645, 118.29580332212842, 118.43719677451077, 118.26237713615784, 118.25772799464802, 118.32461865780685, 118.28295569659225, 118.18739869623309, 118.15922832570186, 118.15104326010753, 118.1586305268304, 118.13204948590136, 118.1014090580502, 118.50224165310988, 118.04822324582933, 118.05860485731051, 118.19749138934915, 117.99711923149893, 118.26843321892635, 117.9903921942951, 117.94122839764421, 117.91390321269762, 117.90044753747871, 118.11865052974156, 117.85128758935957, 117.84223492183311, 117.86666067710284, 118.1610822087075, 117.77866213884037, 117.80023987966189, 117.75681326974808, 117.75368796388379, 117.87455342534602, 117.70254847136806, 117.66657741230038, 117.863858283025, 117.7725240582963, 117.68281798553892, 117.62442575767417, 117.92485734000603, 117.58620689089297, 117.99099700104853, 117.60108919712344, 117.50951516672552, 117.48575466583517, 117.46225267282657, 117.61464008824495, 117.44160857932904, 117.4054673304828, 117.55185167166084, 117.37291879690208, 117.40643085979453, 117.35455105372698, 117.4443713700847]\n"
     ]
    },
    {
     "data": {
      "text/plain": [
       "[<matplotlib.lines.Line2D at 0x29cf89160>]"
      ]
     },
     "execution_count": 60,
     "metadata": {},
     "output_type": "execute_result"
    },
    {
     "data": {
      "image/png": "[encoded data removed]",
      "text/plain": [
       "<Figure size 432x288 with 1 Axes>"
      ]
     },
     "metadata": {
      "needs_background": "light"
     },
     "output_type": "display_data"
    }
   ],
   "source": [
    "svm=SVM()\n",
    "xp,yp=combine_data(data[0],data[1])\n",
    "w,b,loss=svm.fit(xp,yp,learning_rate=0.000001,maxItr=1000)\n",
    "print(loss)\n",
    "plt.plot(loss)"
   ]
  },
  {
   "cell_type": "code",
   "execution_count": 61,
   "id": "a378f68f",
   "metadata": {},
   "outputs": [],
   "source": [
    "def trainSVMs(x,y):\n",
    "    svm_classifier={}\n",
    "    for i in range(classes):\n",
    "        svm_classifier[i]={}\n",
    "        for j in range(i+1,classes):\n",
    "            xpair,ypair=combine_data(data[i],data[j])\n",
    "            wts,b,loss=svm.fit(xpair,ypair,learning_rate=0.000001,maxItr=1000)\n",
    "            plt.plot(loss)\n",
    "            svm_classifier[i][j]=(wts,b)\n",
    "            \n",
    "    return svm_classifier\n",
    "        \n",
    "    "
   ]
  },
  {
   "cell_type": "code",
   "execution_count": 62,
   "id": "754ba2d0",
   "metadata": {},
   "outputs": [
    {
     "data": {
      "image/png": "[encoded data removed]",
      "text/plain": [
       "<Figure size 432x288 with 1 Axes>"
      ]
     },
     "metadata": {
      "needs_background": "light"
     },
     "output_type": "display_data"
    }
   ],
   "source": [
    "svm_classifier=trainSVMs(img_data,labels)"
   ]
  },
  {
   "cell_type": "code",
   "execution_count": 63,
   "id": "2273857a",
   "metadata": {},
   "outputs": [
    {
     "name": "stdout",
     "output_type": "stream",
     "text": [
      "{0: {1: (array([[ 0.0013884 ,  0.00063914, -0.0013842 , ...,  0.0010608 ,\n",
      "        -0.00043853, -0.00342648]]), 0.00766400000000001), 2: (array([[-0.00049662, -0.0016916 , -0.0004834 , ..., -0.00331437,\n",
      "        -0.00441218, -0.00252314]]), 0.0060300000000000145)}, 1: {2: (array([[-0.00251921, -0.0017612 ,  0.00102499, ..., -0.00403288,\n",
      "        -0.00225878,  0.00237589]]), -0.003698)}, 2: {}}\n"
     ]
    }
   ],
   "source": [
    "print(svm_classifier)"
   ]
  },
  {
   "cell_type": "code",
   "execution_count": 64,
   "id": "3c14cae7",
   "metadata": {},
   "outputs": [],
   "source": [
    "def binaryPredict(x,w,b):\n",
    "    z  = np.dot(x,w.T) + b\n",
    "    if z>=0:\n",
    "        return 1\n",
    "    else:\n",
    "        return -1\n",
    "    "
   ]
  },
  {
   "cell_type": "code",
   "execution_count": 65,
   "id": "4e9d4bd8",
   "metadata": {},
   "outputs": [],
   "source": [
    "def predict(x):\n",
    "    \n",
    "    count=np.zeros((classes,))\n",
    "    \n",
    "    for i in range(classes):\n",
    "        for j in range(i+1,classes):\n",
    "            w,b=svm_classifier[i][j]\n",
    "            #take a majority prediction\n",
    "            z=binaryPredict(x,w,b)\n",
    "            \n",
    "            if (z==1):\n",
    "                count[j]+=1\n",
    "            else:\n",
    "                count[i]+=1\n",
    "    final_prediction=np.argmax(count)\n",
    "    #print(final_prediction)\n",
    "    return final_prediction"
   ]
  },
  {
   "cell_type": "code",
   "execution_count": 66,
   "id": "af3d9b4e",
   "metadata": {},
   "outputs": [
    {
     "name": "stdout",
     "output_type": "stream",
     "text": [
      "1\n",
      "1\n"
     ]
    }
   ],
   "source": [
    "print(predict(img_data[10]))\n",
    "print(labels[10])\n"
   ]
  },
  {
   "cell_type": "code",
   "execution_count": 67,
   "id": "c4fb4809",
   "metadata": {},
   "outputs": [],
   "source": [
    "def accuracy(x,y):\n",
    "    count=0.0\n",
    "    for i in range(x.shape[0]):\n",
    "        pred=predict(x[i])\n",
    "        if (pred==y[i]):\n",
    "            count+=1\n",
    "    return count/x.shape[0]"
   ]
  },
  {
   "cell_type": "code",
   "execution_count": 68,
   "id": "e63dcf6c",
   "metadata": {},
   "outputs": [
    {
     "name": "stdout",
     "output_type": "stream",
     "text": [
      "0.6414473684210527\n"
     ]
    }
   ],
   "source": [
    "print(accuracy(img_data,labels))"
   ]
  },
  {
   "cell_type": "code",
   "execution_count": null,
   "id": "96763523",
   "metadata": {},
   "outputs": [],
   "source": []
  },
  {
   "cell_type": "code",
   "execution_count": null,
   "id": "e7d28451",
   "metadata": {},
   "outputs": [],
   "source": []
  }
 ],
 "metadata": {
  "kernelspec": {
   "display_name": "Python 3.9 (tensorflow)",
   "language": "python",
   "name": "tensorflow"
  },
  "language_info": {
   "codemirror_mode": {
    "name": "ipython",
    "version": 3
   },
   "file_extension": ".py",
   "mimetype": "text/x-python",
   "name": "python",
   "nbconvert_exporter": "python",
   "pygments_lexer": "ipython3",
   "version": "3.9.7"
  }
 },
 "nbformat": 4,
 "nbformat_minor": 5
}
