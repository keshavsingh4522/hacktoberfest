{
 "cells": [
  {
   "cell_type": "code",
   "execution_count": 1,
   "id": "fc818355",
   "metadata": {},
   "outputs": [],
   "source": [
    "from sklearn.datasets import load_boston"
   ]
  },
  {
   "cell_type": "code",
   "execution_count": 2,
   "id": "9a427a4c",
   "metadata": {},
   "outputs": [],
   "source": [
    "boston=load_boston()"
   ]
  },
  {
   "cell_type": "code",
   "execution_count": 3,
   "id": "73f52175",
   "metadata": {},
   "outputs": [],
   "source": [
    "X=boston.data\n",
    "Y=boston.target"
   ]
  },
  {
   "cell_type": "code",
   "execution_count": 4,
   "id": "da49b265",
   "metadata": {},
   "outputs": [
    {
     "data": {
      "text/plain": [
       "(506, 13)"
      ]
     },
     "execution_count": 4,
     "metadata": {},
     "output_type": "execute_result"
    }
   ],
   "source": [
    "X.shape"
   ]
  },
  {
   "cell_type": "code",
   "execution_count": 6,
   "id": "319f94da",
   "metadata": {},
   "outputs": [
    {
     "name": "stdout",
     "output_type": "stream",
     "text": [
      "[24.  21.6 34.7 33.4 36.2 28.7 22.9 27.1 16.5 18.9 15.  18.9 21.7 20.4\n",
      " 18.2 19.9 23.1 17.5 20.2 18.2 13.6 19.6 15.2 14.5 15.6 13.9 16.6 14.8\n",
      " 18.4 21.  12.7 14.5 13.2 13.1 13.5 18.9 20.  21.  24.7 30.8 34.9 26.6\n",
      " 25.3 24.7 21.2 19.3 20.  16.6 14.4 19.4 19.7 20.5 25.  23.4 18.9 35.4\n",
      " 24.7 31.6 23.3 19.6 18.7 16.  22.2 25.  33.  23.5 19.4 22.  17.4 20.9\n",
      " 24.2 21.7 22.8 23.4 24.1 21.4 20.  20.8 21.2 20.3 28.  23.9 24.8 22.9\n",
      " 23.9 26.6 22.5 22.2 23.6 28.7 22.6 22.  22.9 25.  20.6 28.4 21.4 38.7\n",
      " 43.8 33.2 27.5 26.5 18.6 19.3 20.1 19.5 19.5 20.4 19.8 19.4 21.7 22.8\n",
      " 18.8 18.7 18.5 18.3 21.2 19.2 20.4 19.3 22.  20.3 20.5 17.3 18.8 21.4\n",
      " 15.7 16.2 18.  14.3 19.2 19.6 23.  18.4 15.6 18.1 17.4 17.1 13.3 17.8\n",
      " 14.  14.4 13.4 15.6 11.8 13.8 15.6 14.6 17.8 15.4 21.5 19.6 15.3 19.4\n",
      " 17.  15.6 13.1 41.3 24.3 23.3 27.  50.  50.  50.  22.7 25.  50.  23.8\n",
      " 23.8 22.3 17.4 19.1 23.1 23.6 22.6 29.4 23.2 24.6 29.9 37.2 39.8 36.2\n",
      " 37.9 32.5 26.4 29.6 50.  32.  29.8 34.9 37.  30.5 36.4 31.1 29.1 50.\n",
      " 33.3 30.3 34.6 34.9 32.9 24.1 42.3 48.5 50.  22.6 24.4 22.5 24.4 20.\n",
      " 21.7 19.3 22.4 28.1 23.7 25.  23.3 28.7 21.5 23.  26.7 21.7 27.5 30.1\n",
      " 44.8 50.  37.6 31.6 46.7 31.5 24.3 31.7 41.7 48.3 29.  24.  25.1 31.5\n",
      " 23.7 23.3 22.  20.1 22.2 23.7 17.6 18.5 24.3 20.5 24.5 26.2 24.4 24.8\n",
      " 29.6 42.8 21.9 20.9 44.  50.  36.  30.1 33.8 43.1 48.8 31.  36.5 22.8\n",
      " 30.7 50.  43.5 20.7 21.1 25.2 24.4 35.2 32.4 32.  33.2 33.1 29.1 35.1\n",
      " 45.4 35.4 46.  50.  32.2 22.  20.1 23.2 22.3 24.8 28.5 37.3 27.9 23.9\n",
      " 21.7 28.6 27.1 20.3 22.5 29.  24.8 22.  26.4 33.1 36.1 28.4 33.4 28.2\n",
      " 22.8 20.3 16.1 22.1 19.4 21.6 23.8 16.2 17.8 19.8 23.1 21.  23.8 23.1\n",
      " 20.4 18.5 25.  24.6 23.  22.2 19.3 22.6 19.8 17.1 19.4 22.2 20.7 21.1\n",
      " 19.5 18.5 20.6 19.  18.7 32.7 16.5 23.9 31.2 17.5 17.2 23.1 24.5 26.6\n",
      " 22.9 24.1 18.6 30.1 18.2 20.6 17.8 21.7 22.7 22.6 25.  19.9 20.8 16.8\n",
      " 21.9 27.5 21.9 23.1 50.  50.  50.  50.  50.  13.8 13.8 15.  13.9 13.3\n",
      " 13.1 10.2 10.4 10.9 11.3 12.3  8.8  7.2 10.5  7.4 10.2 11.5 15.1 23.2\n",
      "  9.7 13.8 12.7 13.1 12.5  8.5  5.   6.3  5.6  7.2 12.1  8.3  8.5  5.\n",
      " 11.9 27.9 17.2 27.5 15.  17.2 17.9 16.3  7.   7.2  7.5 10.4  8.8  8.4\n",
      " 16.7 14.2 20.8 13.4 11.7  8.3 10.2 10.9 11.   9.5 14.5 14.1 16.1 14.3\n",
      " 11.7 13.4  9.6  8.7  8.4 12.8 10.5 17.1 18.4 15.4 10.8 11.8 14.9 12.6\n",
      " 14.1 13.  13.4 15.2 16.1 17.8 14.9 14.1 12.7 13.5 14.9 20.  16.4 17.7\n",
      " 19.5 20.2 21.4 19.9 19.  19.1 19.1 20.1 19.9 19.6 23.2 29.8 13.8 13.3\n",
      " 16.7 12.  14.6 21.4 23.  23.7 25.  21.8 20.6 21.2 19.1 20.6 15.2  7.\n",
      "  8.1 13.6 20.1 21.8 24.5 23.1 19.7 18.3 21.2 17.5 16.8 22.4 20.6 23.9\n",
      " 22.  11.9]\n"
     ]
    },
    {
     "data": {
      "text/plain": [
       "(506,)"
      ]
     },
     "execution_count": 6,
     "metadata": {},
     "output_type": "execute_result"
    }
   ],
   "source": [
    "print(Y)\n",
    "Y.shape"
   ]
  },
  {
   "cell_type": "code",
   "execution_count": 6,
   "id": "4554afe7",
   "metadata": {},
   "outputs": [
    {
     "name": "stdout",
     "output_type": "stream",
     "text": [
      "['CRIM' 'ZN' 'INDUS' 'CHAS' 'NOX' 'RM' 'AGE' 'DIS' 'RAD' 'TAX' 'PTRATIO'\n",
      " 'B' 'LSTAT']\n"
     ]
    }
   ],
   "source": [
    "print(boston.feature_names)"
   ]
  },
  {
   "cell_type": "code",
   "execution_count": 7,
   "id": "2919ab24",
   "metadata": {},
   "outputs": [
    {
     "name": "stdout",
     "output_type": "stream",
     "text": [
      ".. _boston_dataset:\n",
      "\n",
      "Boston house prices dataset\n",
      "---------------------------\n",
      "\n",
      "**Data Set Characteristics:**  \n",
      "\n",
      "    :Number of Instances: 506 \n",
      "\n",
      "    :Number of Attributes: 13 numeric/categorical predictive. Median Value (attribute 14) is usually the target.\n",
      "\n",
      "    :Attribute Information (in order):\n",
      "        - CRIM     per capita crime rate by town\n",
      "        - ZN       proportion of residential land zoned for lots over 25,000 sq.ft.\n",
      "        - INDUS    proportion of non-retail business acres per town\n",
      "        - CHAS     Charles River dummy variable (= 1 if tract bounds river; 0 otherwise)\n",
      "        - NOX      nitric oxides concentration (parts per 10 million)\n",
      "        - RM       average number of rooms per dwelling\n",
      "        - AGE      proportion of owner-occupied units built prior to 1940\n",
      "        - DIS      weighted distances to five Boston employment centres\n",
      "        - RAD      index of accessibility to radial highways\n",
      "        - TAX      full-value property-tax rate per $10,000\n",
      "        - PTRATIO  pupil-teacher ratio by town\n",
      "        - B        1000(Bk - 0.63)^2 where Bk is the proportion of blacks by town\n",
      "        - LSTAT    % lower status of the population\n",
      "        - MEDV     Median value of owner-occupied homes in $1000's\n",
      "\n",
      "    :Missing Attribute Values: None\n",
      "\n",
      "    :Creator: Harrison, D. and Rubinfeld, D.L.\n",
      "\n",
      "This is a copy of UCI ML housing dataset.\n",
      "https://archive.ics.uci.edu/ml/machine-learning-databases/housing/\n",
      "\n",
      "\n",
      "This dataset was taken from the StatLib library which is maintained at Carnegie Mellon University.\n",
      "\n",
      "The Boston house-price data of Harrison, D. and Rubinfeld, D.L. 'Hedonic\n",
      "prices and the demand for clean air', J. Environ. Economics & Management,\n",
      "vol.5, 81-102, 1978.   Used in Belsley, Kuh & Welsch, 'Regression diagnostics\n",
      "...', Wiley, 1980.   N.B. Various transformations are used in the table on\n",
      "pages 244-261 of the latter.\n",
      "\n",
      "The Boston house-price data has been used in many machine learning papers that address regression\n",
      "problems.   \n",
      "     \n",
      ".. topic:: References\n",
      "\n",
      "   - Belsley, Kuh & Welsch, 'Regression diagnostics: Identifying Influential Data and Sources of Collinearity', Wiley, 1980. 244-261.\n",
      "   - Quinlan,R. (1993). Combining Instance-Based and Model-Based Learning. In Proceedings on the Tenth International Conference of Machine Learning, 236-243, University of Massachusetts, Amherst. Morgan Kaufmann.\n",
      "\n"
     ]
    }
   ],
   "source": [
    "print(boston.DESCR)"
   ]
  },
  {
   "cell_type": "code",
   "execution_count": 8,
   "id": "7aba2e20",
   "metadata": {
    "scrolled": true
   },
   "outputs": [
    {
     "data": {
      "text/html": [
       "<div>\n",
       "<style scoped>\n",
       "    .dataframe tbody tr th:only-of-type {\n",
       "        vertical-align: middle;\n",
       "    }\n",
       "\n",
       "    .dataframe tbody tr th {\n",
       "        vertical-align: top;\n",
       "    }\n",
       "\n",
       "    .dataframe thead th {\n",
       "        text-align: right;\n",
       "    }\n",
       "</style>\n",
       "<table border=\"1\" class=\"dataframe\">\n",
       "  <thead>\n",
       "    <tr style=\"text-align: right;\">\n",
       "      <th></th>\n",
       "      <th>CRIM</th>\n",
       "      <th>ZN</th>\n",
       "      <th>INDUS</th>\n",
       "      <th>CHAS</th>\n",
       "      <th>NOX</th>\n",
       "      <th>RM</th>\n",
       "      <th>AGE</th>\n",
       "      <th>DIS</th>\n",
       "      <th>RAD</th>\n",
       "      <th>TAX</th>\n",
       "      <th>PTRATIO</th>\n",
       "      <th>B</th>\n",
       "      <th>LSTAT</th>\n",
       "    </tr>\n",
       "  </thead>\n",
       "  <tbody>\n",
       "    <tr>\n",
       "      <th>0</th>\n",
       "      <td>0.00632</td>\n",
       "      <td>18.0</td>\n",
       "      <td>2.31</td>\n",
       "      <td>0.0</td>\n",
       "      <td>0.538</td>\n",
       "      <td>6.575</td>\n",
       "      <td>65.2</td>\n",
       "      <td>4.0900</td>\n",
       "      <td>1.0</td>\n",
       "      <td>296.0</td>\n",
       "      <td>15.3</td>\n",
       "      <td>396.90</td>\n",
       "      <td>4.98</td>\n",
       "    </tr>\n",
       "    <tr>\n",
       "      <th>1</th>\n",
       "      <td>0.02731</td>\n",
       "      <td>0.0</td>\n",
       "      <td>7.07</td>\n",
       "      <td>0.0</td>\n",
       "      <td>0.469</td>\n",
       "      <td>6.421</td>\n",
       "      <td>78.9</td>\n",
       "      <td>4.9671</td>\n",
       "      <td>2.0</td>\n",
       "      <td>242.0</td>\n",
       "      <td>17.8</td>\n",
       "      <td>396.90</td>\n",
       "      <td>9.14</td>\n",
       "    </tr>\n",
       "    <tr>\n",
       "      <th>2</th>\n",
       "      <td>0.02729</td>\n",
       "      <td>0.0</td>\n",
       "      <td>7.07</td>\n",
       "      <td>0.0</td>\n",
       "      <td>0.469</td>\n",
       "      <td>7.185</td>\n",
       "      <td>61.1</td>\n",
       "      <td>4.9671</td>\n",
       "      <td>2.0</td>\n",
       "      <td>242.0</td>\n",
       "      <td>17.8</td>\n",
       "      <td>392.83</td>\n",
       "      <td>4.03</td>\n",
       "    </tr>\n",
       "    <tr>\n",
       "      <th>3</th>\n",
       "      <td>0.03237</td>\n",
       "      <td>0.0</td>\n",
       "      <td>2.18</td>\n",
       "      <td>0.0</td>\n",
       "      <td>0.458</td>\n",
       "      <td>6.998</td>\n",
       "      <td>45.8</td>\n",
       "      <td>6.0622</td>\n",
       "      <td>3.0</td>\n",
       "      <td>222.0</td>\n",
       "      <td>18.7</td>\n",
       "      <td>394.63</td>\n",
       "      <td>2.94</td>\n",
       "    </tr>\n",
       "    <tr>\n",
       "      <th>4</th>\n",
       "      <td>0.06905</td>\n",
       "      <td>0.0</td>\n",
       "      <td>2.18</td>\n",
       "      <td>0.0</td>\n",
       "      <td>0.458</td>\n",
       "      <td>7.147</td>\n",
       "      <td>54.2</td>\n",
       "      <td>6.0622</td>\n",
       "      <td>3.0</td>\n",
       "      <td>222.0</td>\n",
       "      <td>18.7</td>\n",
       "      <td>396.90</td>\n",
       "      <td>5.33</td>\n",
       "    </tr>\n",
       "  </tbody>\n",
       "</table>\n",
       "</div>"
      ],
      "text/plain": [
       "      CRIM    ZN  INDUS  CHAS    NOX     RM   AGE     DIS  RAD    TAX  \\\n",
       "0  0.00632  18.0   2.31   0.0  0.538  6.575  65.2  4.0900  1.0  296.0   \n",
       "1  0.02731   0.0   7.07   0.0  0.469  6.421  78.9  4.9671  2.0  242.0   \n",
       "2  0.02729   0.0   7.07   0.0  0.469  7.185  61.1  4.9671  2.0  242.0   \n",
       "3  0.03237   0.0   2.18   0.0  0.458  6.998  45.8  6.0622  3.0  222.0   \n",
       "4  0.06905   0.0   2.18   0.0  0.458  7.147  54.2  6.0622  3.0  222.0   \n",
       "\n",
       "   PTRATIO       B  LSTAT  \n",
       "0     15.3  396.90   4.98  \n",
       "1     17.8  396.90   9.14  \n",
       "2     17.8  392.83   4.03  \n",
       "3     18.7  394.63   2.94  \n",
       "4     18.7  396.90   5.33  "
      ]
     },
     "execution_count": 8,
     "metadata": {},
     "output_type": "execute_result"
    }
   ],
   "source": [
    "import pandas as pd\n",
    "df=pd.DataFrame(X)\n",
    "df.columns=boston.feature_names\n",
    "df.head()"
   ]
  },
  {
   "cell_type": "code",
   "execution_count": 9,
   "id": "553e2bbf",
   "metadata": {},
   "outputs": [
    {
     "data": {
      "text/html": [
       "<div>\n",
       "<style scoped>\n",
       "    .dataframe tbody tr th:only-of-type {\n",
       "        vertical-align: middle;\n",
       "    }\n",
       "\n",
       "    .dataframe tbody tr th {\n",
       "        vertical-align: top;\n",
       "    }\n",
       "\n",
       "    .dataframe thead th {\n",
       "        text-align: right;\n",
       "    }\n",
       "</style>\n",
       "<table border=\"1\" class=\"dataframe\">\n",
       "  <thead>\n",
       "    <tr style=\"text-align: right;\">\n",
       "      <th></th>\n",
       "      <th>CRIM</th>\n",
       "      <th>ZN</th>\n",
       "      <th>INDUS</th>\n",
       "      <th>CHAS</th>\n",
       "      <th>NOX</th>\n",
       "      <th>RM</th>\n",
       "      <th>AGE</th>\n",
       "      <th>DIS</th>\n",
       "      <th>RAD</th>\n",
       "      <th>TAX</th>\n",
       "      <th>PTRATIO</th>\n",
       "      <th>B</th>\n",
       "      <th>LSTAT</th>\n",
       "    </tr>\n",
       "  </thead>\n",
       "  <tbody>\n",
       "    <tr>\n",
       "      <th>count</th>\n",
       "      <td>506.000000</td>\n",
       "      <td>506.000000</td>\n",
       "      <td>506.000000</td>\n",
       "      <td>506.000000</td>\n",
       "      <td>506.000000</td>\n",
       "      <td>506.000000</td>\n",
       "      <td>506.000000</td>\n",
       "      <td>506.000000</td>\n",
       "      <td>506.000000</td>\n",
       "      <td>506.000000</td>\n",
       "      <td>506.000000</td>\n",
       "      <td>506.000000</td>\n",
       "      <td>506.000000</td>\n",
       "    </tr>\n",
       "    <tr>\n",
       "      <th>mean</th>\n",
       "      <td>3.613524</td>\n",
       "      <td>11.363636</td>\n",
       "      <td>11.136779</td>\n",
       "      <td>0.069170</td>\n",
       "      <td>0.554695</td>\n",
       "      <td>6.284634</td>\n",
       "      <td>68.574901</td>\n",
       "      <td>3.795043</td>\n",
       "      <td>9.549407</td>\n",
       "      <td>408.237154</td>\n",
       "      <td>18.455534</td>\n",
       "      <td>356.674032</td>\n",
       "      <td>12.653063</td>\n",
       "    </tr>\n",
       "    <tr>\n",
       "      <th>std</th>\n",
       "      <td>8.601545</td>\n",
       "      <td>23.322453</td>\n",
       "      <td>6.860353</td>\n",
       "      <td>0.253994</td>\n",
       "      <td>0.115878</td>\n",
       "      <td>0.702617</td>\n",
       "      <td>28.148861</td>\n",
       "      <td>2.105710</td>\n",
       "      <td>8.707259</td>\n",
       "      <td>168.537116</td>\n",
       "      <td>2.164946</td>\n",
       "      <td>91.294864</td>\n",
       "      <td>7.141062</td>\n",
       "    </tr>\n",
       "    <tr>\n",
       "      <th>min</th>\n",
       "      <td>0.006320</td>\n",
       "      <td>0.000000</td>\n",
       "      <td>0.460000</td>\n",
       "      <td>0.000000</td>\n",
       "      <td>0.385000</td>\n",
       "      <td>3.561000</td>\n",
       "      <td>2.900000</td>\n",
       "      <td>1.129600</td>\n",
       "      <td>1.000000</td>\n",
       "      <td>187.000000</td>\n",
       "      <td>12.600000</td>\n",
       "      <td>0.320000</td>\n",
       "      <td>1.730000</td>\n",
       "    </tr>\n",
       "    <tr>\n",
       "      <th>25%</th>\n",
       "      <td>0.082045</td>\n",
       "      <td>0.000000</td>\n",
       "      <td>5.190000</td>\n",
       "      <td>0.000000</td>\n",
       "      <td>0.449000</td>\n",
       "      <td>5.885500</td>\n",
       "      <td>45.025000</td>\n",
       "      <td>2.100175</td>\n",
       "      <td>4.000000</td>\n",
       "      <td>279.000000</td>\n",
       "      <td>17.400000</td>\n",
       "      <td>375.377500</td>\n",
       "      <td>6.950000</td>\n",
       "    </tr>\n",
       "    <tr>\n",
       "      <th>50%</th>\n",
       "      <td>0.256510</td>\n",
       "      <td>0.000000</td>\n",
       "      <td>9.690000</td>\n",
       "      <td>0.000000</td>\n",
       "      <td>0.538000</td>\n",
       "      <td>6.208500</td>\n",
       "      <td>77.500000</td>\n",
       "      <td>3.207450</td>\n",
       "      <td>5.000000</td>\n",
       "      <td>330.000000</td>\n",
       "      <td>19.050000</td>\n",
       "      <td>391.440000</td>\n",
       "      <td>11.360000</td>\n",
       "    </tr>\n",
       "    <tr>\n",
       "      <th>75%</th>\n",
       "      <td>3.677083</td>\n",
       "      <td>12.500000</td>\n",
       "      <td>18.100000</td>\n",
       "      <td>0.000000</td>\n",
       "      <td>0.624000</td>\n",
       "      <td>6.623500</td>\n",
       "      <td>94.075000</td>\n",
       "      <td>5.188425</td>\n",
       "      <td>24.000000</td>\n",
       "      <td>666.000000</td>\n",
       "      <td>20.200000</td>\n",
       "      <td>396.225000</td>\n",
       "      <td>16.955000</td>\n",
       "    </tr>\n",
       "    <tr>\n",
       "      <th>max</th>\n",
       "      <td>88.976200</td>\n",
       "      <td>100.000000</td>\n",
       "      <td>27.740000</td>\n",
       "      <td>1.000000</td>\n",
       "      <td>0.871000</td>\n",
       "      <td>8.780000</td>\n",
       "      <td>100.000000</td>\n",
       "      <td>12.126500</td>\n",
       "      <td>24.000000</td>\n",
       "      <td>711.000000</td>\n",
       "      <td>22.000000</td>\n",
       "      <td>396.900000</td>\n",
       "      <td>37.970000</td>\n",
       "    </tr>\n",
       "  </tbody>\n",
       "</table>\n",
       "</div>"
      ],
      "text/plain": [
       "             CRIM          ZN       INDUS        CHAS         NOX          RM  \\\n",
       "count  506.000000  506.000000  506.000000  506.000000  506.000000  506.000000   \n",
       "mean     3.613524   11.363636   11.136779    0.069170    0.554695    6.284634   \n",
       "std      8.601545   23.322453    6.860353    0.253994    0.115878    0.702617   \n",
       "min      0.006320    0.000000    0.460000    0.000000    0.385000    3.561000   \n",
       "25%      0.082045    0.000000    5.190000    0.000000    0.449000    5.885500   \n",
       "50%      0.256510    0.000000    9.690000    0.000000    0.538000    6.208500   \n",
       "75%      3.677083   12.500000   18.100000    0.000000    0.624000    6.623500   \n",
       "max     88.976200  100.000000   27.740000    1.000000    0.871000    8.780000   \n",
       "\n",
       "              AGE         DIS         RAD         TAX     PTRATIO           B  \\\n",
       "count  506.000000  506.000000  506.000000  506.000000  506.000000  506.000000   \n",
       "mean    68.574901    3.795043    9.549407  408.237154   18.455534  356.674032   \n",
       "std     28.148861    2.105710    8.707259  168.537116    2.164946   91.294864   \n",
       "min      2.900000    1.129600    1.000000  187.000000   12.600000    0.320000   \n",
       "25%     45.025000    2.100175    4.000000  279.000000   17.400000  375.377500   \n",
       "50%     77.500000    3.207450    5.000000  330.000000   19.050000  391.440000   \n",
       "75%     94.075000    5.188425   24.000000  666.000000   20.200000  396.225000   \n",
       "max    100.000000   12.126500   24.000000  711.000000   22.000000  396.900000   \n",
       "\n",
       "            LSTAT  \n",
       "count  506.000000  \n",
       "mean    12.653063  \n",
       "std      7.141062  \n",
       "min      1.730000  \n",
       "25%      6.950000  \n",
       "50%     11.360000  \n",
       "75%     16.955000  \n",
       "max     37.970000  "
      ]
     },
     "execution_count": 9,
     "metadata": {},
     "output_type": "execute_result"
    }
   ],
   "source": [
    "df.describe()"
   ]
  },
  {
   "cell_type": "markdown",
   "id": "ecf33a3f",
   "metadata": {},
   "source": [
    "### Normalise Dataset when you have multiple Feature"
   ]
  },
  {
   "cell_type": "code",
   "execution_count": 10,
   "id": "0e15f625",
   "metadata": {},
   "outputs": [
    {
     "name": "stdout",
     "output_type": "stream",
     "text": [
      "[3.61352356e+00 1.13636364e+01 1.11367787e+01 6.91699605e-02\n",
      " 5.54695059e-01 6.28463439e+00 6.85749012e+01 3.79504269e+00\n",
      " 9.54940711e+00 4.08237154e+02 1.84555336e+01 3.56674032e+02\n",
      " 1.26530632e+01]\n"
     ]
    }
   ],
   "source": [
    "import numpy as np\n",
    "\n",
    "u=np.mean(X,axis=0)\n",
    "std=np.std(X,axis=0)\n",
    "print(u)"
   ]
  },
  {
   "cell_type": "code",
   "execution_count": 11,
   "id": "eb353424",
   "metadata": {},
   "outputs": [],
   "source": [
    "#Normalise the data\n",
    "X=(X-u)/std"
   ]
  },
  {
   "cell_type": "code",
   "execution_count": 12,
   "id": "83011e3b",
   "metadata": {},
   "outputs": [
    {
     "name": "stdout",
     "output_type": "stream",
     "text": [
      "[[-0.41978194  0.28482986 -1.2879095  -0.27259857 -0.14421743]\n",
      " [-0.41733926 -0.48772236 -0.59338101 -0.27259857 -0.74026221]\n",
      " [-0.41734159 -0.48772236 -0.59338101 -0.27259857 -0.74026221]\n",
      " [-0.41675042 -0.48772236 -1.30687771 -0.27259857 -0.83528384]\n",
      " [-0.41248185 -0.48772236 -1.30687771 -0.27259857 -0.83528384]]\n"
     ]
    }
   ],
   "source": [
    "print(X[:5,:5])"
   ]
  },
  {
   "cell_type": "code",
   "execution_count": 13,
   "id": "a2c108bf",
   "metadata": {},
   "outputs": [
    {
     "data": {
      "text/plain": [
       "<matplotlib.collections.PathCollection at 0x7fe968c80370>"
      ]
     },
     "execution_count": 13,
     "metadata": {},
     "output_type": "execute_result"
    },
    {
     "data": {
      "image/png": "[encoded data removed]",
      "text/plain": [
       "<Figure size 432x288 with 1 Axes>"
      ]
     },
     "metadata": {
      "needs_background": "light"
     },
     "output_type": "display_data"
    }
   ],
   "source": [
    "#plot Y(target) vs any feature\n",
    "\n",
    "import matplotlib.pyplot as plt\n",
    "\n",
    "plt.scatter(X[:,5],Y)"
   ]
  },
  {
   "cell_type": "markdown",
   "id": "85c32645",
   "metadata": {},
   "source": [
    "### Linear Regression"
   ]
  },
  {
   "cell_type": "code",
   "execution_count": null,
   "id": "1ce2f8a9",
   "metadata": {},
   "outputs": [],
   "source": []
  },
  {
   "cell_type": "code",
   "execution_count": 14,
   "id": "3d8d8562",
   "metadata": {},
   "outputs": [
    {
     "name": "stdout",
     "output_type": "stream",
     "text": [
      "14\n"
     ]
    }
   ],
   "source": [
    "#adding x0 as another feature so that we can take dot product \n",
    "\n",
    "ones=np.ones((X.shape[0],1))\n",
    "X=np.hstack((ones,X))\n",
    "print(X.shape[1])"
   ]
  },
  {
   "cell_type": "code",
   "execution_count": 15,
   "id": "ec672bf6",
   "metadata": {},
   "outputs": [
    {
     "data": {
      "text/plain": [
       "array([[ 1.        , -0.41978194,  0.28482986, -1.2879095 ],\n",
       "       [ 1.        , -0.41733926, -0.48772236, -0.59338101],\n",
       "       [ 1.        , -0.41734159, -0.48772236, -0.59338101],\n",
       "       [ 1.        , -0.41675042, -0.48772236, -1.30687771]])"
      ]
     },
     "execution_count": 15,
     "metadata": {},
     "output_type": "execute_result"
    }
   ],
   "source": [
    "X[:4,:4]"
   ]
  },
  {
   "cell_type": "code",
   "execution_count": 16,
   "id": "217f5897",
   "metadata": {},
   "outputs": [],
   "source": [
    "#X - represnts Matrix(m*n) has n features \n",
    "#x - represents vector(Single row with n features)\n",
    "\n",
    "def hypothesis(x,theta):\n",
    "    y_ = 0.0\n",
    "    n = x.shape[0]\n",
    "    for i in range(n):\n",
    "        y_  += (theta[i]*x[i])\n",
    "    return y_\n",
    "\n",
    "def error(X,y,theta):\n",
    "    e = 0.0\n",
    "    m = X.shape[0]\n",
    "    \n",
    "    for i in range(m):\n",
    "        y_ = hypothesis(X[i],theta)\n",
    "        e += (y[i] - y_)**2\n",
    "        \n",
    "    return e/m\n",
    "\n",
    "def gradient(X,y,theta):\n",
    "    m,n = X.shape\n",
    "    \n",
    "    grad = np.zeros((n,))\n",
    "    \n",
    "    # for all values of j\n",
    "    for j in range(n):\n",
    "        #sum over all examples\n",
    "        for i in range(m):\n",
    "            y_ = hypothesis(X[i],theta)\n",
    "            grad[j] += (y_ - y[i])*X[i][j]\n",
    "    # Out of the loops\n",
    "    return grad/m\n",
    "\n",
    "def gradient_descent(X,y,learning_rate=0.1,max_epochs=300):\n",
    "    m,n = X.shape\n",
    "    theta = np.zeros((n,))\n",
    "    error_list = []\n",
    "    \n",
    "    for i in range(max_epochs):\n",
    "        e = error(X,y,theta)\n",
    "        error_list.append(e)\n",
    "        \n",
    "        # Gradient Descent\n",
    "        grad = gradient(X,y,theta)\n",
    "        for j in range(n):\n",
    "            theta[j] = theta[j] - learning_rate*grad[j]\n",
    "        \n",
    "    return theta,error_list\n",
    "    \n",
    "    \n",
    "        "
   ]
  },
  {
   "cell_type": "code",
   "execution_count": 17,
   "id": "d295c8fd",
   "metadata": {},
   "outputs": [
    {
     "name": "stdout",
     "output_type": "stream",
     "text": [
      "time taken is  9.767215013504028\n"
     ]
    }
   ],
   "source": [
    "import time\n",
    "start=time.time()\n",
    "theta,error_list=gradient_descent(X,Y)\n",
    "end=time.time()\n",
    "print(\"time taken is \",end-start)"
   ]
  },
  {
   "cell_type": "code",
   "execution_count": 18,
   "id": "04b5a7ee",
   "metadata": {},
   "outputs": [
    {
     "name": "stdout",
     "output_type": "stream",
     "text": [
      "[ 2.25328063e+01 -9.03091692e-01  1.03815625e+00  1.53477685e-02\n",
      "  6.99554920e-01 -2.02101672e+00  2.70014278e+00 -1.93085233e-03\n",
      " -3.10234837e+00  2.34354753e+00 -1.72031485e+00 -2.04614394e+00\n",
      "  8.47845679e-01 -3.73089521e+00]\n"
     ]
    }
   ],
   "source": [
    "print(theta)"
   ]
  },
  {
   "cell_type": "code",
   "execution_count": 19,
   "id": "416e2b1f",
   "metadata": {},
   "outputs": [
    {
     "data": {
      "text/plain": [
       "[<matplotlib.lines.Line2D at 0x7fe968cc2550>]"
      ]
     },
     "execution_count": 19,
     "metadata": {},
     "output_type": "execute_result"
    },
    {
     "data": {
      "image/png": "[encoded data removed]",
      "text/plain": [
       "<Figure size 432x288 with 1 Axes>"
      ]
     },
     "metadata": {
      "needs_background": "light"
     },
     "output_type": "display_data"
    }
   ],
   "source": [
    "plt.plot(error_list)"
   ]
  },
  {
   "cell_type": "markdown",
   "id": "e2670893",
   "metadata": {},
   "source": [
    "### Predictions"
   ]
  },
  {
   "cell_type": "code",
   "execution_count": 20,
   "id": "121d1401",
   "metadata": {},
   "outputs": [],
   "source": [
    "y_=[]\n",
    "m=X.shape[0]\n",
    "for i in range(m):\n",
    "    pred=hypothesis(X[i],theta)\n",
    "    y_.append(pred)\n",
    "    \n",
    "    \n",
    "y_=np.array(y_)    \n"
   ]
  },
  {
   "cell_type": "code",
   "execution_count": 21,
   "id": "daf44ec8",
   "metadata": {},
   "outputs": [
    {
     "data": {
      "text/plain": [
       "array([30.18633694, 24.99095484, 30.56568098, 28.6220126 , 27.9619464 ,\n",
       "       25.24452832, 22.96581931, 19.4959112 , 11.48031987, 18.87883585,\n",
       "       18.97129884, 21.54039453, 20.89285327, 19.60128149, 19.32367393,\n",
       "       19.3458686 , 20.59832729, 16.95783793, 16.23493881, 18.44548854,\n",
       "       12.55479461, 17.70925422, 15.88547043, 13.84190443, 15.71570947,\n",
       "       13.4205508 , 15.49775358, 14.75818241, 19.59955913, 20.93977682,\n",
       "       11.49745095, 18.09361635,  8.88301038, 14.31610222, 13.75983633,\n",
       "       23.77730951, 22.30988941, 23.08772244, 22.90940545, 31.27562517,\n",
       "       34.14934567, 27.99150715, 25.15161107, 24.56195221, 22.86665722,\n",
       "       22.01299699, 20.35079995, 17.94239765,  9.0032359 , 17.10959314,\n",
       "       21.16463059, 23.8404942 , 27.56319999, 23.94281148, 15.70766609,\n",
       "       30.96324445, 24.93746243, 32.91466583, 21.63293708, 20.92400291,\n",
       "       17.6977369 , 18.32617385, 23.82616369, 22.4283064 , 23.34895856,\n",
       "       30.37522177, 25.5255783 , 21.2306401 , 17.52571154, 20.89494847,\n",
       "       25.20175729, 21.72374982, 24.54156678, 24.03905863, 25.62679124,\n",
       "       24.06381642, 23.02484813, 23.44984561, 21.35657377, 22.51629435,\n",
       "       28.40848967, 26.96899155, 26.0263214 , 25.03478105, 24.79279036,\n",
       "       27.79575063, 22.17067399, 25.88154887, 30.78085348, 30.95800581,\n",
       "       27.22453062, 27.51066854, 28.71288943, 28.859444  , 26.79054644,\n",
       "       28.75132406, 24.83596211, 35.94281395, 35.29511986, 32.40179358,\n",
       "       24.75516584, 25.77444454, 19.95640618, 20.46644109, 21.58632495,\n",
       "       18.68176932, 17.33656725, 20.90711862, 22.80555026, 19.93114262,\n",
       "       20.83065748, 26.72618732, 20.94596258, 20.89490035, 25.35381775,\n",
       "       20.60731806, 23.5681151 , 23.86484071, 20.52156256, 20.97469607,\n",
       "       21.46430039, 22.01300726, 20.09753035, 15.91329192, 20.09521555,\n",
       "       22.02074575, 14.15984655, 15.25545131, 19.03740999, 14.1352851 ,\n",
       "       20.13025782, 19.50313176, 20.15288628, 15.83693395, 13.33844552,\n",
       "       17.36216855, 15.96622551, 19.46024179, 13.90315188, 16.54388879,\n",
       "       13.68013927,  4.07198338, 14.72017174, 12.20784414,  8.76929608,\n",
       "       12.12027516, 15.86629239,  8.55791283,  9.77073593, 14.86013526,\n",
       "       20.8952471 , 18.32765139, 20.21117474, 17.33271057, 22.49615131,\n",
       "       20.25459101, 13.65952896, 33.2468105 , 28.98648563, 25.62406378,\n",
       "       32.74562707, 36.7823308 , 40.64269162, 41.95843663, 24.75521343,\n",
       "       25.35466422, 37.22852041, 23.0666828 , 26.38364858, 26.63892348,\n",
       "       22.52389982, 24.25575334, 22.97600489, 29.09572209, 26.53800723,\n",
       "       30.78324212, 25.65654447, 29.16112396, 31.47969566, 32.86492694,\n",
       "       34.68152029, 27.68209514, 33.81087102, 30.89257238, 22.60237111,\n",
       "       24.6856437 , 35.86195874, 33.60287616, 32.58804086, 34.70805199,\n",
       "       30.9599932 , 30.47235491, 33.11862186, 32.15190019, 31.58307316,\n",
       "       40.7789065 , 36.23403224, 32.77576042, 34.81194629, 30.32367884,\n",
       "       30.88109842, 29.39755706, 37.24480147, 41.83064886, 42.99421839,\n",
       "       22.62968833, 23.61607964, 17.76509228, 23.48946808, 16.95873754,\n",
       "       22.36303304, 17.02544724, 22.73071165, 25.16655046, 11.08457985,\n",
       "       24.44301282, 26.49588   , 28.17670655, 24.78916776, 29.56428433,\n",
       "       33.1752172 , 23.75561209, 32.13861685, 29.65742786, 38.33728061,\n",
       "       39.79578234, 37.53634615, 32.32855843, 35.44820177, 31.18054207,\n",
       "       24.38893517, 33.22734434, 38.02023676, 37.136191  , 31.71171598,\n",
       "       25.17935464, 30.08970257, 32.66118869, 28.37608803, 28.36666955,\n",
       "       27.23977663, 23.65256421, 24.04779992, 27.35469295, 16.25582102,\n",
       "       13.34172873, 19.98853241, 19.80620596, 21.26183873, 24.08247968,\n",
       "       24.20210886, 25.03563452, 24.93445899, 30.00798592, 24.03262586,\n",
       "       21.76211251, 37.36399601, 43.31706217, 36.44279771, 34.92929383,\n",
       "       34.78322719, 37.13926091, 40.99074091, 34.41612486, 35.79504137,\n",
       "       28.1727436 , 31.19888966, 40.83676536, 39.288083  , 25.63769699,\n",
       "       22.17456441, 27.09685757, 28.38539604, 35.46717966, 36.06036707,\n",
       "       33.67574658, 35.57670377, 34.80227754, 30.23276262, 35.15620445,\n",
       "       38.6547765 , 34.17960958, 40.27116049, 44.62943331, 31.62777158,\n",
       "       27.46303705, 20.06657863, 26.90212328, 27.06757675, 26.79818362,\n",
       "       33.2601829 , 34.23933167, 31.65529255, 25.69684394, 24.2895399 ,\n",
       "       28.34371519, 27.23067951, 19.38951302, 29.16824677, 31.99858441,\n",
       "       30.8269393 , 28.87794391, 28.82920298, 32.75779147, 33.03623723,\n",
       "       30.56272488, 35.37125142, 32.50005623, 28.63810791, 23.57437039,\n",
       "       18.53177462, 26.88111528, 23.26016057, 25.53297274, 25.47905049,\n",
       "       20.51632102, 17.60898892, 18.36840885, 24.2989913 , 21.33484616,\n",
       "       24.86836994, 24.84700456, 22.84025836, 19.39821704, 25.10698231,\n",
       "       24.67525381, 23.67513357, 19.32722116, 21.5477069 , 24.64514863,\n",
       "       21.97057077, 20.07479807, 23.43733111, 22.04503869, 21.46088043,\n",
       "       20.51923232, 20.04886555, 19.1653249 , 22.06584752, 21.14213423,\n",
       "       21.3104903 , 30.47952808, 22.54704194, 27.81843045, 28.68415534,\n",
       "       16.7673417 , 15.00298937, 25.32056825, 27.48492114, 22.43006026,\n",
       "       20.71716445, 20.80542326, 17.13133769, 25.08441022, 14.38628919,\n",
       "       16.66407668, 19.68860641, 22.75865294, 22.23952396, 19.17293283,\n",
       "       22.63144217, 18.89898144, 18.15059782, 20.25540711, 37.59798667,\n",
       "       14.12492034, 15.44545915, 10.69037333, 23.6532781 , 32.63561679,\n",
       "       34.61091787, 24.86570161, 25.99542188,  6.06180234,  0.71215143,\n",
       "       25.32082269, 17.73873273, 20.2120143 , 15.84398124, 16.8168905 ,\n",
       "       14.58452918, 18.46416478, 13.37107784, 13.00277178,  3.23209322,\n",
       "        8.03047544,  6.09178153,  5.60426784,  6.39907926, 14.13868221,\n",
       "       17.14671178, 17.25536638,  9.82922179, 20.17590698, 17.89942848,\n",
       "       20.26838217, 19.25481427, 16.27530756,  6.58723159, 10.87430865,\n",
       "       11.8912482 , 17.79163586, 18.23023728, 12.95565459,  7.43244283,\n",
       "        8.32802386,  7.97864605, 19.90471826, 13.62476144, 19.82469081,\n",
       "       15.24712007, 16.9292683 ,  1.64962962, 11.75673818, -4.2422687 ,\n",
       "        9.59547725, 13.37128374,  6.89080314,  6.2886687 , 14.63272108,\n",
       "       19.57294693, 18.07517537, 18.44554355, 13.12415263, 14.55111653,\n",
       "        9.90466233, 16.29625138, 14.12584991, 14.23134913, 13.02062831,\n",
       "       18.10033763, 18.6562879 , 21.46341362, 17.00279126, 15.94079571,\n",
       "       13.37168725, 14.52722865,  8.82709859,  4.8841789 , 13.02914465,\n",
       "       12.71318484, 17.28040573, 18.69901555, 18.04405036, 11.498378  ,\n",
       "       11.97862086, 17.65443998, 18.10166746, 17.4819    , 17.19808049,\n",
       "       16.5091233 , 19.38287045, 18.54146673, 22.49198974, 15.27495005,\n",
       "       15.79847469, 12.6455792 , 12.84583944, 17.16031146, 18.46994646,\n",
       "       19.02408657, 20.12821931, 19.73964122, 22.38802915, 20.27846759,\n",
       "       17.83103569, 14.31089914, 16.86064979, 16.93728254, 18.53081349,\n",
       "       20.08306855, 22.86851111, 22.38272261, 25.53964704, 16.28690641,\n",
       "       16.03889051, 20.47078681, 11.47360361, 19.14215843, 21.81114569,\n",
       "       23.38202469, 27.0173952 , 28.49714159, 20.98934056, 19.383023  ,\n",
       "       22.15757864, 19.57601477, 21.24893652, 12.38837802,  8.76205574,\n",
       "        4.20127822, 14.30651575, 16.48193898, 20.7541228 , 20.75988486,\n",
       "       17.04111566, 14.13159609, 19.23104385, 21.43031199, 18.56811902,\n",
       "       20.59285253, 23.57836567, 22.39616551, 27.66240175, 26.15939095,\n",
       "       22.35625671])"
      ]
     },
     "execution_count": 21,
     "metadata": {},
     "output_type": "execute_result"
    }
   ],
   "source": [
    "y_"
   ]
  },
  {
   "cell_type": "code",
   "execution_count": 22,
   "id": "ee2eabbb",
   "metadata": {},
   "outputs": [],
   "source": [
    "def r2_score(y,y_):\n",
    "    num = np.sum((y-y_)**2)\n",
    "    denom = np.sum((y- y.mean())**2)\n",
    "    score = (1- num/denom)\n",
    "    return score*100"
   ]
  },
  {
   "cell_type": "code",
   "execution_count": 23,
   "id": "18040d21",
   "metadata": {},
   "outputs": [
    {
     "data": {
      "text/plain": [
       "74.04541323942743"
      ]
     },
     "execution_count": 23,
     "metadata": {},
     "output_type": "execute_result"
    }
   ],
   "source": [
    "r2_score(Y,y_)"
   ]
  },
  {
   "cell_type": "markdown",
   "id": "fbf46688",
   "metadata": {},
   "source": [
    "### Optimising code Using Vectorisation"
   ]
  },
  {
   "cell_type": "code",
   "execution_count": 26,
   "id": "a059623c",
   "metadata": {},
   "outputs": [],
   "source": [
    "def hypothesis(X,theta):\n",
    "    return np.dot(X,theta)\n",
    "\n",
    "def error(X,y,theta):\n",
    "    e = 0.0\n",
    "    y_ = hypothesis(X,theta)\n",
    "    e = np.sum((y-y_)**2)\n",
    "    \n",
    "    return e/X.shape[0]\n",
    "    \n",
    "def gradient(X,y,theta):\n",
    "    \n",
    "    y_ = hypothesis(X,theta)\n",
    "    grad = np.dot(X.T,(y_ - y))\n",
    "    m = X.shape[0]\n",
    "    return grad/m\n",
    "\n",
    "def gradient_descent(X,y,learning_rate = 0.1,max_iters=300):\n",
    "    \n",
    "    n = X.shape[1]\n",
    "    theta = np.zeros((n,))\n",
    "    error_list = []\n",
    "    \n",
    "    for i in range(max_iters):\n",
    "        e = error(X,y,theta)\n",
    "        error_list.append(e)\n",
    "        \n",
    "        #Gradient descent\n",
    "        grad = gradient(X,y,theta)\n",
    "        theta = theta - learning_rate*grad\n",
    "        \n",
    "    return theta,error_list   \n",
    "    "
   ]
  },
  {
   "cell_type": "code",
   "execution_count": 29,
   "id": "db6c9c72",
   "metadata": {},
   "outputs": [
    {
     "name": "stdout",
     "output_type": "stream",
     "text": [
      "Time taken  0.020410776138305664\n"
     ]
    }
   ],
   "source": [
    "start=time.time()\n",
    "thetha,errorlist=gradient_descent(X,Y)\n",
    "end=time.time()\n",
    "print(\"Time taken \",end-start)"
   ]
  },
  {
   "cell_type": "code",
   "execution_count": 30,
   "id": "edd4b628",
   "metadata": {},
   "outputs": [
    {
     "name": "stdout",
     "output_type": "stream",
     "text": [
      "[ 2.25328063e+01 -9.03091692e-01  1.03815625e+00  1.53477685e-02\n",
      "  6.99554920e-01 -2.02101672e+00  2.70014278e+00 -1.93085233e-03\n",
      " -3.10234837e+00  2.34354753e+00 -1.72031485e+00 -2.04614394e+00\n",
      "  8.47845679e-01 -3.73089521e+00]\n"
     ]
    }
   ],
   "source": [
    "print(thetha)"
   ]
  },
  {
   "cell_type": "code",
   "execution_count": 31,
   "id": "e79dbd63",
   "metadata": {},
   "outputs": [
    {
     "name": "stdout",
     "output_type": "stream",
     "text": [
      "[592.1469169960474, 462.4604490684581, 375.3852750957273, 307.6933342962929, 253.3916863467937, 209.55988275906446, 174.1302049153625, 145.47824715741686, 122.30009891984596, 103.54456174692926, 88.36328034470081, 76.0713129155594, 66.11549356461222, 58.048967153583966, 51.51067344934865, 46.20881061552669, 41.90750109402471, 38.41603601946842, 35.58019677482985, 33.275250473323695, 31.400294933308405, 29.873691975646693, 28.629378705367408, 27.61388730734379, 26.78393675990614, 26.10448632753721, 25.547161996504908, 25.08898417710861, 24.71133882441255, 24.399145276935652, 24.140183102536817, 23.924547492728305, 23.744208598563592, 23.59265492471798, 23.464604712017074, 23.35577231847968, 23.26267909670338, 23.182500275377254, 23.112940976950796, 23.05213581628629, 22.998567586378826, 22.95100139528269, 22.9084313122499, 22.870037142264877, 22.83514940208474, 22.80322093811317, 22.773803923546087, 22.746531212641216, 22.721101224522535, 22.697265686396182, 22.67481969351143, 22.65359364637799, 22.63344670928047, 22.614261501761476, 22.595939789505692, 22.578398985402433, 22.56156930747654, 22.54539146946374, 22.529814803365436, 22.514795732401407, 22.500296528238636, 22.486284298899054, 22.472730163896642, 22.45960858137696, 22.446896798695185, 22.434574403268602, 22.4226229549157, 22.411025684441583, 22.399767246104748, 22.38883351393122, 22.378211413732533, 22.367888784215975, 22.357854261818897, 22.34809718490639, 22.338607513789544, 22.32937576368471, 22.32039294827239, 22.311650531951095, 22.303140389236223, 22.294854770041425, 22.2867862698142, 22.27892780368666, 22.271272583957156, 22.26381410034353, 22.256546102550615, 22.249462584777746, 22.242557771859154, 22.23582610678535, 22.22926223939797, 22.222861016087286, 22.21661747035124, 22.210526814098916, 22.204584429601606, 22.198785862010332, 22.193126812372455, 22.187603131090526, 22.18221081177555, 22.176945985454438, 22.171804915097017, 22.16678399043339, 22.16187972303634, 22.157088741647005, 22.15240778772477, 22.147833711204964, 22.143363466449618, 22.13899410837849, 22.134722788768816, 22.13054675271361, 22.126463335229015, 22.122469958002576, 22.118564126274684, 22.114743425846136, 22.111005520205502, 22.107348147770335, 22.103769119236713, 22.100266315031995, 22.096837682866102, 22.093481235376775, 22.090195047864636, 22.086977256114245, 22.083826054297205, 22.08073969295409, 22.077716477051652, 22.074754764112306, 22.071852962412873, 22.06900952924971, 22.06622296926763, 22.063491832849984, 22.060814714567442, 22.05819025168324, 22.055617122712547, 22.053094046033983, 22.050619778551077, 22.048193114401936, 22.045812883715044, 22.043477951409628, 22.04118721603879, 22.038939608673694, 22.036734091827494, 22.03456965841724, 22.032445330762485, 22.030360159619207, 22.02831322324767, 22.026303626513023, 22.024330500017356, 22.022392999262156, 22.020490303839857, 22.01862161665369, 22.016786163164465, 22.014983190663603, 22.013211967571248, 22.011471782758644, 22.009761944893903, 22.008081781810223, 22.006430639895903, 22.004807883505165, 22.003212894389247, 22.001645071146857, 22.00010382869341, 21.99858859774835, 21.997098824339826, 21.99563396932629, 21.99419350793418, 21.992776929311336, 21.99138373609539, 21.990013443996812, 21.988665581395892, 21.98733968895331, 21.98603531923371, 21.984752036341916, 21.98348941557132, 21.9822470430639, 21.98102451548168, 21.979821439689, 21.978637432445403, 21.977472120108647, 21.976325138347576, 21.975196131864404, 21.97408475412622, 21.972990667105254, 21.971913541027735, 21.970853054130878, 21.96980889242794, 21.968780749480853, 21.967768326180273, 21.966771330532843, 21.965789477455278, 21.96482248857515, 21.963870092038164, 21.96293202232155, 21.962008020053542, 21.961097831838632, 21.960201210088417, 21.959317912857895, 21.958447703686893, 21.957590351446694, 21.95674563019141, 21.955913319014126, 21.95509320190761, 21.95428506762936, 21.953488709571005, 21.95270392563171, 21.95193051809559, 21.95116829351298, 21.950417062585405, 21.9496766400541, 21.94894684459201, 21.94822749869917, 21.947518428601256, 21.94681946415132, 21.946130438734524, 21.945451189175778, 21.944781555650227, 21.944121381596474, 21.943470513632434, 21.942828801473702, 21.94219609785449, 21.941572258450826, 21.94095714180615, 21.940350609259134, 21.939752524873615, 21.939162755370646, 21.938581170062573, 21.93800764078908, 21.93744204185506, 21.936884249970397, 21.936334144191445, 21.935791605864267, 21.93525651856952, 21.934728768068936, 21.934208242253334, 21.933694831092172, 21.93318842658451, 21.932688922711456, 21.932196215389844, 21.931710202427347, 21.93123078347882, 21.930757860003844, 21.930291335225547, 21.929831114090494, 21.929377103229754, 21.928929210921012, 21.928487347051803, 21.928051423083655, 21.927621352017315, 21.927197048358863, 21.926778428086806, 21.92636540862003, 21.9259579087866, 21.925555848793486, 21.92515915019699, 21.92476773587406, 21.924381529994317, 21.92400045799282, 21.923624446543577, 21.923253423533748, 21.92288731803851, 21.922526060296565, 21.922169581686326, 21.921817814702685, 21.92147069293435, 21.921128151041856, 21.920790124736037, 21.92045655075708, 21.920127366854135, 21.9198025117654, 21.919481925198703, 21.919165547812586, 21.91885332119786, 21.9185451878596, 21.91824109119957, 21.917940975499107, 21.917644785902393, 21.917352468400164, 21.91706396981375, 21.916779237779576, 21.91649822073394, 21.916220867898264, 21.915947129264573, 21.91567695558139, 21.91541029833994, 21.915147109760674, 21.91488734278009, 21.91463095103788, 21.914377888864344, 21.914128111268106, 21.91388157392412, 21.913638233161905, 21.91339804595408, 21.913160969905135, 21.912926963240444, 21.912695984795572, 21.912467994005695, 21.91224295089542, 21.912020816068654, 21.911801550698815, 21.9115851165192, 21.911371475813546, 21.911160591406826, 21.910952426656223]\n"
     ]
    }
   ],
   "source": [
    "print(errorlist)"
   ]
  },
  {
   "cell_type": "code",
   "execution_count": 32,
   "id": "0ee16e73",
   "metadata": {},
   "outputs": [
    {
     "data": {
      "text/plain": [
       "[<matplotlib.lines.Line2D at 0x7fe97b66efa0>]"
      ]
     },
     "execution_count": 32,
     "metadata": {},
     "output_type": "execute_result"
    },
    {
     "data": {
      "image/png": "[encoded data removed]",
      "text/plain": [
       "<Figure size 432x288 with 1 Axes>"
      ]
     },
     "metadata": {
      "needs_background": "light"
     },
     "output_type": "display_data"
    }
   ],
   "source": [
    "plt.plot(errorlist)"
   ]
  },
  {
   "cell_type": "code",
   "execution_count": 33,
   "id": "59766f94",
   "metadata": {},
   "outputs": [
    {
     "data": {
      "text/plain": [
       "74.04541323942743"
      ]
     },
     "execution_count": 33,
     "metadata": {},
     "output_type": "execute_result"
    }
   ],
   "source": [
    "y_=hypothesis(X,theta)\n",
    "r2_score(Y,y_)\n",
    "\n"
   ]
  },
  {
   "cell_type": "code",
   "execution_count": 37,
   "id": "af30379e",
   "metadata": {},
   "outputs": [
    {
     "name": "stdout",
     "output_type": "stream",
     "text": [
      "[0. 0. 0. 0. 0. 0. 0. 0. 0. 0. 0. 0. 0. 0.]\n"
     ]
    }
   ],
   "source": [
    "n=X.shape[1]\n",
    "theta = np.zeros((n,))\n",
    "print(theta)"
   ]
  },
  {
   "cell_type": "code",
   "execution_count": null,
   "id": "bf031499",
   "metadata": {},
   "outputs": [],
   "source": []
  }
 ],
 "metadata": {
  "kernelspec": {
   "display_name": "Python 3 (ipykernel)",
   "language": "python",
   "name": "python3"
  },
  "language_info": {
   "codemirror_mode": {
    "name": "ipython",
    "version": 3
   },
   "file_extension": ".py",
   "mimetype": "text/x-python",
   "name": "python",
   "nbconvert_exporter": "python",
   "pygments_lexer": "ipython3",
   "version": "3.9.6"
  }
 },
 "nbformat": 4,
 "nbformat_minor": 5
}
