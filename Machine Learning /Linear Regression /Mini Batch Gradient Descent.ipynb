{
 "cells": [
  {
   "cell_type": "code",
   "execution_count": 4,
   "id": "bbecd386",
   "metadata": {},
   "outputs": [],
   "source": [
    "from sklearn.datasets import make_regression\n",
    "import numpy as np\n",
    "import matplotlib.pyplot as plt\n"
   ]
  },
  {
   "cell_type": "code",
   "execution_count": 5,
   "id": "2dc2346f",
   "metadata": {},
   "outputs": [],
   "source": [
    "X,Y=make_regression(n_samples=10000,n_features=20,n_informative=20,noise=10,random_state=1)\n",
    "\n",
    "#Normalise the dataset\n",
    "\n",
    "u=X.mean()\n",
    "std=X.std()\n",
    "X=(X-u)/std"
   ]
  },
  {
   "cell_type": "code",
   "execution_count": 6,
   "id": "93778d89",
   "metadata": {},
   "outputs": [
    {
     "name": "stdout",
     "output_type": "stream",
     "text": [
      "(10000, 20) (10000,)\n"
     ]
    }
   ],
   "source": [
    "print(X.shape,Y.shape)\n"
   ]
  },
  {
   "cell_type": "code",
   "execution_count": 7,
   "id": "c962ddae",
   "metadata": {},
   "outputs": [
    {
     "name": "stdout",
     "output_type": "stream",
     "text": [
      "(10000, 21) (10000,)\n"
     ]
    }
   ],
   "source": [
    "#Add a column for vectorisation ( x0=1)\n",
    "\n",
    "ones=np.ones((X.shape[0],1))\n",
    "X=np.hstack((ones,X))\n",
    "print(X.shape,Y.shape)"
   ]
  },
  {
   "cell_type": "code",
   "execution_count": 26,
   "id": "a9c128fa",
   "metadata": {},
   "outputs": [],
   "source": [
    "def hypothesis(X,theta):\n",
    "    return np.dot(X,theta)\n",
    "\n",
    "def error(X,y,theta):\n",
    "    e = 0.0\n",
    "    y_ = hypothesis(X,theta)\n",
    "    e = np.sum((y-y_)**2)\n",
    "    \n",
    "    return e/X.shape[0]\n",
    "    \n",
    "def gradient(X,y,theta):\n",
    "    \n",
    "    y_ = hypothesis(X,theta)\n",
    "    grad = np.dot(X.T,(y_ - y))\n",
    "    m = X.shape[0]\n",
    "    return grad/m\n",
    "\n",
    "def gradient_descent(X,y,learning_rate = 0.1,max_iters=100):\n",
    "    \n",
    "    n = X.shape[1]\n",
    "    theta = np.zeros((n,))\n",
    "    error_list = []\n",
    "    \n",
    "    for i in range(max_iters):\n",
    "        e = error(X,y,theta)\n",
    "        error_list.append(e)\n",
    "        \n",
    "        #Gradient descent\n",
    "        grad = gradient(X,y,theta)\n",
    "        theta = theta - learning_rate*grad\n",
    "        \n",
    "    return theta,error_list\n",
    "    "
   ]
  },
  {
   "cell_type": "code",
   "execution_count": 27,
   "id": "7e3b81d5",
   "metadata": {},
   "outputs": [],
   "source": [
    "def mini_batch_gradient_descent(X,y,batch_size=200,learning_rate=0.01,max_itrs=10):\n",
    "    n = X.shape[1]\n",
    "    theta = np.zeros((n,))\n",
    "    error_list = []\n",
    "    \n",
    "    data=np.hstack((X,y.reshape(-1,1)))\n",
    "    for i in range(max_itrs):\n",
    "        e = error(X,y,theta)\n",
    "        error_list.append(e)\n",
    "        \n",
    "        #Mini Btach Gradient descent\n",
    "        np.random.shuffle(data)\n",
    "        m=data.shape[0]\n",
    "        total_batches=m//batch_size\n",
    "        \n",
    "        for i in range(total_batches):\n",
    "            batch_data=data[i*batch_size:(i+1)*batch_size,:]\n",
    "            \n",
    "            x_batch=batch_data[:,:-1]\n",
    "            y_batch=batch_data[:,-1]\n",
    "            \n",
    "            batch_grad=gradient(x_batch,y_batch,theta)\n",
    "            theta=theta-learning_rate*batch_grad\n",
    "            e = error(x_batch,y_batch,theta)\n",
    "            error_list.append(e)\n",
    "            \n",
    "            \n",
    "            \n",
    "        \n",
    "    return theta,error_list"
   ]
  },
  {
   "cell_type": "code",
   "execution_count": 28,
   "id": "914caedb",
   "metadata": {},
   "outputs": [
    {
     "data": {
      "image/png": "[encoded data removed]",
      "text/plain": [
       "<Figure size 432x288 with 1 Axes>"
      ]
     },
     "metadata": {
      "needs_background": "light"
     },
     "output_type": "display_data"
    }
   ],
   "source": [
    "#batch gradient descent example\n",
    "\n",
    "theta,errorlist=gradient_descent(X,Y)\n",
    "plt.figure()\n",
    "plt.plot(np.arange(len(errorlist)),errorlist)\n",
    "plt.show()"
   ]
  },
  {
   "cell_type": "code",
   "execution_count": 29,
   "id": "6e49bcdb",
   "metadata": {},
   "outputs": [
    {
     "data": {
      "image/png": "[encoded data removed]",
      "text/plain": [
       "<Figure size 432x288 with 1 Axes>"
      ]
     },
     "metadata": {
      "needs_background": "light"
     },
     "output_type": "display_data"
    }
   ],
   "source": [
    "#Mini batch gradient descent example\n",
    "\n",
    "mini_batch_theta,mini_batch_errorlist=mini_batch_gradient_descent(X,Y)\n",
    "plt.figure()\n",
    "plt.plot(np.arange(len(mini_batch_errorlist)),mini_batch_errorlist)\n",
    "plt.show()"
   ]
  },
  {
   "cell_type": "code",
   "execution_count": 33,
   "id": "a07cf1cf",
   "metadata": {},
   "outputs": [
    {
     "name": "stdout",
     "output_type": "stream",
     "text": [
      "262.69090341929325\n"
     ]
    }
   ],
   "source": [
    "final_error=errorlist[-1]\n",
    "print(final_error)"
   ]
  },
  {
   "cell_type": "code",
   "execution_count": 36,
   "id": "004707fc",
   "metadata": {},
   "outputs": [
    {
     "name": "stdout",
     "output_type": "stream",
     "text": [
      "[-266.04431688 -612.47413983 -152.69899814 ...  174.41140681   57.42759871\n",
      "  122.254407  ]\n",
      "[[ 1.          1.03022685 -1.75975454 ... -0.44265183  0.72388353\n",
      "  -0.32987966]\n",
      " [ 1.         -0.8836469  -1.60280629 ... -0.28546317 -0.53825123\n",
      "  -1.52472434]\n",
      " [ 1.          0.6629145  -0.08014252 ... -0.03732064 -0.44971204\n",
      "   0.06654353]\n",
      " ...\n",
      " [ 1.          0.28095849  1.44410398 ... -0.82293231  1.90369036\n",
      "  -0.19440283]\n",
      " [ 1.         -0.92092825 -0.81448472 ... -1.41129702  0.03619389\n",
      "   0.49660872]\n",
      " [ 1.         -0.10701076 -0.84175596 ...  0.52884532 -1.43831641\n",
      "  -0.80495399]]\n"
     ]
    }
   ],
   "source": [
    "print(Y)\n",
    "print(X)"
   ]
  },
  {
   "cell_type": "code",
   "execution_count": 30,
   "id": "442774ba",
   "metadata": {},
   "outputs": [
    {
     "name": "stdout",
     "output_type": "stream",
     "text": [
      "86.76406293988319\n"
     ]
    }
   ],
   "source": [
    "mini_batch_finalerror=mini_batch_errorlist[-1]\n",
    "print(mini_batch_finalerror)"
   ]
  },
  {
   "cell_type": "code",
   "execution_count": null,
   "id": "c2adbfff",
   "metadata": {},
   "outputs": [],
   "source": []
  },
  {
   "cell_type": "code",
   "execution_count": null,
   "id": "7ead38c3",
   "metadata": {},
   "outputs": [],
   "source": []
  },
  {
   "cell_type": "code",
   "execution_count": null,
   "id": "f1b65dda",
   "metadata": {},
   "outputs": [],
   "source": []
  }
 ],
 "metadata": {
  "kernelspec": {
   "display_name": "Python 3",
   "language": "python",
   "name": "python3"
  },
  "language_info": {
   "codemirror_mode": {
    "name": "ipython",
    "version": 3
   },
   "file_extension": ".py",
   "mimetype": "text/x-python",
   "name": "python",
   "nbconvert_exporter": "python",
   "pygments_lexer": "ipython3",
   "version": "3.8.8"
  }
 },
 "nbformat": 4,
 "nbformat_minor": 5
}
