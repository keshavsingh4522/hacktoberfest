{
 "cells": [
  {
   "cell_type": "code",
   "execution_count": 11,
   "metadata": {},
   "outputs": [
    {
     "name": "stdin",
     "output_type": "stream",
     "text": [
      " 20\n"
     ]
    },
    {
     "name": "stdout",
     "output_type": "stream",
     "text": [
      "1\n",
      "1\n",
      "2\n",
      "3\n",
      "4\n",
      "9\n",
      "8\n",
      "27\n",
      "16\n",
      "81\n",
      "32\n",
      "243\n",
      "64\n",
      "729\n",
      "128\n",
      "2187\n",
      "256\n",
      "6561\n",
      "512\n",
      "19683\n"
     ]
    }
   ],
   "source": [
    "n1=int(input())\n",
    "for n in range(1,n1+1):\n",
    "    if n%2:\n",
    "        print(2**(n//2))\n",
    "    else:\n",
    "        print(3**(n//2-1))"
   ]
  },
  {
   "cell_type": "code",
   "execution_count": 27,
   "metadata": {},
   "outputs": [
    {
     "name": "stdin",
     "output_type": "stream",
     "text": [
      " 3\n"
     ]
    },
    {
     "name": "stdout",
     "output_type": "stream",
     "text": [
      "2\n"
     ]
    }
   ],
   "source": [
    "# geometry series of 2 and 3\n",
    "# 1 1 2 3 4 9 8 27 16 81 32 243 64 729 128 2187 256 6561 512 19683\n",
    "n=int(input())\n",
    "if n%2:\n",
    "    print(2**(n//2))\n",
    "else:\n",
    "    print(3**(n//2-1))"
   ]
  },
  {
   "cell_type": "code",
   "execution_count": 24,
   "metadata": {},
   "outputs": [
    {
     "name": "stdin",
     "output_type": "stream",
     "text": [
      " 7\n"
     ]
    },
    {
     "name": "stdout",
     "output_type": "stream",
     "text": [
      "6\n"
     ]
    }
   ],
   "source": [
    "# 0 0 2 1 4 2 6 3 8 4 10 5 12 6 14 7\n",
    "def f(n):\n",
    "    if n==1 or n==2:\n",
    "        return 0\n",
    "    else:\n",
    "        if n%2:\n",
    "            return 2*(n//2)\n",
    "        else:\n",
    "            return (n//2-1)\n",
    "print(f(int(input())))\n"
   ]
  },
  {
   "cell_type": "code",
   "execution_count": 36,
   "metadata": {},
   "outputs": [
    {
     "name": "stdin",
     "output_type": "stream",
     "text": [
      " 7\n"
     ]
    },
    {
     "name": "stdout",
     "output_type": "stream",
     "text": [
      "21\n"
     ]
    }
   ],
   "source": [
    "# 1 2 3 5 8 13 21 ------\n",
    "# find nth term\n",
    "def f(n):\n",
    "    if n==1:\n",
    "        return 1\n",
    "    if n==2:\n",
    "        return 2\n",
    "    a=1\n",
    "    b=2\n",
    "    for i in range(n-3):\n",
    "        t=b\n",
    "        b=a+b\n",
    "        a=t\n",
    "    return a+b\n",
    "n=int(input())\n",
    "print(f(n))"
   ]
  },
  {
   "cell_type": "code",
   "execution_count": 38,
   "metadata": {},
   "outputs": [
    {
     "name": "stdin",
     "output_type": "stream",
     "text": [
      " aaaabbbbcdddeef\n"
     ]
    },
    {
     "name": "stdout",
     "output_type": "stream",
     "text": [
      "a4b4c1d3e2f1"
     ]
    }
   ],
   "source": [
    "'''\n",
    "input: aaabbcddf\n",
    "output: a3b2c1d2f1\n",
    "'''\n",
    "d={}\n",
    "s=input()\n",
    "for i in s:\n",
    "    d[i]=d.get(i,0)+1\n",
    "for i in d:\n",
    "    print(i,d[i],sep='',end='')"
   ]
  },
  {
   "cell_type": "code",
   "execution_count": null,
   "metadata": {},
   "outputs": [],
   "source": []
  }
 ],
 "metadata": {
  "kernelspec": {
   "display_name": "Python 3",
   "language": "python",
   "name": "python3"
  },
  "language_info": {
   "codemirror_mode": {
    "name": "ipython",
    "version": 3
   },
   "file_extension": ".py",
   "mimetype": "text/x-python",
   "name": "python",
   "nbconvert_exporter": "python",
   "pygments_lexer": "ipython3",
   "version": "3.8.5"
  }
 },
 "nbformat": 4,
 "nbformat_minor": 4
}
